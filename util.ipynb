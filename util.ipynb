{
 "cells": [
  {
   "cell_type": "code",
   "execution_count": null,
   "id": "736448b4-61a3-40df-9cb4-7e2b8bb1c980",
   "metadata": {},
   "outputs": [],
   "source": [
    "# Créer projet\n",
    "bd.projects.set_current(name='name')"
   ]
  },
  {
   "cell_type": "code",
   "execution_count": null,
   "id": "0f9a935a-9721-4491-b385-3bb8d33ece3a",
   "metadata": {},
   "outputs": [],
   "source": [
    "# Lister les projets\n",
    "list(bd.projects)"
   ]
  },
  {
   "cell_type": "code",
   "execution_count": null,
   "id": "0e27e4e4-5666-4210-adce-16420f5a1084",
   "metadata": {},
   "outputs": [],
   "source": [
    "# Créer une base de données :\n",
    "new_db = bd.Database('new_db').register()"
   ]
  },
  {
   "cell_type": "code",
   "execution_count": null,
   "id": "34a5a000-bec1-4c92-93c8-7d2fa0acab53",
   "metadata": {},
   "outputs": [],
   "source": [
    "# Lister les db\n",
    "list(bd.databases)"
   ]
  },
  {
   "cell_type": "code",
   "execution_count": null,
   "id": "7f27e1ac-c91e-4ab8-98c4-cae70d27500e",
   "metadata": {},
   "outputs": [],
   "source": [
    "# Attribuer db à variable\n",
    "new_db = bd.Database('new_db')"
   ]
  },
  {
   "cell_type": "code",
   "execution_count": null,
   "id": "6f83ed6d-093b-403a-a52d-a49bd76f2822",
   "metadata": {},
   "outputs": [],
   "source": [
    "# Checker les échanges dans une activité\n",
    "for act in activity_1.technosphere():\n",
    "    print(act.input, act.amount)"
   ]
  },
  {
   "cell_type": "code",
   "execution_count": null,
   "id": "9c72cc93-2a77-4291-8dc8-dfabcbef5267",
   "metadata": {},
   "outputs": [],
   "source": [
    "# Supprimer toutes les activités de la base de données\n",
    "for activity in new_db:\n",
    "    activity.delete()"
   ]
  },
  {
   "cell_type": "code",
   "execution_count": null,
   "id": "8755dff2-d8eb-4a6c-94bf-26437083ca35",
   "metadata": {},
   "outputs": [],
   "source": [
    "# Chercher une liste d'activités dans une bdd\n",
    "activity_1 = [\n",
    "    activity for activity in eidb\n",
    "    if 'activity_keyword_1' in activity['name']\n",
    "    and 'activity_keyword_2' in activity['name']   \n",
    "    and activity['location'] == 'RoW'\n",
    "]"
   ]
  },
  {
   "cell_type": "code",
   "execution_count": null,
   "id": "5a65e2bc-bc41-492b-80ec-ac36e8ff64d2",
   "metadata": {},
   "outputs": [],
   "source": [
    "# Sélectionner une activité dans une bdd\n",
    "activity_1 = [\n",
    "    activity for activity in eidb\n",
    "    if 'activity_keyword_1' in activity['name']\n",
    "    and 'activity_keyword_2' in activity['name']   \n",
    "    and activity['location'] == 'RoW'\n",
    "][0]"
   ]
  },
  {
   "cell_type": "code",
   "execution_count": null,
   "id": "1d2a4eec-bb1e-422b-9b75-c4afe29b8bc2",
   "metadata": {},
   "outputs": [],
   "source": [
    "# Lister toutes les activités dans ma bdd\n",
    "for activity in new_db.search('*'):\n",
    "    print(f\"{activity['name']}, {activity.key[1]}\")"
   ]
  },
  {
   "cell_type": "code",
   "execution_count": null,
   "id": "eb1a9d74-00cc-44a4-81d9-85c6e12369dd",
   "metadata": {},
   "outputs": [],
   "source": [
    "# Trouver une liste d'activités et lister les échanges de chaque activité\n",
    "\n",
    "# Step 1: Find all activities with 'waste_' in their name\n",
    "waste_activities = [act for act in elec_bl if 'waste_' in act['name']]\n",
    "\n",
    "# Step 2: Create a dictionary to map exchanges to the activities where they are found\n",
    "exchange_to_activities = {}\n",
    "\n",
    "for activity in waste_activities:\n",
    "    for exc in activity.exchanges():\n",
    "        exchange_name = exc.input['name']\n",
    "        if exchange_name not in exchange_to_activities:\n",
    "            # Initialize a list for the exchange if it's not already in the dictionary\n",
    "            exchange_to_activities[exchange_name] = []\n",
    "        # Add the activity name to the list for this exchange\n",
    "        exchange_to_activities[exchange_name].append(activity['name'])\n",
    "\n",
    "# Display the exchanges along with the list of activities in which they are found\n",
    "for exchange_name, activities in exchange_to_activities.items():\n",
    "    print(f\"Exchange: {exchange_name}, Found in activities: {', '.join(activities)}\")"
   ]
  },
  {
   "cell_type": "code",
   "execution_count": null,
   "id": "2bbeab70-011f-4947-ac7c-1f2111fa71ff",
   "metadata": {},
   "outputs": [],
   "source": [
    "# Lister les activités, exchanges et amounts pour une liste d'activités\n",
    "for activity in waste_activities:\n",
    "    # Skip the activity if it's in the excluded activities list\n",
    "    if activity['name'] in excluded_activities:\n",
    "        for exc in activity.exchanges():\n",
    "            print(activity['name'], ' : ', exc.input['name'], ' : ', exc['amount'])"
   ]
  },
  {
   "cell_type": "code",
   "execution_count": null,
   "id": "ab5e016f-32bd-47a1-9143-152acc0e8636",
   "metadata": {},
   "outputs": [],
   "source": [
    "# Lister les échanges avex un mot clé spécifique dans toutes les activités\n",
    "\n",
    "for activity in elec_bl:  # Remplace `liste_activites` par ta propre liste\n",
    "        # Parcourir les échanges de l'activité\n",
    "    is_transport = False\n",
    "    for exc in activity.exchanges():\n",
    "        if 'transport' in exc.input['name'].lower():  # Vérifier si 'transport' est dans le nom de l'échange\n",
    "            is_transport = True\n",
    "    if is_transport == True:\n",
    "        print(f\"Activité : {activity['name']}\")  # Afficher le nom de l'activité\n",
    "    # Parcourir les échanges de l'activité\n",
    "    for exc in activity.exchanges():\n",
    "        if 'transport' in exc.input['name'].lower():  # Vérifier si 'transport' est dans le nom de l'échange\n",
    "            print(f\"  - Échange : {exc.input['name']}\")  # Afficher le nom de l'échange\n"
   ]
  },
  {
   "cell_type": "code",
   "execution_count": null,
   "id": "537d166e-42a1-429a-af37-af98b4c4d5a2",
   "metadata": {},
   "outputs": [],
   "source": [
    "# Supprimer toutes les activités répondant à un critère de la base de données\n",
    "for activity in elec_bl:\n",
    "    if ', onsite' in activity['name'] or ', offsite' in activity['name']:\n",
    "        activity.delete()\n",
    "    else:\n",
    "        pass"
   ]
  },
  {
   "cell_type": "code",
   "execution_count": null,
   "id": "2525309d-f97d-4dad-9a8f-587606590b2a",
   "metadata": {},
   "outputs": [],
   "source": [
    "# Afficher les scénarios triés et les exchanges associés\n",
    "\n",
    "phase_activities = [act for act in elec_bl if 'phase' in act['name']]\n",
    "phase_order = ['production phase', 'distribution phase', 'use phase', 'end of life phase']\n",
    "\n",
    "def get_scenario_phase_location(activity):\n",
    "\n",
    "    parts_undr = activity['name'].split('_')\n",
    "    location = parts_undr[0]\n",
    "    parts_coma = parts_undr[1].split(', ')\n",
    "    scenario = parts_coma[0] + parts_coma[1]\n",
    "    phase = parts_coma[2]\n",
    "    return scenario, location, phase\n",
    "\n",
    "# Trier la liste des activités\n",
    "sorted_activities = sorted(\n",
    "    phase_activities,\n",
    "    key=lambda act: (\n",
    "        get_scenario_phase_location(act)[0],  # Trier par scénario\n",
    "        get_scenario_phase_location(act)[1],  # Trier par localisation\n",
    "        phase_order.index(get_scenario_phase_location(act)[2])  # Trier par phase selon l'ordre défini\n",
    "    )\n",
    ")\n",
    "\n",
    "# Afficher les activités triées\n",
    "for activity in sorted_activities:\n",
    "    print(f\"Activity: {activity['name']}\")\n",
    "    for exc in activity.exchanges():\n",
    "        print(f\"  - {exc.input['name']}\")\n",
    "    print(' ')"
   ]
  },
  {
   "cell_type": "code",
   "execution_count": null,
   "id": "8b613ab1-cea7-4e6f-9348-9748b835f258",
   "metadata": {},
   "outputs": [],
   "source": [
    "# Créer une nouvelle activité dans la base de données\n",
    "new_activity = test.new_activity(\n",
    "    code=\"unique_activity_code\",  # Code unique pour l'activité\n",
    "    name=\"My New Activity\",  # Nom de l'activité\n",
    "    unit=\"kilogram\",  # Unité de l'activité\n",
    "    type=\"process\",  # Type d'activité\n",
    ")\n",
    "\n",
    "# Sauvegarder l'activité dans la base de données\n",
    "new_activity.save()\n",
    "\n",
    "print(f\"Activity {new_activity['name']} created successfully in {test}.\")"
   ]
  }
 ],
 "metadata": {
  "kernelspec": {
   "display_name": "Python 3 (ipykernel)",
   "language": "python",
   "name": "python3"
  },
  "language_info": {
   "codemirror_mode": {
    "name": "ipython",
    "version": 3
   },
   "file_extension": ".py",
   "mimetype": "text/x-python",
   "name": "python",
   "nbconvert_exporter": "python",
   "pygments_lexer": "ipython3",
   "version": "3.12.3"
  }
 },
 "nbformat": 4,
 "nbformat_minor": 5
}

{
 "cells": [
  {
   "cell_type": "code",
   "execution_count": 2,
   "id": "83a5be1b-2a49-4447-a397-661c604fe569",
   "metadata": {},
   "outputs": [],
   "source": [
    "import bw2analyzer as ba\n",
    "import bw2calc as bc\n",
    "import bw2data as bd\n",
    "import bw2io as bi"
   ]
  },
  {
   "cell_type": "code",
   "execution_count": 3,
   "id": "32eae680-2a87-48f7-9bc0-d2285c54b47f",
   "metadata": {},
   "outputs": [],
   "source": [
    "bd.projects.set_current(name='DOC_casestudies')"
   ]
  },
  {
   "cell_type": "code",
   "execution_count": 7,
   "id": "91a8b2c5-45e6-450e-b297-ae899966212b",
   "metadata": {},
   "outputs": [
    {
     "data": {
      "text/plain": [
       "['ecoinvent-3.8-biosphere',\n",
       " 'ecoinvent-3.8-cutoff',\n",
       " 'case_study_data',\n",
       " 'test_db']"
      ]
     },
     "execution_count": 7,
     "metadata": {},
     "output_type": "execute_result"
    }
   ],
   "source": [
    "list(bd.databases)"
   ]
  },
  {
   "cell_type": "code",
   "execution_count": 5,
   "id": "8a214c17-d9f1-49a3-b8f4-ae347c6a915e",
   "metadata": {},
   "outputs": [],
   "source": [
    "eidb = bd.Database(\"ecoinvent-3.8-cutoff\")"
   ]
  },
  {
   "cell_type": "code",
   "execution_count": 61,
   "id": "ddc7dede-ef5c-462c-b373-351e04e805f0",
   "metadata": {
    "collapsed": true,
    "jupyter": {
     "outputs_hidden": true,
     "source_hidden": true
    }
   },
   "outputs": [
    {
     "name": "stdout",
     "output_type": "stream",
     "text": [
      "('IMPACT World+ World', 'Midpoint', 'Freshwater ecotoxicity')\n",
      "('IMPACT World+ World', 'Midpoint', 'Human toxicity cancer')\n",
      "('IMPACT World+ World', 'Midpoint', 'Human toxicity non-cancer')\n",
      "('IMPACT World+ World', 'Midpoint', 'Particulate matter formation')\n",
      "('IMPACT World+ World', 'Midpoint', 'Marine eutrophication')\n",
      "('IMPACT World+ World', 'Midpoint', 'Freshwater eutrophication')\n",
      "('IMPACT World+ World', 'Midpoint', 'Terrestrial acidification')\n",
      "('IMPACT World+ World', 'Midpoint', 'Freshwater acidification')\n",
      "('IMPACT World+ World', 'Midpoint', 'Water scarcity')\n",
      "('IMPACT World+ World', 'Midpoint', 'Land occupation, biodiversity')\n",
      "('IMPACT World+ World', 'Midpoint', 'Land transformation, biodiversity')\n"
     ]
    }
   ],
   "source": [
    "for method in bd.methods:\n",
    "    if 'IMPACT World+ World' in method[0]:\n",
    "        #if 'Marine eutrophication' in method[2]:\n",
    "            print(method)"
   ]
  },
  {
   "cell_type": "code",
   "execution_count": 53,
   "id": "5b0e663a-a3a8-4bf4-8777-4ee607c94d46",
   "metadata": {
    "jupyter": {
     "source_hidden": true
    },
    "scrolled": true
   },
   "outputs": [],
   "source": [
    "# Getting an activity's name using its key\n",
    "random_act = eidb.random()\n",
    "#random_act.as_dict()"
   ]
  },
  {
   "cell_type": "code",
   "execution_count": 54,
   "id": "1f89a333-0bf0-46eb-a057-2af0d2d178da",
   "metadata": {
    "collapsed": true,
    "jupyter": {
     "outputs_hidden": true,
     "source_hidden": true
    }
   },
   "outputs": [
    {
     "data": {
      "text/plain": [
       "'market for wood preservation, oscillating pressure method, inorganic salt, containing Cr, outdoor use, ground contact' (kilogram, GLO, None)"
      ]
     },
     "execution_count": 54,
     "metadata": {},
     "output_type": "execute_result"
    }
   ],
   "source": [
    "random_act"
   ]
  },
  {
   "cell_type": "code",
   "execution_count": 47,
   "id": "3308ee5b-a4d7-497a-912b-3fcb022dc82c",
   "metadata": {
    "collapsed": true,
    "jupyter": {
     "outputs_hidden": true,
     "source_hidden": true
    }
   },
   "outputs": [
    {
     "name": "stdout",
     "output_type": "stream",
     "text": [
      "Exchange: 7100.0 cubic meter 'market for concrete, normal' (cubic meter, RoW, None) to 'mine infrastructure construction, open cast, peat' (unit, NORDEL, None)>\n",
      "Exchange: 4000000.0 kilogram 'market for steel, low-alloyed, hot rolled' (kilogram, GLO, None) to 'mine infrastructure construction, open cast, peat' (unit, NORDEL, None)>\n",
      "Exchange: 1.0 unit 'mine infrastructure construction, open cast, peat' (unit, NORDEL, None) to 'mine infrastructure construction, open cast, peat' (unit, NORDEL, None)>\n",
      "Exchange: 100000000.0 megajoule 'market for diesel, burned in building machine' (megajoule, GLO, None) to 'mine infrastructure construction, open cast, peat' (unit, NORDEL, None)>\n",
      "Exchange: 700000.0 kilogram 'market for copper, cathode' (kilogram, GLO, None) to 'mine infrastructure construction, open cast, peat' (unit, NORDEL, None)>\n",
      "Exchange: 100000000.0 megajoule 'market for heat, district or industrial, other than natural gas' (megajoule, Europe without Switzerland, None) to 'mine infrastructure construction, open cast, peat' (unit, NORDEL, None)>\n",
      "Exchange: 5500.0 cubic meter 'market for plywood' (cubic meter, RER, None) to 'mine infrastructure construction, open cast, peat' (unit, NORDEL, None)>\n",
      "Exchange: 13000000.0 kilogram 'market for reinforcing steel' (kilogram, GLO, None) to 'mine infrastructure construction, open cast, peat' (unit, NORDEL, None)>\n",
      "Exchange: 3263468.00303098 kilowatt hour 'market for electricity, medium voltage' (kilowatt hour, SE, None) to 'mine infrastructure construction, open cast, peat' (unit, NORDEL, None)>\n",
      "Exchange: 3169688.19623841 kilowatt hour 'market for electricity, medium voltage' (kilowatt hour, NO, None) to 'mine infrastructure construction, open cast, peat' (unit, NORDEL, None)>\n",
      "Exchange: 1896843.80073061 kilowatt hour 'market for electricity, medium voltage' (kilowatt hour, FI, None) to 'mine infrastructure construction, open cast, peat' (unit, NORDEL, None)>\n",
      "Exchange: -1178015.81450204 kilogram 'market for waste wood, untreated' (kilogram, SE, None) to 'mine infrastructure construction, open cast, peat' (unit, NORDEL, None)>\n",
      "Exchange: -742837.51263618 kilogram 'market for waste wood, untreated' (kilogram, NO, None) to 'mine infrastructure construction, open cast, peat' (unit, NORDEL, None)>\n",
      "Exchange: -1079146.67286178 kilogram 'market for waste wood, untreated' (kilogram, FI, None) to 'mine infrastructure construction, open cast, peat' (unit, NORDEL, None)>\n"
     ]
    }
   ],
   "source": [
    "for exc in random_act.exchanges():\n",
    "    print(exc)"
   ]
  },
  {
   "cell_type": "code",
   "execution_count": 48,
   "id": "daa72461-464a-4810-b813-3317866148e6",
   "metadata": {
    "collapsed": true,
    "jupyter": {
     "outputs_hidden": true,
     "source_hidden": true
    }
   },
   "outputs": [
    {
     "name": "stdout",
     "output_type": "stream",
     "text": [
      "Exchange: 7100.0 cubic meter 'market for concrete, normal' (cubic meter, RoW, None) to 'mine infrastructure construction, open cast, peat' (unit, NORDEL, None)>\n",
      "Exchange: 4000000.0 kilogram 'market for steel, low-alloyed, hot rolled' (kilogram, GLO, None) to 'mine infrastructure construction, open cast, peat' (unit, NORDEL, None)>\n",
      "Exchange: 100000000.0 megajoule 'market for diesel, burned in building machine' (megajoule, GLO, None) to 'mine infrastructure construction, open cast, peat' (unit, NORDEL, None)>\n",
      "Exchange: 700000.0 kilogram 'market for copper, cathode' (kilogram, GLO, None) to 'mine infrastructure construction, open cast, peat' (unit, NORDEL, None)>\n",
      "Exchange: 100000000.0 megajoule 'market for heat, district or industrial, other than natural gas' (megajoule, Europe without Switzerland, None) to 'mine infrastructure construction, open cast, peat' (unit, NORDEL, None)>\n",
      "Exchange: 5500.0 cubic meter 'market for plywood' (cubic meter, RER, None) to 'mine infrastructure construction, open cast, peat' (unit, NORDEL, None)>\n",
      "Exchange: 13000000.0 kilogram 'market for reinforcing steel' (kilogram, GLO, None) to 'mine infrastructure construction, open cast, peat' (unit, NORDEL, None)>\n",
      "Exchange: 3263468.00303098 kilowatt hour 'market for electricity, medium voltage' (kilowatt hour, SE, None) to 'mine infrastructure construction, open cast, peat' (unit, NORDEL, None)>\n",
      "Exchange: 3169688.19623841 kilowatt hour 'market for electricity, medium voltage' (kilowatt hour, NO, None) to 'mine infrastructure construction, open cast, peat' (unit, NORDEL, None)>\n",
      "Exchange: 1896843.80073061 kilowatt hour 'market for electricity, medium voltage' (kilowatt hour, FI, None) to 'mine infrastructure construction, open cast, peat' (unit, NORDEL, None)>\n",
      "Exchange: -1178015.81450204 kilogram 'market for waste wood, untreated' (kilogram, SE, None) to 'mine infrastructure construction, open cast, peat' (unit, NORDEL, None)>\n",
      "Exchange: -742837.51263618 kilogram 'market for waste wood, untreated' (kilogram, NO, None) to 'mine infrastructure construction, open cast, peat' (unit, NORDEL, None)>\n",
      "Exchange: -1079146.67286178 kilogram 'market for waste wood, untreated' (kilogram, FI, None) to 'mine infrastructure construction, open cast, peat' (unit, NORDEL, None)>\n"
     ]
    }
   ],
   "source": [
    "for exc in random_act.technosphere():\n",
    "    print(exc)"
   ]
  },
  {
   "cell_type": "code",
   "execution_count": 55,
   "id": "cca1e926-efb7-49c8-9135-6fb5694a7b52",
   "metadata": {
    "jupyter": {
     "source_hidden": true
    },
    "scrolled": true
   },
   "outputs": [],
   "source": [
    "for exc in random_act.biosphere():\n",
    "    print(exc)"
   ]
  },
  {
   "cell_type": "code",
   "execution_count": 56,
   "id": "1578c381-2c39-488a-90e9-0ab36cf5286c",
   "metadata": {
    "collapsed": true,
    "jupyter": {
     "outputs_hidden": true,
     "source_hidden": true
    }
   },
   "outputs": [
    {
     "name": "stdout",
     "output_type": "stream",
     "text": [
      "('ecoinvent-3.8', 'EF v3.0', 'climate change', 'global warming potential (GWP100)')\n",
      "Brightway2 Method: ecoinvent-3.8: EF v3.0: climate change: global warming potential (GWP100)\n"
     ]
    }
   ],
   "source": [
    "ef_gwp_key = [\n",
    "    m for m in bd.methods if \"climate change\" == m[2] and \"EF v3.0\" == m[1]\n",
    "].pop()\n",
    "print(ef_gwp_key)\n",
    "\n",
    "# We can look at the method details\n",
    "ef_gwp_method = bd.Method(ef_gwp_key)\n",
    "print(ef_gwp_method)"
   ]
  },
  {
   "cell_type": "code",
   "execution_count": 57,
   "id": "9ea9ba71-602c-4e53-8fb2-c6d515c2a2a3",
   "metadata": {
    "collapsed": true,
    "jupyter": {
     "outputs_hidden": true,
     "source_hidden": true
    }
   },
   "outputs": [
    {
     "data": {
      "text/plain": [
       "3.9043795878924636"
      ]
     },
     "execution_count": 57,
     "metadata": {},
     "output_type": "execute_result"
    }
   ],
   "source": [
    "my_functional_unit, data_objs, _ = bd.prepare_lca_inputs(\n",
    "    {random_act: 1},\n",
    "    method=ef_gwp_key,\n",
    ")\n",
    "my_lca = bc.LCA(demand=my_functional_unit, data_objs=data_objs)\n",
    "my_lca.lci()\n",
    "my_lca.lcia()\n",
    "my_lca.score"
   ]
  },
  {
   "cell_type": "code",
   "execution_count": 6,
   "id": "d5546f3e-4072-4ea1-8666-63b139f14a09",
   "metadata": {},
   "outputs": [],
   "source": [
    "case_studies = bd.Database('test_db').register()"
   ]
  },
  {
   "cell_type": "code",
   "execution_count": 8,
   "id": "7895b87d-7089-4857-b374-43bc7d8c351d",
   "metadata": {},
   "outputs": [],
   "source": [
    "test_db = bd.Database(\"test_db\")"
   ]
  },
  {
   "cell_type": "code",
   "execution_count": 22,
   "id": "492e02e7-530b-4025-841a-8d026fcce2c7",
   "metadata": {},
   "outputs": [],
   "source": [
    "for activity in test_db:\n",
    "    print(activity['name'])"
   ]
  },
  {
   "cell_type": "code",
   "execution_count": 21,
   "id": "3fcb2d85-ef3b-4d18-aa21-7a1376e3047b",
   "metadata": {},
   "outputs": [],
   "source": [
    "for activity in test_db:\n",
    "    activity.delete()"
   ]
  },
  {
   "cell_type": "code",
   "execution_count": 23,
   "id": "9bff3f02-ac62-47e2-9a96-c5a1971fa1b4",
   "metadata": {},
   "outputs": [],
   "source": [
    "new_activity = test_db.new_activity(\n",
    "            code='test_activity_241205',  # Générer un code unique\n",
    "            name='test_activity',\n",
    "            unit=\"item\",  # Unité en termes d'items\n",
    "            type=\"process\",  # Type d'activité\n",
    "        )\n",
    "        \n",
    "# Sauvegarder l'activité\n",
    "new_activity.save()\n"
   ]
  },
  {
   "cell_type": "code",
   "execution_count": 24,
   "id": "86b07e01-0512-41dc-8e16-c8fe60f9a6e3",
   "metadata": {},
   "outputs": [
    {
     "data": {
      "text/plain": [
       "'test_activity' (item, GLO, None)"
      ]
     },
     "execution_count": 24,
     "metadata": {},
     "output_type": "execute_result"
    }
   ],
   "source": [
    "test_activity = [act for act in test_db if 'test_activity' in act['name']].pop()\n",
    "test_activity"
   ]
  },
  {
   "cell_type": "code",
   "execution_count": 11,
   "id": "76fb0a63-91a0-4493-9cde-92271254562c",
   "metadata": {},
   "outputs": [
    {
     "data": {
      "text/plain": [
       "'aircraft production, belly-freight aircraft, medium haul' (unit, GLO, None)"
      ]
     },
     "execution_count": 11,
     "metadata": {},
     "output_type": "execute_result"
    }
   ],
   "source": [
    "random_activity = eidb.random()\n",
    "random_activity"
   ]
  },
  {
   "cell_type": "code",
   "execution_count": 25,
   "id": "7ac14d8b-5680-4844-a480-f454ea70d089",
   "metadata": {},
   "outputs": [],
   "source": [
    "new_exchange = test_activity.new_exchange(\n",
    "                    amount=15,\n",
    "                    input=random_activity,\n",
    "                    type='technosphere',#sub_exc['type'],\n",
    "                    unit=random_activity['unit']\n",
    "                )\n",
    "new_exchange.save()"
   ]
  },
  {
   "cell_type": "code",
   "execution_count": 26,
   "id": "7c06b928-dcd2-4976-ab45-ba0cb47248ee",
   "metadata": {},
   "outputs": [],
   "source": [
    "new_exchange = test_activity.new_exchange(\n",
    "                    amount=1,\n",
    "                    input=test_activity,\n",
    "                    type='production',#sub_exc['type'],\n",
    "                    unit=test_activity['unit']\n",
    "                )\n",
    "new_exchange.save()"
   ]
  },
  {
   "cell_type": "code",
   "execution_count": 27,
   "id": "0f18895e-3dda-4c4e-b1ec-0a31afdbbd07",
   "metadata": {},
   "outputs": [
    {
     "name": "stdout",
     "output_type": "stream",
     "text": [
      "aircraft production, belly-freight aircraft, medium haul\n",
      "test_activity\n"
     ]
    }
   ],
   "source": [
    "for exc in test_activity.exchanges():\n",
    "    print(exc.input['name'])"
   ]
  },
  {
   "cell_type": "code",
   "execution_count": 28,
   "id": "6269349f-75b5-46af-8f90-f479a04d91bb",
   "metadata": {},
   "outputs": [
    {
     "name": "stdout",
     "output_type": "stream",
     "text": [
      "We have 11 IMPACT World+ World methods we will evaluate.\n"
     ]
    }
   ],
   "source": [
    "iww_methods = list(filter(lambda x: \"IMPACT World+ World\" in x[0], list(bd.methods)))\n",
    "print(\"We have\", len(iww_methods), \"IMPACT World+ World methods we will evaluate.\")"
   ]
  },
  {
   "cell_type": "code",
   "execution_count": 29,
   "id": "101dfc38-e236-4d79-9ca1-909d8fee9d2c",
   "metadata": {},
   "outputs": [],
   "source": [
    "functional_units_1 = {\n",
    "    \"activity\": {test_activity.id: 1},\n",
    "}\n",
    "config_1 = {\n",
    "    \"impact_categories\": iww_methods\n",
    "}\n",
    "data_objs_1 = bd.get_multilca_data_objs(functional_units=functional_units_1, method_config=config_1)"
   ]
  },
  {
   "cell_type": "code",
   "execution_count": 30,
   "id": "db91d2b1-b35e-4fb1-8f44-0fea58bcf147",
   "metadata": {},
   "outputs": [
    {
     "data": {
      "text/plain": [
       "{(('IMPACT World+ World', 'Midpoint', 'Freshwater ecotoxicity'),\n",
       "  'activity'): 5338159917.427805,\n",
       " (('IMPACT World+ World', 'Midpoint', 'Human toxicity cancer'),\n",
       "  'activity'): 1.3625324302835486,\n",
       " (('IMPACT World+ World', 'Midpoint', 'Human toxicity non-cancer'),\n",
       "  'activity'): 4.440635502898678,\n",
       " (('IMPACT World+ World', 'Midpoint', 'Particulate matter formation'),\n",
       "  'activity'): 32114.615982585907,\n",
       " (('IMPACT World+ World', 'Midpoint', 'Marine eutrophication'),\n",
       "  'activity'): 5090.938644571369,\n",
       " (('IMPACT World+ World', 'Midpoint', 'Freshwater eutrophication'),\n",
       "  'activity'): 14704.07213653994,\n",
       " (('IMPACT World+ World', 'Midpoint', 'Terrestrial acidification'),\n",
       "  'activity'): 299534.18397185975,\n",
       " (('IMPACT World+ World', 'Midpoint', 'Freshwater acidification'),\n",
       "  'activity'): 299534.18397185975,\n",
       " (('IMPACT World+ World', 'Midpoint', 'Water scarcity'),\n",
       "  'activity'): 12928599.789348602,\n",
       " (('IMPACT World+ World', 'Midpoint', 'Land occupation, biodiversity'),\n",
       "  'activity'): 450728.03668804653,\n",
       " (('IMPACT World+ World', 'Midpoint', 'Land transformation, biodiversity'),\n",
       "  'activity'): -6635.007075547523}"
      ]
     },
     "execution_count": 30,
     "metadata": {},
     "output_type": "execute_result"
    }
   ],
   "source": [
    "mlca_1 = bc.MultiLCA(demands=functional_units_1, method_config=config_1, data_objs=data_objs_1)\n",
    "mlca_1.lci()\n",
    "mlca_1.lcia()\n",
    "mlca_1.scores"
   ]
  },
  {
   "cell_type": "code",
   "execution_count": 31,
   "id": "4b29bf99-94c7-4f2f-a665-b85956780662",
   "metadata": {},
   "outputs": [],
   "source": [
    "new_activity = test_db.new_activity(\n",
    "            code='test_subactivity_241205',  # Générer un code unique\n",
    "            name='test_subactivity',\n",
    "            unit=\"item\",  # Unité en termes d'items\n",
    "            type=\"process\",  # Type d'activité\n",
    "        )\n",
    "        \n",
    "# Sauvegarder l'activité\n",
    "new_activity.save()\n"
   ]
  },
  {
   "cell_type": "code",
   "execution_count": 32,
   "id": "90d94c38-9d44-43b5-ad09-389d979012a3",
   "metadata": {},
   "outputs": [
    {
     "data": {
      "text/plain": [
       "'test_subactivity' (item, GLO, None)"
      ]
     },
     "execution_count": 32,
     "metadata": {},
     "output_type": "execute_result"
    }
   ],
   "source": [
    "test_subactivity = [act for act in test_db if 'test_subactivity' in act['name']].pop()\n",
    "test_subactivity"
   ]
  },
  {
   "cell_type": "code",
   "execution_count": 33,
   "id": "e508bf22-71c7-44da-b6d0-f1dac93f0d26",
   "metadata": {},
   "outputs": [
    {
     "data": {
      "text/plain": [
       "'photovoltaic mounting system production, for flat-roof installation' (square meter, RoW, None)"
      ]
     },
     "execution_count": 33,
     "metadata": {},
     "output_type": "execute_result"
    }
   ],
   "source": [
    "random_activity_2 = eidb.random()\n",
    "random_activity_2"
   ]
  },
  {
   "cell_type": "code",
   "execution_count": 34,
   "id": "3ba827e3-0b03-4a05-8223-9facfb4a7900",
   "metadata": {},
   "outputs": [],
   "source": [
    "new_exchange = test_subactivity.new_exchange(\n",
    "                    amount=15,\n",
    "                    input=random_activity_2,\n",
    "                    type='technosphere',#sub_exc['type'],\n",
    "                    unit=random_activity['unit']\n",
    "                )\n",
    "new_exchange.save()"
   ]
  },
  {
   "cell_type": "code",
   "execution_count": 35,
   "id": "4a54be51-44a7-4f76-9e91-9215f1c61f0f",
   "metadata": {},
   "outputs": [],
   "source": [
    "new_exchange = test_subactivity.new_exchange(\n",
    "                    amount=1,\n",
    "                    input=test_subactivity,\n",
    "                    type='production',#sub_exc['type'],\n",
    "                    unit=test_subactivity['unit']\n",
    "                )\n",
    "new_exchange.save()"
   ]
  },
  {
   "cell_type": "code",
   "execution_count": 37,
   "id": "eb1c5948-81b0-4001-a1f4-4afc9a69d071",
   "metadata": {},
   "outputs": [
    {
     "name": "stdout",
     "output_type": "stream",
     "text": [
      "photovoltaic mounting system production, for flat-roof installation\n",
      "test_subactivity\n"
     ]
    }
   ],
   "source": [
    "for exc in test_subactivity.exchanges():\n",
    "    print(exc.input['name'])"
   ]
  },
  {
   "cell_type": "code",
   "execution_count": 38,
   "id": "baa28753-8b5e-4100-9b24-333a53210f45",
   "metadata": {},
   "outputs": [],
   "source": [
    "new_exchange = test_activity.new_exchange(\n",
    "                    amount=3,\n",
    "                    input=test_subactivity,\n",
    "                    type='technosphere',#sub_exc['type'],\n",
    "                    unit=test_subactivity['unit']\n",
    "                )\n",
    "new_exchange.save()"
   ]
  },
  {
   "cell_type": "code",
   "execution_count": 39,
   "id": "27039299-654c-4397-8348-24bc6be110ff",
   "metadata": {},
   "outputs": [
    {
     "name": "stdout",
     "output_type": "stream",
     "text": [
      "aircraft production, belly-freight aircraft, medium haul\n",
      "test_activity\n",
      "test_subactivity\n"
     ]
    }
   ],
   "source": [
    "for exc in test_activity.exchanges():\n",
    "    print(exc.input['name'])"
   ]
  },
  {
   "cell_type": "code",
   "execution_count": 41,
   "id": "d846351c-b4a7-41a3-92b4-bdc7b69bd10c",
   "metadata": {},
   "outputs": [],
   "source": [
    "functional_units_1 = {\n",
    "    \"activity\": {test_activity.id: 1},\n",
    "}\n",
    "config_1 = {\n",
    "    \"impact_categories\": iww_methods\n",
    "}\n",
    "data_objs_1 = bd.get_multilca_data_objs(functional_units=functional_units_1, method_config=config_1)"
   ]
  },
  {
   "cell_type": "code",
   "execution_count": 42,
   "id": "cfbdf5ce-16af-4c74-8ba4-11feb9fac175",
   "metadata": {},
   "outputs": [
    {
     "data": {
      "text/plain": [
       "{(('IMPACT World+ World', 'Midpoint', 'Freshwater ecotoxicity'),\n",
       "  'activity'): 5338343831.987313,\n",
       " (('IMPACT World+ World', 'Midpoint', 'Human toxicity cancer'),\n",
       "  'activity'): 1.3626457554321096,\n",
       " (('IMPACT World+ World', 'Midpoint', 'Human toxicity non-cancer'),\n",
       "  'activity'): 4.440969577394308,\n",
       " (('IMPACT World+ World', 'Midpoint', 'Particulate matter formation'),\n",
       "  'activity'): 32115.831121607524,\n",
       " (('IMPACT World+ World', 'Midpoint', 'Marine eutrophication'),\n",
       "  'activity'): 5091.108456793461,\n",
       " (('IMPACT World+ World', 'Midpoint', 'Freshwater eutrophication'),\n",
       "  'activity'): 14704.099051467287,\n",
       " (('IMPACT World+ World', 'Midpoint', 'Terrestrial acidification'),\n",
       "  'activity'): 299542.6123288315,\n",
       " (('IMPACT World+ World', 'Midpoint', 'Freshwater acidification'),\n",
       "  'activity'): 299542.6123288315,\n",
       " (('IMPACT World+ World', 'Midpoint', 'Water scarcity'),\n",
       "  'activity'): 12929324.736814499,\n",
       " (('IMPACT World+ World', 'Midpoint', 'Land occupation, biodiversity'),\n",
       "  'activity'): 450749.4638403008,\n",
       " (('IMPACT World+ World', 'Midpoint', 'Land transformation, biodiversity'),\n",
       "  'activity'): -6635.159230635858}"
      ]
     },
     "execution_count": 42,
     "metadata": {},
     "output_type": "execute_result"
    }
   ],
   "source": [
    "mlca_1 = bc.MultiLCA(demands=functional_units_1, method_config=config_1, data_objs=data_objs_1)\n",
    "mlca_1.lci()\n",
    "mlca_1.lcia()\n",
    "mlca_1.scores"
   ]
  },
  {
   "cell_type": "code",
   "execution_count": null,
   "id": "19f52cb9-8c5c-4c2c-b6cb-6258090ec967",
   "metadata": {},
   "outputs": [],
   "source": []
  }
 ],
 "metadata": {
  "kernelspec": {
   "display_name": "Python 3 (ipykernel)",
   "language": "python",
   "name": "python3"
  },
  "language_info": {
   "codemirror_mode": {
    "name": "ipython",
    "version": 3
   },
   "file_extension": ".py",
   "mimetype": "text/x-python",
   "name": "python",
   "nbconvert_exporter": "python",
   "pygments_lexer": "ipython3",
   "version": "3.12.3"
  }
 },
 "nbformat": 4,
 "nbformat_minor": 5
}

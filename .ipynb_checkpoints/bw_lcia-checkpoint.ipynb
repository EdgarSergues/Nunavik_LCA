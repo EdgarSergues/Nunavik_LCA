{
 "cells": [
  {
   "cell_type": "markdown",
   "id": "b689b925-d537-45ad-a98a-3521f0330a00",
   "metadata": {},
   "source": [
    "#### First import all relevant libraries"
   ]
  },
  {
   "cell_type": "code",
   "execution_count": null,
   "id": "83a5be1b-2a49-4447-a397-661c604fe569",
   "metadata": {},
   "outputs": [],
   "source": [
    "import bw2analyzer as ba\n",
    "import bw2calc as bc\n",
    "import bw2data as bd\n",
    "import bw2io as bi"
   ]
  },
  {
   "cell_type": "markdown",
   "id": "59e55b9e-4037-4f0a-b15e-5648d06461db",
   "metadata": {},
   "source": [
    "#### Setup the project, you will need to create a project and import ecoinvent"
   ]
  },
  {
   "cell_type": "code",
   "execution_count": null,
   "id": "32eae680-2a87-48f7-9bc0-d2285c54b47f",
   "metadata": {},
   "outputs": [],
   "source": [
    "bd.projects.set_current(name='test')"
   ]
  },
  {
   "cell_type": "code",
   "execution_count": null,
   "id": "f47e6e23-8df2-41a2-9649-29dec0a21f28",
   "metadata": {},
   "outputs": [],
   "source": [
    "# Importer ecoinvent\n",
    "bi.import_ecoinvent_release(\n",
    "    version='3.8',\n",
    "    system_model='cutoff',\n",
    "    username='a',\n",
    "    password='A'\n",
    ")"
   ]
  },
  {
   "cell_type": "code",
   "execution_count": null,
   "id": "91a8b2c5-45e6-450e-b297-ae899966212b",
   "metadata": {},
   "outputs": [],
   "source": [
    "list(bd.databases)"
   ]
  },
  {
   "cell_type": "markdown",
   "id": "37a5a275-ebd8-4c27-88b0-6c4035f0112a",
   "metadata": {},
   "source": [
    "#### Now, let's explore ecoinvent data to see what it looks like :\n",
    "\n",
    "    - Check a random activity and its parameters\n",
    "    - Explore its exchanges"
   ]
  },
  {
   "cell_type": "code",
   "execution_count": null,
   "id": "8a214c17-d9f1-49a3-b8f4-ae347c6a915e",
   "metadata": {},
   "outputs": [],
   "source": [
    "eidb = bd.Database(\"ecoinvent-3.8-cutoff\")"
   ]
  },
  {
   "cell_type": "code",
   "execution_count": null,
   "id": "5b0e663a-a3a8-4bf4-8777-4ee607c94d46",
   "metadata": {
    "scrolled": true
   },
   "outputs": [],
   "source": [
    "random_act = eidb.random()"
   ]
  },
  {
   "cell_type": "code",
   "execution_count": null,
   "id": "1f89a333-0bf0-46eb-a057-2af0d2d178da",
   "metadata": {},
   "outputs": [],
   "source": [
    "random_act"
   ]
  },
  {
   "cell_type": "code",
   "execution_count": null,
   "id": "f9234f2e-7833-4015-a358-57fb1a78f00e",
   "metadata": {},
   "outputs": [],
   "source": [
    "random_act.as_dict()"
   ]
  },
  {
   "cell_type": "code",
   "execution_count": null,
   "id": "3308ee5b-a4d7-497a-912b-3fcb022dc82c",
   "metadata": {},
   "outputs": [],
   "source": [
    "for exc in random_act.exchanges():\n",
    "    print(exc)"
   ]
  },
  {
   "cell_type": "code",
   "execution_count": null,
   "id": "daa72461-464a-4810-b813-3317866148e6",
   "metadata": {},
   "outputs": [],
   "source": [
    "for exc in random_act.technosphere():\n",
    "    print(exc)"
   ]
  },
  {
   "cell_type": "code",
   "execution_count": null,
   "id": "cca1e926-efb7-49c8-9135-6fb5694a7b52",
   "metadata": {
    "scrolled": true
   },
   "outputs": [],
   "source": [
    "for exc in random_act.biosphere():\n",
    "    print(exc)"
   ]
  },
  {
   "cell_type": "markdown",
   "id": "4437e614-6a31-4f14-9214-cdf72f27d730",
   "metadata": {},
   "source": [
    "#### What about finding a specific activity ?\n",
    "\n",
    "    - First build a list of processes of electricity production in Québec (CA-QC)\n",
    "    - Then refine the search to get a list of one single activity\n",
    "    - Stock the activity in a variable"
   ]
  },
  {
   "cell_type": "code",
   "execution_count": null,
   "id": "cf6970a7-5474-43f2-a991-7b06446587e4",
   "metadata": {},
   "outputs": [],
   "source": [
    "electricity_activities_list = [act for act in eidb if 'electricity production' in act['name'] and act['location'] == 'CA-QC']\n",
    "electricity_activities_list"
   ]
  },
  {
   "cell_type": "code",
   "execution_count": null,
   "id": "b0250368-eef4-4b6f-8168-d9222e49f563",
   "metadata": {},
   "outputs": [],
   "source": [
    "electricity_activities_list = [act for act in eidb if 'electricity production, photovoltaic, 3kWp slanted-roof installation, multi-Si, panel, mounted' in act['name'] and act['location'] == 'CA-QC']\n",
    "electricity_activities_list"
   ]
  },
  {
   "cell_type": "code",
   "execution_count": null,
   "id": "51b03d5a-6472-4b46-afd2-8dff66f1761e",
   "metadata": {},
   "outputs": [],
   "source": [
    "electricity_activity = [act for act in eidb if 'electricity production, photovoltaic, 3kWp slanted-roof installation, multi-Si, panel, mounted' in act['name'] and act['location'] == 'CA-QC'].pop()\n",
    "electricity_activity"
   ]
  },
  {
   "cell_type": "markdown",
   "id": "6338ac58-3c45-4b6c-8ffb-399ad687a430",
   "metadata": {},
   "source": [
    "#### Now let's create our own activities :\n",
    "    \n",
    "    - First lets create our own database, check that it's empty and flush it if it is not\n",
    "    - Then we create a new activity in our database and store it in a variable\n",
    "    - Now add exchanges, one is needed for calculation (type = production) the others point to ecoinvent activities (type = technosphere)"
   ]
  },
  {
   "cell_type": "code",
   "execution_count": null,
   "id": "d5546f3e-4072-4ea1-8666-63b139f14a09",
   "metadata": {},
   "outputs": [],
   "source": [
    "bd.Database('test_db').register()"
   ]
  },
  {
   "cell_type": "code",
   "execution_count": null,
   "id": "7895b87d-7089-4857-b374-43bc7d8c351d",
   "metadata": {},
   "outputs": [],
   "source": [
    "test_db = bd.Database(\"test_db\")"
   ]
  },
  {
   "cell_type": "code",
   "execution_count": null,
   "id": "492e02e7-530b-4025-841a-8d026fcce2c7",
   "metadata": {},
   "outputs": [],
   "source": [
    "for activity in test_db:\n",
    "    print(activity['name'])"
   ]
  },
  {
   "cell_type": "code",
   "execution_count": null,
   "id": "3fcb2d85-ef3b-4d18-aa21-7a1376e3047b",
   "metadata": {},
   "outputs": [],
   "source": [
    "for activity in test_db:\n",
    "    activity.delete()"
   ]
  },
  {
   "cell_type": "code",
   "execution_count": null,
   "id": "9bff3f02-ac62-47e2-9a96-c5a1971fa1b4",
   "metadata": {},
   "outputs": [],
   "source": [
    "new_activity = test_db.new_activity(\n",
    "            code='test_activity_241205',  # Générer un code unique\n",
    "            name='test_activity',\n",
    "            unit=\"item\",  # Unité en termes d'items\n",
    "            type=\"process\",  # Type d'activité\n",
    "        )\n",
    "        \n",
    "# Sauvegarder l'activité\n",
    "new_activity.save()\n"
   ]
  },
  {
   "cell_type": "code",
   "execution_count": null,
   "id": "86b07e01-0512-41dc-8e16-c8fe60f9a6e3",
   "metadata": {},
   "outputs": [],
   "source": [
    "test_activity = [act for act in test_db if 'test_activity' in act['name']].pop()\n",
    "test_activity"
   ]
  },
  {
   "cell_type": "code",
   "execution_count": null,
   "id": "76fb0a63-91a0-4493-9cde-92271254562c",
   "metadata": {},
   "outputs": [],
   "source": [
    "random_activity = eidb.random()\n",
    "random_activity"
   ]
  },
  {
   "cell_type": "code",
   "execution_count": null,
   "id": "7c06b928-dcd2-4976-ab45-ba0cb47248ee",
   "metadata": {},
   "outputs": [],
   "source": [
    "new_exchange = test_activity.new_exchange(\n",
    "                    amount=1,\n",
    "                    input=test_activity,\n",
    "                    type='production',#sub_exc['type'],\n",
    "                    unit=test_activity['unit']\n",
    "                )\n",
    "new_exchange.save()"
   ]
  },
  {
   "cell_type": "code",
   "execution_count": null,
   "id": "7ac14d8b-5680-4844-a480-f454ea70d089",
   "metadata": {},
   "outputs": [],
   "source": [
    "new_exchange = test_activity.new_exchange(\n",
    "                    amount=15,\n",
    "                    input=random_activity,\n",
    "                    type='technosphere',#sub_exc['type'],\n",
    "                    unit=random_activity['unit']\n",
    "                )\n",
    "new_exchange.save()"
   ]
  },
  {
   "cell_type": "code",
   "execution_count": null,
   "id": "44c351f6-d2a8-4656-9a11-12fd1ac65fb5",
   "metadata": {},
   "outputs": [],
   "source": [
    "new_exchange = test_activity.new_exchange(\n",
    "                    amount=8,\n",
    "                    input=electricity_activity,\n",
    "                    type='technosphere',#sub_exc['type'],\n",
    "                    unit=electricity_activity['unit']\n",
    "                )\n",
    "new_exchange.save()"
   ]
  },
  {
   "cell_type": "code",
   "execution_count": null,
   "id": "0f18895e-3dda-4c4e-b1ec-0a31afdbbd07",
   "metadata": {},
   "outputs": [],
   "source": [
    "for exc in test_activity.exchanges():\n",
    "    print(exc.input['name'])"
   ]
  },
  {
   "cell_type": "markdown",
   "id": "73f56b72-6f07-4f78-9ce9-15497e70eed5",
   "metadata": {},
   "source": [
    "#### Now is time for some LCIA :\n",
    "\n",
    "    - First we choose a set of impact assessment methods\n",
    "    - Then we set the parameters of the LCA (functional unit and impact assessment methods, like in simaPro)\n",
    "    - Finally we do the calculations"
   ]
  },
  {
   "cell_type": "code",
   "execution_count": null,
   "id": "53621702-fe52-4d94-9093-8790c6f93307",
   "metadata": {},
   "outputs": [],
   "source": [
    "for method in bd.methods:\n",
    "    if 'ReCiPe' in method[1]:\n",
    "        print(method)"
   ]
  },
  {
   "cell_type": "code",
   "execution_count": null,
   "id": "877d1cb9-b346-43bf-bbad-af9c979fbe33",
   "metadata": {},
   "outputs": [],
   "source": [
    "recipe_e_methods = list(filter(lambda x: x[1] == \"ReCiPe Midpoint (E)\", list(bd.methods)))\n",
    "print(\"We have\", len(recipe_e_methods), \"ReCiPe Midpoint (E) methods we will evaluate.\")"
   ]
  },
  {
   "cell_type": "code",
   "execution_count": null,
   "id": "101dfc38-e236-4d79-9ca1-909d8fee9d2c",
   "metadata": {},
   "outputs": [],
   "source": [
    "functional_units_1 = {\n",
    "    \"activity\": {test_activity.id: 1},\n",
    "}\n",
    "config_1 = {\n",
    "    \"impact_categories\": recipe_e_methods\n",
    "}\n",
    "data_objs_1 = bd.get_multilca_data_objs(functional_units=functional_units_1, method_config=config_1)"
   ]
  },
  {
   "cell_type": "code",
   "execution_count": null,
   "id": "db91d2b1-b35e-4fb1-8f44-0fea58bcf147",
   "metadata": {},
   "outputs": [],
   "source": [
    "mlca_1 = bc.MultiLCA(demands=functional_units_1, method_config=config_1, data_objs=data_objs_1)\n",
    "mlca_1.lci()\n",
    "mlca_1.lcia()\n",
    "mlca_1.scores"
   ]
  },
  {
   "cell_type": "markdown",
   "id": "7e5d9f0c-1016-4c37-91f1-0f60054bc42e",
   "metadata": {},
   "source": [
    "#### Let's now add more layers to our inventory\n",
    "    \n",
    "    - Create a sub-activity with it's own exchanges\n",
    "    - Add it as an exchange to our first activity"
   ]
  },
  {
   "cell_type": "code",
   "execution_count": null,
   "id": "4b29bf99-94c7-4f2f-a665-b85956780662",
   "metadata": {},
   "outputs": [],
   "source": [
    "new_activity = test_db.new_activity(\n",
    "            code='test_subactivity_241205',  # Générer un code unique\n",
    "            name='test_subactivity',\n",
    "            unit=\"item\",  # Unité en termes d'items\n",
    "            type=\"process\",  # Type d'activité\n",
    "        )\n",
    "        \n",
    "# Sauvegarder l'activité\n",
    "new_activity.save()\n"
   ]
  },
  {
   "cell_type": "code",
   "execution_count": null,
   "id": "90d94c38-9d44-43b5-ad09-389d979012a3",
   "metadata": {},
   "outputs": [],
   "source": [
    "test_subactivity = [act for act in test_db if 'test_subactivity' in act['name']].pop()\n",
    "test_subactivity"
   ]
  },
  {
   "cell_type": "code",
   "execution_count": null,
   "id": "e508bf22-71c7-44da-b6d0-f1dac93f0d26",
   "metadata": {},
   "outputs": [],
   "source": [
    "random_activity_2 = eidb.random()\n",
    "random_activity_2"
   ]
  },
  {
   "cell_type": "code",
   "execution_count": null,
   "id": "3ba827e3-0b03-4a05-8223-9facfb4a7900",
   "metadata": {},
   "outputs": [],
   "source": [
    "new_exchange = test_subactivity.new_exchange(\n",
    "                    amount=15,\n",
    "                    input=random_activity_2,\n",
    "                    type='technosphere',#sub_exc['type'],\n",
    "                    unit=random_activity['unit']\n",
    "                )\n",
    "new_exchange.save()"
   ]
  },
  {
   "cell_type": "code",
   "execution_count": null,
   "id": "4a54be51-44a7-4f76-9e91-9215f1c61f0f",
   "metadata": {},
   "outputs": [],
   "source": [
    "new_exchange = test_subactivity.new_exchange(\n",
    "                    amount=1,\n",
    "                    input=test_subactivity,\n",
    "                    type='production',#sub_exc['type'],\n",
    "                    unit=test_subactivity['unit']\n",
    "                )\n",
    "new_exchange.save()"
   ]
  },
  {
   "cell_type": "code",
   "execution_count": null,
   "id": "eb1c5948-81b0-4001-a1f4-4afc9a69d071",
   "metadata": {},
   "outputs": [],
   "source": [
    "for exc in test_subactivity.exchanges():\n",
    "    print(exc.input['name'])"
   ]
  },
  {
   "cell_type": "code",
   "execution_count": null,
   "id": "baa28753-8b5e-4100-9b24-333a53210f45",
   "metadata": {},
   "outputs": [],
   "source": [
    "new_exchange = test_activity.new_exchange(\n",
    "                    amount=3,\n",
    "                    input=test_subactivity,\n",
    "                    type='technosphere',#sub_exc['type'],\n",
    "                    unit=test_subactivity['unit']\n",
    "                )\n",
    "new_exchange.save()"
   ]
  },
  {
   "cell_type": "code",
   "execution_count": null,
   "id": "27039299-654c-4397-8348-24bc6be110ff",
   "metadata": {},
   "outputs": [],
   "source": [
    "for exc in test_activity.exchanges():\n",
    "    print(exc.input['name'])"
   ]
  },
  {
   "cell_type": "markdown",
   "id": "fffd2fe6-c064-4e17-a4f1-bbfd2ff45fb6",
   "metadata": {},
   "source": [
    "#### Time for the LCIA !"
   ]
  },
  {
   "cell_type": "code",
   "execution_count": null,
   "id": "d846351c-b4a7-41a3-92b4-bdc7b69bd10c",
   "metadata": {},
   "outputs": [],
   "source": [
    "functional_units_1 = {\n",
    "    \"activity\": {test_activity.id: 1},\n",
    "}\n",
    "config_1 = {\n",
    "    \"impact_categories\": recipe_e_methods\n",
    "}\n",
    "data_objs_1 = bd.get_multilca_data_objs(functional_units=functional_units_1, method_config=config_1)"
   ]
  },
  {
   "cell_type": "code",
   "execution_count": null,
   "id": "cfbdf5ce-16af-4c74-8ba4-11feb9fac175",
   "metadata": {},
   "outputs": [],
   "source": [
    "mlca_1 = bc.MultiLCA(demands=functional_units_1, method_config=config_1, data_objs=data_objs_1)\n",
    "mlca_1.lci()\n",
    "mlca_1.lcia()\n",
    "mlca_1.scores"
   ]
  },
  {
   "cell_type": "markdown",
   "id": "adf831ee-4719-43d1-9b7a-483e66682c24",
   "metadata": {},
   "source": [
    "#### Tadaa ! Well done, you can now go on and develop your own inventories !"
   ]
  }
 ],
 "metadata": {
  "kernelspec": {
   "display_name": "Python 3 (ipykernel)",
   "language": "python",
   "name": "python3"
  },
  "language_info": {
   "codemirror_mode": {
    "name": "ipython",
    "version": 3
   },
   "file_extension": ".py",
   "mimetype": "text/x-python",
   "name": "python",
   "nbconvert_exporter": "python",
   "pygments_lexer": "ipython3",
   "version": "3.12.3"
  }
 },
 "nbformat": 4,
 "nbformat_minor": 5
}

{
 "cells": [
  {
   "cell_type": "markdown",
   "id": "75d4ce10-bd9b-4d07-889f-e99775e7341c",
   "metadata": {
    "jp-MarkdownHeadingCollapsed": true
   },
   "source": [
    "### Initialisation"
   ]
  },
  {
   "cell_type": "code",
   "execution_count": 1,
   "id": "44791e3e-4a2f-4fb7-a5b4-3edc1ea84cf1",
   "metadata": {},
   "outputs": [],
   "source": [
    "import bw2analyzer as ba\n",
    "import bw2calc as bc\n",
    "import bw2data as bd\n",
    "import bw2io as bi"
   ]
  },
  {
   "cell_type": "code",
   "execution_count": 2,
   "id": "038efd8e-f66e-4c2e-8fdd-149f6184f3a5",
   "metadata": {},
   "outputs": [],
   "source": [
    "import numpy as np\n",
    "import pandas as pd\n",
    "import matplotlib.pyplot as plt\n",
    "import seaborn as sns"
   ]
  },
  {
   "cell_type": "code",
   "execution_count": 3,
   "id": "d9c79920-2474-4a68-b7e5-de7b67890fe4",
   "metadata": {},
   "outputs": [],
   "source": [
    "import re\n",
    "import csv"
   ]
  },
  {
   "cell_type": "code",
   "execution_count": 63,
   "id": "15298814-6b0c-4758-a522-2c709a6275db",
   "metadata": {},
   "outputs": [],
   "source": [
    "import uuid\n",
    "\n",
    "# Générateur d'ID unique\n",
    "def generate_unique_id(prefix=\"\"):\n",
    "    return f\"{prefix}{uuid.uuid4().hex[:8]}\""
   ]
  },
  {
   "cell_type": "code",
   "execution_count": 4,
   "id": "c7adaeec-cb14-4761-aff9-a3a8d7bbf582",
   "metadata": {},
   "outputs": [],
   "source": [
    "bd.projects.set_current(name='DOC_casestudies')"
   ]
  },
  {
   "cell_type": "code",
   "execution_count": 6,
   "id": "0ec00bb0-a3d4-4d0f-9b8e-3a3099a1c724",
   "metadata": {},
   "outputs": [],
   "source": [
    "eidb = bd.Database(\"ecoinvent-3.8-cutoff\")"
   ]
  },
  {
   "cell_type": "code",
   "execution_count": 7,
   "id": "626f3692-9470-4449-95ec-e4f3f7dbc9a3",
   "metadata": {},
   "outputs": [],
   "source": [
    "case_studies = bd.Database(\"case_study_data\")"
   ]
  },
  {
   "cell_type": "markdown",
   "id": "f6fdec92-f8e9-4382-877c-55ee67f9b199",
   "metadata": {},
   "source": [
    "### Utilitaires"
   ]
  },
  {
   "cell_type": "code",
   "execution_count": null,
   "id": "16d525ff-5270-4324-8240-c226ae8d6ab6",
   "metadata": {
    "jupyter": {
     "source_hidden": true
    }
   },
   "outputs": [],
   "source": [
    "# Effacer un projet\n",
    "# bd.projects.delete_project('DOC_casestudies', delete_dir=True)"
   ]
  },
  {
   "cell_type": "code",
   "execution_count": null,
   "id": "34859e54-64e4-4496-b9d1-d923f712e2b1",
   "metadata": {
    "jupyter": {
     "source_hidden": true
    }
   },
   "outputs": [],
   "source": [
    "# Supprimer la base de données\n",
    "#del bd.databases['test']"
   ]
  },
  {
   "cell_type": "code",
   "execution_count": null,
   "id": "a6fc9358-e512-449c-a327-39e5c6996498",
   "metadata": {
    "jupyter": {
     "source_hidden": true
    }
   },
   "outputs": [],
   "source": [
    "#bi.remote.install_project('ecoinvent-3.8-biosphere', 'DOC_casestudies')"
   ]
  },
  {
   "cell_type": "code",
   "execution_count": null,
   "id": "10a2ea67-f0ac-4f61-9d19-d18d3f305167",
   "metadata": {
    "jupyter": {
     "source_hidden": true
    }
   },
   "outputs": [],
   "source": [
    "list(bd.projects)"
   ]
  },
  {
   "cell_type": "code",
   "execution_count": null,
   "id": "3c5c5bbe-aa2d-4df6-9790-3d38d10ddf16",
   "metadata": {
    "jupyter": {
     "source_hidden": true
    }
   },
   "outputs": [],
   "source": [
    "# Importer ecoinvent\n",
    "bi.import_ecoinvent_release(\n",
    "    version='3.8',\n",
    "    system_model='cutoff',\n",
    "    username='a',\n",
    "    password='A'\n",
    ")"
   ]
  },
  {
   "cell_type": "code",
   "execution_count": null,
   "id": "07f27afe-0bd8-4bce-86d0-4d629beda038",
   "metadata": {
    "jupyter": {
     "source_hidden": true
    }
   },
   "outputs": [],
   "source": [
    "for method in bd.methods:\n",
    "    #if 'IMPACT World+ Canada' in method[0]:\n",
    "        #if 'Marine eutrophication' in method[2]:\n",
    "            print(method)"
   ]
  },
  {
   "cell_type": "code",
   "execution_count": 252,
   "id": "7f43901f-ef44-4d71-b3df-0079e8a09327",
   "metadata": {
    "collapsed": true,
    "jupyter": {
     "outputs_hidden": true,
     "source_hidden": true
    }
   },
   "outputs": [
    {
     "ename": "UnknownObject",
     "evalue": "",
     "output_type": "error",
     "traceback": [
      "\u001b[0;31m---------------------------------------------------------------------------\u001b[0m",
      "\u001b[0;31mUnknownObject\u001b[0m                             Traceback (most recent call last)",
      "Cell \u001b[0;32mIn[252], line 1\u001b[0m\n\u001b[0;32m----> 1\u001b[0m \u001b[43mbi\u001b[49m\u001b[38;5;241;43m.\u001b[39;49m\u001b[43mBW2Package\u001b[49m\u001b[38;5;241;43m.\u001b[39;49m\u001b[43mimport_file\u001b[49m\u001b[43m(\u001b[49m\u001b[38;5;124;43m'\u001b[39;49m\u001b[38;5;124;43mmethods/iw/impact_world_plus_20_brightway2.f61be652158aa231066614610cddcbd5.bw2package\u001b[39;49m\u001b[38;5;124;43m'\u001b[39;49m\u001b[43m)\u001b[49m\n",
      "File \u001b[0;32m~/virtualenvs/brightway/lib/python3.12/site-packages/bw2io/package.py:236\u001b[0m, in \u001b[0;36mBW2Package.import_file\u001b[0;34m(cls, filepath, whitelist)\u001b[0m\n\u001b[1;32m    234\u001b[0m     \u001b[38;5;28;01mreturn\u001b[39;00m \u001b[38;5;28mcls\u001b[39m\u001b[38;5;241m.\u001b[39m_create_obj(loaded)\n\u001b[1;32m    235\u001b[0m \u001b[38;5;28;01melse\u001b[39;00m:\n\u001b[0;32m--> 236\u001b[0m     \u001b[38;5;28;01mreturn\u001b[39;00m [\u001b[38;5;28;43mcls\u001b[39;49m\u001b[38;5;241;43m.\u001b[39;49m\u001b[43m_create_obj\u001b[49m\u001b[43m(\u001b[49m\u001b[43mo\u001b[49m\u001b[43m)\u001b[49m \u001b[38;5;28;01mfor\u001b[39;00m o \u001b[38;5;129;01min\u001b[39;00m loaded]\n",
      "File \u001b[0;32m~/virtualenvs/brightway/lib/python3.12/site-packages/bw2io/package.py:127\u001b[0m, in \u001b[0;36mBW2Package._create_obj\u001b[0;34m(cls, data)\u001b[0m\n\u001b[1;32m    124\u001b[0m     instance\u001b[38;5;241m.\u001b[39mbackup()\n\u001b[1;32m    125\u001b[0m     instance\u001b[38;5;241m.\u001b[39mmetadata \u001b[38;5;241m=\u001b[39m data[\u001b[38;5;124m\"\u001b[39m\u001b[38;5;124mmetadata\u001b[39m\u001b[38;5;124m\"\u001b[39m]\n\u001b[0;32m--> 127\u001b[0m \u001b[43minstance\u001b[49m\u001b[38;5;241;43m.\u001b[39;49m\u001b[43mwrite\u001b[49m\u001b[43m(\u001b[49m\u001b[43mdata\u001b[49m\u001b[43m[\u001b[49m\u001b[38;5;124;43m\"\u001b[39;49m\u001b[38;5;124;43mdata\u001b[39;49m\u001b[38;5;124;43m\"\u001b[39;49m\u001b[43m]\u001b[49m\u001b[43m)\u001b[49m\n\u001b[1;32m    128\u001b[0m \u001b[38;5;28;01mreturn\u001b[39;00m instance\n",
      "File \u001b[0;32m~/virtualenvs/brightway/lib/python3.12/site-packages/bw2data/method.py:115\u001b[0m, in \u001b[0;36mMethod.write\u001b[0;34m(self, data, process)\u001b[0m\n\u001b[1;32m    112\u001b[0m     \u001b[38;5;28;01melse\u001b[39;00m:\n\u001b[1;32m    113\u001b[0m         \u001b[38;5;28;01mreturn\u001b[39;00m \u001b[38;5;28mtuple\u001b[39m(line)\n\u001b[0;32m--> 115\u001b[0m data \u001b[38;5;241m=\u001b[39m [\u001b[43mnormalize_ids\u001b[49m\u001b[43m(\u001b[49m\u001b[43mline\u001b[49m\u001b[43m)\u001b[49m \u001b[38;5;28;01mfor\u001b[39;00m line \u001b[38;5;129;01min\u001b[39;00m data]\n\u001b[1;32m    116\u001b[0m third \u001b[38;5;241m=\u001b[39m \u001b[38;5;28;01mlambda\u001b[39;00m x: x[\u001b[38;5;241m2\u001b[39m] \u001b[38;5;28;01mif\u001b[39;00m \u001b[38;5;28mlen\u001b[39m(x) \u001b[38;5;241m==\u001b[39m \u001b[38;5;241m3\u001b[39m \u001b[38;5;28;01melse\u001b[39;00m \u001b[38;5;28;01mNone\u001b[39;00m\n\u001b[1;32m    118\u001b[0m geocollections \u001b[38;5;241m=\u001b[39m {\n\u001b[1;32m    119\u001b[0m     get_geocollection(third(elem), default_global_location\u001b[38;5;241m=\u001b[39m\u001b[38;5;28;01mTrue\u001b[39;00m) \u001b[38;5;28;01mfor\u001b[39;00m elem \u001b[38;5;129;01min\u001b[39;00m data\n\u001b[1;32m    120\u001b[0m }\n",
      "File \u001b[0;32m~/virtualenvs/brightway/lib/python3.12/site-packages/bw2data/method.py:107\u001b[0m, in \u001b[0;36mMethod.write.<locals>.normalize_ids\u001b[0;34m(line)\u001b[0m\n\u001b[1;32m    105\u001b[0m     \u001b[38;5;28;01mreturn\u001b[39;00m (line[\u001b[38;5;241m0\u001b[39m]\u001b[38;5;241m.\u001b[39mid, \u001b[38;5;241m*\u001b[39mline[\u001b[38;5;241m1\u001b[39m:])\n\u001b[1;32m    106\u001b[0m \u001b[38;5;28;01melif\u001b[39;00m \u001b[38;5;28misinstance\u001b[39m(line[\u001b[38;5;241m0\u001b[39m], \u001b[38;5;28mtuple\u001b[39m):\n\u001b[0;32m--> 107\u001b[0m     \u001b[38;5;28;01mreturn\u001b[39;00m (\u001b[43mget_node\u001b[49m\u001b[43m(\u001b[49m\u001b[43mkey\u001b[49m\u001b[38;5;241;43m=\u001b[39;49m\u001b[43mline\u001b[49m\u001b[43m[\u001b[49m\u001b[38;5;241;43m0\u001b[39;49m\u001b[43m]\u001b[49m\u001b[43m)\u001b[49m\u001b[38;5;241m.\u001b[39mid, \u001b[38;5;241m*\u001b[39mline[\u001b[38;5;241m1\u001b[39m:])\n\u001b[1;32m    108\u001b[0m \u001b[38;5;28;01melif\u001b[39;00m \u001b[38;5;129;01mnot\u001b[39;00m \u001b[38;5;28misinstance\u001b[39m(line[\u001b[38;5;241m0\u001b[39m], \u001b[38;5;28mint\u001b[39m):\n\u001b[1;32m    109\u001b[0m     \u001b[38;5;28;01mraise\u001b[39;00m \u001b[38;5;167;01mValueError\u001b[39;00m(\n\u001b[1;32m    110\u001b[0m         \u001b[38;5;124mf\u001b[39m\u001b[38;5;124m\"\u001b[39m\u001b[38;5;124mCan\u001b[39m\u001b[38;5;124m'\u001b[39m\u001b[38;5;124mt understand elementary flow identifier \u001b[39m\u001b[38;5;132;01m{\u001b[39;00mline[\u001b[38;5;241m0\u001b[39m]\u001b[38;5;132;01m}\u001b[39;00m\u001b[38;5;124m in data line \u001b[39m\u001b[38;5;132;01m{\u001b[39;00mline\u001b[38;5;132;01m}\u001b[39;00m\u001b[38;5;124m\"\u001b[39m\n\u001b[1;32m    111\u001b[0m     )\n",
      "File \u001b[0;32m~/virtualenvs/brightway/lib/python3.12/site-packages/bw2data/utils.py:386\u001b[0m, in \u001b[0;36mget_node\u001b[0;34m(**kwargs)\u001b[0m\n\u001b[1;32m    384\u001b[0m     \u001b[38;5;28;01mraise\u001b[39;00m MultipleResults(\u001b[38;5;124m\"\u001b[39m\u001b[38;5;124mFound \u001b[39m\u001b[38;5;132;01m{}\u001b[39;00m\u001b[38;5;124m results for the given search\u001b[39m\u001b[38;5;124m\"\u001b[39m\u001b[38;5;241m.\u001b[39mformat(\u001b[38;5;28mlen\u001b[39m(candidates)))\n\u001b[1;32m    385\u001b[0m \u001b[38;5;28;01melif\u001b[39;00m \u001b[38;5;129;01mnot\u001b[39;00m candidates:\n\u001b[0;32m--> 386\u001b[0m     \u001b[38;5;28;01mraise\u001b[39;00m UnknownObject\n\u001b[1;32m    387\u001b[0m \u001b[38;5;28;01mreturn\u001b[39;00m candidates[\u001b[38;5;241m0\u001b[39m]\n",
      "\u001b[0;31mUnknownObject\u001b[0m: "
     ]
    }
   ],
   "source": [
    "bi.BW2Package.import_file('methods/iw/impact_world_plus_20_brightway2.f61be652158aa231066614610cddcbd5.bw2package')"
   ]
  },
  {
   "cell_type": "code",
   "execution_count": null,
   "id": "1aac97d7-bc25-4ce3-9018-3bee6dd7072f",
   "metadata": {
    "jupyter": {
     "source_hidden": true
    }
   },
   "outputs": [],
   "source": [
    "# Exporter les données d'une méthode d'EICV vers un fichier csv\n",
    "# Les catégories d'impact qui t'intéressent\n",
    "# World+\n",
    "locations = ['Nunavik', 'Canada', 'World']\n",
    "for loc in locations:\n",
    "    categories_to_export = [\n",
    "        (f'IMPACT World+ {loc}', 'Midpoint', 'Freshwater ecotoxicity'),\n",
    "        (f'IMPACT World+ {loc}', 'Midpoint', 'Human toxicity cancer'),\n",
    "        (f'IMPACT World+ {loc}', 'Midpoint', 'Human toxicity non-cancer'),\n",
    "        (f'IMPACT World+ {loc}', 'Midpoint', 'Particulate matter formation'),\n",
    "        (f'IMPACT World+ {loc}', 'Midpoint', 'Marine eutrophication'),\n",
    "        (f'IMPACT World+ {loc}', 'Midpoint', 'Freshwater eutrophication'),\n",
    "        (f'IMPACT World+ {loc}', 'Midpoint', 'Terrestrial acidification'),\n",
    "        (f'IMPACT World+ {loc}', 'Midpoint', 'Freshwater acidification'),\n",
    "        (f'IMPACT World+ {loc}', 'Midpoint', 'Water scarcity'),\n",
    "        (f'IMPACT World+ {loc}', 'Midpoint', 'Land occupation, biodiversity'),\n",
    "        (f'IMPACT World+ {loc}', 'Midpoint', 'Land transformation, biodiversity')\n",
    "    ]\n",
    "\n",
    "    # Nom du fichier CSV de sortie\n",
    "    csv_filename = f\"impact_world_{loc}_midpoint_factors.csv\"\n",
    "\n",
    "    # Ouvre un fichier CSV en mode écriture\n",
    "    with open(csv_filename, mode='w', newline='', encoding='utf-8') as csv_file:\n",
    "        fieldnames = ['Method Name', 'Flow ID', 'Flow Name', 'Category', 'Subcategory', 'Unit', 'Impact Factor']\n",
    "        writer = csv.DictWriter(csv_file, fieldnames=fieldnames)\n",
    "\n",
    "        # Écrire l'en-tête\n",
    "        writer.writeheader()\n",
    "        \n",
    "\n",
    "        # Parcours des méthodes et extraction des données\n",
    "        for method_key in categories_to_export:\n",
    "            print(method_key)\n",
    "            try:\n",
    "                method = bd.Method(method_key)\n",
    "                method_data = method.load()\n",
    "            \n",
    "                for flow, impact_factor in method_data:\n",
    "                    try:\n",
    "                        # Récupérer les informations détaillées sur le flux élémentaire\n",
    "                        activity = bd.get_activity(flow)\n",
    "                    \n",
    "                        # Écriture des données dans le CSV\n",
    "                        writer.writerow({\n",
    "                            'Method Name': str(method_key),\n",
    "                            'Flow ID': flow,\n",
    "                            'Flow Name': activity['name'],\n",
    "                            'Category': activity['categories'][0] if activity['categories'] else None,\n",
    "                            'Subcategory': activity['categories'][1] if len(activity['categories']) > 1 else None,\n",
    "                            'Unit': activity['unit'],\n",
    "                            'Impact Factor': impact_factor\n",
    "                        })\n",
    "                    except KeyError:\n",
    "                        print(f\"Flux introuvable pour l'identifiant {flow}\")\n",
    "            except bd.errors.UnknownObject:\n",
    "                print(f\"Méthode introuvable : {method_key}\")\n"
   ]
  },
  {
   "cell_type": "code",
   "execution_count": 258,
   "id": "eb0b318b-7a45-4c34-abb4-8119f1b244de",
   "metadata": {
    "collapsed": true,
    "jupyter": {
     "outputs_hidden": true,
     "source_hidden": true
    }
   },
   "outputs": [
    {
     "name": "stdout",
     "output_type": "stream",
     "text": [
      "Copié Freshwater ecotoxicity de IMPACT World+ World vers IMPACT World+ 20\n",
      "Copié Human toxicity cancer de IMPACT World+ World vers IMPACT World+ 20\n",
      "Copié Human toxicity non-cancer de IMPACT World+ World vers IMPACT World+ 20\n",
      "Copié Particulate matter formation de IMPACT World+ World vers IMPACT World+ 20\n",
      "Copié Marine eutrophication de IMPACT World+ World vers IMPACT World+ 20\n",
      "Copié Freshwater eutrophication de IMPACT World+ World vers IMPACT World+ 20\n",
      "Copié Terrestrial acidification de IMPACT World+ World vers IMPACT World+ 20\n",
      "Copié Freshwater acidification de IMPACT World+ World vers IMPACT World+ 20\n",
      "Copié Water scarcity de IMPACT World+ World vers IMPACT World+ 20\n",
      "Copié Land occupation, biodiversity de IMPACT World+ World vers IMPACT World+ 20\n",
      "Copié Land transformation, biodiversity de IMPACT World+ World vers IMPACT World+ 20\n"
     ]
    }
   ],
   "source": [
    "# Créer une méthode sur la base de IW+ pour chaque région à modéliser\n",
    "# Définir la méthode source et la méthode cible\n",
    "old_method_name = 'IMPACT World+ World'\n",
    "new_method_name = 'IMPACT World+ 20'\n",
    "\n",
    "# Définir les catégories d'intérêt\n",
    "categories_of_interest = [\n",
    "    ('IMPACT World+ World', 'Midpoint', 'Freshwater ecotoxicity'),\n",
    "    ('IMPACT World+ World', 'Midpoint', 'Human toxicity cancer'),\n",
    "    ('IMPACT World+ World', 'Midpoint', 'Human toxicity non-cancer'),\n",
    "    ('IMPACT World+ World', 'Midpoint', 'Particulate matter formation'),\n",
    "    ('IMPACT World+ World', 'Midpoint', 'Marine eutrophication'),\n",
    "    ('IMPACT World+ World', 'Midpoint', 'Freshwater eutrophication'),\n",
    "    ('IMPACT World+ World', 'Midpoint', 'Terrestrial acidification'),\n",
    "    ('IMPACT World+ World', 'Midpoint', 'Freshwater acidification'),\n",
    "    ('IMPACT World+ World', 'Midpoint', 'Water scarcity'),\n",
    "    ('IMPACT World+ World', 'Midpoint', 'Land occupation, biodiversity'),\n",
    "    ('IMPACT World+ World', 'Midpoint', 'Land transformation, biodiversity')\n",
    "]\n",
    "\n",
    "# Boucle sur les catégories d'intérêt\n",
    "for category in categories_of_interest:\n",
    "    # Charger les données de la méthode existante\n",
    "    old_method = bd.Method(category)\n",
    "    method_data = old_method.load()\n",
    "\n",
    "    # Créer une nouvelle méthode avec la même catégorie dans la méthode cible\n",
    "    new_method_key = (new_method_name, category[1], category[2])\n",
    "    new_method = bd.Method(new_method_key)\n",
    "    new_method.register()\n",
    "\n",
    "    # Écrire les mêmes données dans la nouvelle méthode\n",
    "    new_method.write(method_data)\n",
    "\n",
    "    print(f\"Copié {category[2]} de {old_method_name} vers {new_method_name}\")\n"
   ]
  },
  {
   "cell_type": "code",
   "execution_count": 296,
   "id": "dd90ad44-fe3b-4108-9fda-99b3f3a01c97",
   "metadata": {
    "collapsed": true,
    "jupyter": {
     "outputs_hidden": true,
     "source_hidden": true
    }
   },
   "outputs": [
    {
     "name": "stdout",
     "output_type": "stream",
     "text": [
      "\n",
      "Mises à jour par catégorie :\n",
      "Freshwater ecotoxicity: 1817 flux mis à jour\n",
      "Human toxicity cancer: 889 flux mis à jour\n",
      "Human toxicity non-cancer: 1048 flux mis à jour\n",
      "Particulate matter formation: 30 flux mis à jour\n",
      "Marine eutrophication: 53 flux mis à jour\n",
      "Freshwater eutrophication: 21 flux mis à jour\n",
      "Terrestrial acidification: 41 flux mis à jour\n",
      "Freshwater acidification: 41 flux mis à jour\n",
      "Water scarcity: 14 flux mis à jour\n",
      "Land occupation, biodiversity: 60 flux mis à jour\n",
      "Land transformation, biodiversity: 120 flux mis à jour\n"
     ]
    }
   ],
   "source": [
    "# Modifier les méthodes pour chaque région d'après un fichier CSV\n",
    "# Définir la méthode cible\n",
    "#new_method_name = 'IMPACT World+ Nunavik'\n",
    "#new_method_name = 'IMPACT World+ Canada'\n",
    "new_method_name = 'IMPACT World+ World'\n",
    "#new_method_name = 'IMPACT World+ 20'\n",
    "\n",
    "# Charger le fichier CSV dans un DataFrame pandas\n",
    "#csv_filename = \"methods/bw/IW_NU_17.csv\"\n",
    "#csv_filename = \"methods/bw/IW_CA_16.csv\"\n",
    "csv_filename = \"methods/bw/IW_WO_17.csv\"\n",
    "#csv_filename = \"methods/bw/IW_20.csv\"\n",
    "\n",
    "df = pd.read_csv(csv_filename)\n",
    "\n",
    "# Remplacer les catégories spécifiques avant traitement\n",
    "df['Category'] = df['Category'].replace({\n",
    "    ' Land occupation': 'Land occupation, biodiversity',\n",
    "    ' Land transformation': 'Land transformation, biodiversity'\n",
    "})\n",
    "\n",
    "# Dictionnaire pour stocker le nombre de mises à jour par catégorie\n",
    "update_count_by_category = {}\n",
    "\n",
    "# Liste des catégories d'intérêt\n",
    "categories_of_interest = [\n",
    "    'Freshwater ecotoxicity',\n",
    "    'Human toxicity cancer',\n",
    "    'Human toxicity non-cancer',\n",
    "    'Particulate matter formation',\n",
    "    'Marine eutrophication',\n",
    "    'Freshwater eutrophication',\n",
    "    'Terrestrial acidification',\n",
    "    'Freshwater acidification',\n",
    "    'Water scarcity',\n",
    "    'Land occupation, biodiversity',\n",
    "    'Land transformation, biodiversity'\n",
    "]\n",
    "\n",
    "# Parcourir les catégories d'intérêt et filtrer le DataFrame pour chaque catégorie\n",
    "for category in categories_of_interest:\n",
    "    # Créer un DataFrame pour chaque catégorie d'impact\n",
    "    category_df = df[df['Category'].str.contains(category)]\n",
    "\n",
    "    if category_df.empty:\n",
    "        print(f\"Aucune donnée pour la catégorie {category}.\")\n",
    "        continue\n",
    "\n",
    "    # Nettoyer la catégorie si nécessaire\n",
    "    cleaned_category = category.strip()\n",
    "\n",
    "    # Traiter les flux pour cette catégorie\n",
    "    method_key = (new_method_name, 'Midpoint', cleaned_category)\n",
    "    try:\n",
    "        # Charger la méthode correspondante\n",
    "        method = bd.Method(method_key)\n",
    "        method_data = method.load()\n",
    "\n",
    "        # Rechercher les mises à jour pour chaque flux dans cette catégorie\n",
    "        updated_data = []\n",
    "        for flow, impact_factor in method_data:\n",
    "            # Vérifier si ce flow_id est dans le DataFrame de la catégorie\n",
    "            flow_row = category_df[category_df['Flow ID'] == flow]\n",
    "\n",
    "            if not flow_row.empty:\n",
    "                # Mettre à jour l'impact factor avec la valeur du CSV\n",
    "                new_impact_factor = float(flow_row['Impact Factor'].values[0])\n",
    "                updated_data.append((flow, new_impact_factor))\n",
    "                update_count_by_category[cleaned_category] = update_count_by_category.get(cleaned_category, 0) + 1\n",
    "            else:\n",
    "                # Conserver l'ancien impact factor si non trouvé dans le CSV\n",
    "                updated_data.append((flow, impact_factor))\n",
    "\n",
    "        # Réécrire les données mises à jour dans la méthode\n",
    "        method.write(updated_data)\n",
    "\n",
    "    except Exception as e:\n",
    "        print(f\"Erreur lors du traitement de la catégorie {cleaned_category}: {e}\")\n",
    "\n",
    "# Afficher le nombre de flux mis à jour par catégorie\n",
    "print(\"\\nMises à jour par catégorie :\")\n",
    "for category, count in update_count_by_category.items():\n",
    "    print(f\"{category}: {count} flux mis à jour\")\n"
   ]
  },
  {
   "cell_type": "code",
   "execution_count": 297,
   "id": "b9702d0c-7c54-42d9-a479-40df28903885",
   "metadata": {
    "collapsed": true,
    "jupyter": {
     "outputs_hidden": true,
     "source_hidden": true
    }
   },
   "outputs": [
    {
     "name": "stdout",
     "output_type": "stream",
     "text": [
      "[Brightway2 Method: IMPACT World+ Nunavik: Midpoint: Freshwater ecotoxicity, Brightway2 Method: IMPACT World+ Nunavik: Midpoint: Human toxicity cancer, Brightway2 Method: IMPACT World+ Nunavik: Midpoint: Human toxicity non-cancer, Brightway2 Method: IMPACT World+ Nunavik: Midpoint: Particulate matter formation, Brightway2 Method: IMPACT World+ Nunavik: Midpoint: Marine eutrophication, Brightway2 Method: IMPACT World+ Nunavik: Midpoint: Freshwater eutrophication, Brightway2 Method: IMPACT World+ Nunavik: Midpoint: Terrestrial acidification, Brightway2 Method: IMPACT World+ Nunavik: Midpoint: Freshwater acidification, Brightway2 Method: IMPACT World+ Nunavik: Midpoint: Water scarcity, Brightway2 Method: IMPACT World+ Nunavik: Midpoint: Land occupation, biodiversity, Brightway2 Method: IMPACT World+ Nunavik: Midpoint: Land transformation, biodiversity]\n",
      "Les méthodes ont été exportées dans impact_world_plus_Nunavik_ei38.bw2package\n",
      "[Brightway2 Method: IMPACT World+ Canada: Midpoint: Freshwater ecotoxicity, Brightway2 Method: IMPACT World+ Canada: Midpoint: Human toxicity cancer, Brightway2 Method: IMPACT World+ Canada: Midpoint: Human toxicity non-cancer, Brightway2 Method: IMPACT World+ Canada: Midpoint: Particulate matter formation, Brightway2 Method: IMPACT World+ Canada: Midpoint: Marine eutrophication, Brightway2 Method: IMPACT World+ Canada: Midpoint: Freshwater eutrophication, Brightway2 Method: IMPACT World+ Canada: Midpoint: Terrestrial acidification, Brightway2 Method: IMPACT World+ Canada: Midpoint: Freshwater acidification, Brightway2 Method: IMPACT World+ Canada: Midpoint: Water scarcity, Brightway2 Method: IMPACT World+ Canada: Midpoint: Land occupation, biodiversity, Brightway2 Method: IMPACT World+ Canada: Midpoint: Land transformation, biodiversity]\n",
      "Les méthodes ont été exportées dans impact_world_plus_Canada_ei38.bw2package\n",
      "[Brightway2 Method: IMPACT World+ World: Midpoint: Freshwater ecotoxicity, Brightway2 Method: IMPACT World+ World: Midpoint: Human toxicity cancer, Brightway2 Method: IMPACT World+ World: Midpoint: Human toxicity non-cancer, Brightway2 Method: IMPACT World+ World: Midpoint: Particulate matter formation, Brightway2 Method: IMPACT World+ World: Midpoint: Marine eutrophication, Brightway2 Method: IMPACT World+ World: Midpoint: Freshwater eutrophication, Brightway2 Method: IMPACT World+ World: Midpoint: Terrestrial acidification, Brightway2 Method: IMPACT World+ World: Midpoint: Freshwater acidification, Brightway2 Method: IMPACT World+ World: Midpoint: Water scarcity, Brightway2 Method: IMPACT World+ World: Midpoint: Land occupation, biodiversity, Brightway2 Method: IMPACT World+ World: Midpoint: Land transformation, biodiversity]\n",
      "Les méthodes ont été exportées dans impact_world_plus_World_ei38.bw2package\n"
     ]
    }
   ],
   "source": [
    "# Exporter dans un bw2package\n",
    "# Définir la liste des méthodes à exporter (catégories IMPACT World+ Nunavik)\n",
    "\n",
    "locations = ['Nunavik', 'Canada', 'World']\n",
    "for loc in locations:\n",
    "    categories_to_export = [\n",
    "        (f'IMPACT World+ {loc}', 'Midpoint', 'Freshwater ecotoxicity'),\n",
    "        (f'IMPACT World+ {loc}', 'Midpoint', 'Human toxicity cancer'),\n",
    "        (f'IMPACT World+ {loc}', 'Midpoint', 'Human toxicity non-cancer'),\n",
    "        (f'IMPACT World+ {loc}', 'Midpoint', 'Particulate matter formation'),\n",
    "        (f'IMPACT World+ {loc}', 'Midpoint', 'Marine eutrophication'),\n",
    "        (f'IMPACT World+ {loc}', 'Midpoint', 'Freshwater eutrophication'),\n",
    "        (f'IMPACT World+ {loc}', 'Midpoint', 'Terrestrial acidification'),\n",
    "        (f'IMPACT World+ {loc}', 'Midpoint', 'Freshwater acidification'),\n",
    "        (f'IMPACT World+ {loc}', 'Midpoint', 'Water scarcity'),\n",
    "        (f'IMPACT World+ {loc}', 'Midpoint', 'Land occupation, biodiversity'),\n",
    "        (f'IMPACT World+ {loc}', 'Midpoint', 'Land transformation, biodiversity')\n",
    "    ]\n",
    "\n",
    "    # Charger les objets Method correspondant aux catégories\n",
    "    methods_to_export = [bd.Method(method_key) for method_key in categories_to_export]\n",
    "    print(methods_to_export)\n",
    "\n",
    "    # Définir le nom du fichier pour le package\n",
    "    bw2package_filename = f'impact_world_plus_{loc}_ei38'\n",
    "\n",
    "    # Exporter les méthodes dans un fichier .bw2package\n",
    "    bi.package.BW2Package.export_objs(methods_to_export, filename=bw2package_filename, folder='/home/thcalken/Documents/LCA_project/methods/bw')\n",
    "\n",
    "    print(f\"Les méthodes ont été exportées dans {bw2package_filename}.bw2package\")\n",
    "\n"
   ]
  },
  {
   "cell_type": "code",
   "execution_count": null,
   "id": "d6c47f13-99fe-4f5f-8c3f-fed9db6f5b4e",
   "metadata": {
    "jupyter": {
     "source_hidden": true
    }
   },
   "outputs": [],
   "source": [
    "# Créer une base de données :\n",
    "# case_studies = bd.Database('case_study_data').register()"
   ]
  },
  {
   "cell_type": "code",
   "execution_count": null,
   "id": "8a3556c4-0af6-4e52-b418-d31af5b92217",
   "metadata": {
    "jupyter": {
     "source_hidden": true
    }
   },
   "outputs": [],
   "source": [
    "list(bd.databases)"
   ]
  },
  {
   "cell_type": "code",
   "execution_count": 9,
   "id": "1c785c8f-9be9-4e49-b97d-ef8cfb098415",
   "metadata": {
    "jupyter": {
     "source_hidden": true
    }
   },
   "outputs": [],
   "source": [
    "# Lister toutes les activités dans ma bdd\n",
    "for activity in case_studies.search('*'):\n",
    "    print(f\"{activity['name']}, {activity.key[1]}\")"
   ]
  },
  {
   "cell_type": "markdown",
   "id": "4c7a95c9-6111-4d56-aa08-f23feba8de7d",
   "metadata": {
    "jp-MarkdownHeadingCollapsed": true
   },
   "source": [
    "### Création d'inventaire"
   ]
  },
  {
   "cell_type": "code",
   "execution_count": 198,
   "id": "c192f6fa-c2a6-4854-a24c-47a04410d3fb",
   "metadata": {},
   "outputs": [],
   "source": [
    "# Supprimer toutes les activités de la base de données\n",
    "for activity in case_studies:\n",
    "    activity.delete()"
   ]
  },
  {
   "cell_type": "code",
   "execution_count": 199,
   "id": "b27ed535-441d-48ab-815f-99cc734c8066",
   "metadata": {},
   "outputs": [],
   "source": [
    "# Créer les activités des systèmes modélisés\n",
    "scenarios = ['electricity, baseline', 'electricity, alternative', 'heat, baseline', 'heat, alternative']\n",
    "phases = ['production', 'distribution', 'use', 'end of life']\n",
    "locations = ['onsite', 'offsite']\n",
    "\n",
    "# Parcourir chaque combinaison de scénario et phase pour créer des activités\n",
    "for scenario in scenarios:\n",
    "    for location in locations:\n",
    "        # Créer une nouvelle activité dans la base de données\n",
    "        activity_name = f\"{location}_{scenario}\"\n",
    "        new_activity = case_studies.new_activity(\n",
    "            code=generate_unique_id(),  # Générer un code unique\n",
    "            name=activity_name,\n",
    "            unit=\"item\",  # Unité en termes d'items\n",
    "            type=\"process\",  # Type d'activité\n",
    "        )\n",
    "        \n",
    "        # Sauvegarder l'activité\n",
    "        new_activity.save()\n",
    "        for phase in phases:\n",
    "            # Nom de l'activité combinant le scénario et la phase\n",
    "            activity_name = f\"{location}_{scenario}, {phase} phase\"\n",
    "    \n",
    "            # Créer une nouvelle activité dans la base de données\n",
    "            new_activity = case_studies.new_activity(\n",
    "                code=generate_unique_id(),  # Générer un code unique\n",
    "                name=activity_name,\n",
    "                unit=\"item\",  # Unité en termes d'items\n",
    "                type=\"process\",  # Type d'activité\n",
    "            )\n",
    "    \n",
    "            # Sauvegarder l'activité\n",
    "            new_activity.save()"
   ]
  },
  {
   "cell_type": "code",
   "execution_count": 200,
   "id": "56b120ec-465f-480b-bd90-d5fc416470c9",
   "metadata": {},
   "outputs": [
    {
     "name": "stdout",
     "output_type": "stream",
     "text": [
      "Activity 'electricity, baseline' not found in eidb database.\n",
      "Activity 'electricity, baseline, end of life phase' not found in eidb database.\n"
     ]
    }
   ],
   "source": [
    "# Ajouter les exchanges aux systèmes correspondants depuis mon excel\n",
    "\n",
    "# Charger les données depuis l'Excel\n",
    "df = pd.read_excel('activities_names.xlsx')\n",
    "\n",
    "# Parcourir chaque ligne du fichier Excel\n",
    "for index, row in df.iterrows():\n",
    "    # Récupérer le nom de l'activité fils dans la première colonne\n",
    "    child_name = row.iloc[0]\n",
    "    \n",
    "    # Trouver l'activité fils correspondante dans la base de données\n",
    "    child_activity_candidates = [act for act in eidb if child_name in act['name'] and (act['location'] == 'RoW' or act['location'] == 'GLO')]\n",
    "    \n",
    "    if not child_activity_candidates:\n",
    "        print(f\"Activity '{child_name}' not found in eidb database.\")\n",
    "        continue\n",
    "    else:\n",
    "        # Compter le nombre de mots dans le nom de l'activité recherchée\n",
    "        child_name_word_count = len(child_name.split())\n",
    "\n",
    "        # Trouver l'activité avec le nombre de mots le plus proche\n",
    "        closest_activity = min(child_activity_candidates, key=lambda act: abs(len(act['name'].split()) - child_name_word_count))\n",
    "\n",
    "        # Assigner cette activité\n",
    "        child_activity = closest_activity\n",
    "\n",
    "        #print(f\"Selected activity: '{child_activity['name']}' with {(len(child_activity['name'].split()))} words.\")\n",
    "\n",
    "    \n",
    "    # Parcourir les colonnes restantes pour trouver les activités parent\n",
    "    for parent_name, amount in row.iloc[1:].items():\n",
    "        # Si une quantité est indiquée\n",
    "        if not pd.isna(amount):\n",
    "            # Trouver l'activité parent correspondante dans la base de données\n",
    "            \n",
    "            parent_activity = [act for act in case_studies if parent_name in act['name']]\n",
    "            \n",
    "            if not parent_activity:\n",
    "                #print(f\"Parent activity '{parent_name}' not found in case studies database.\")\n",
    "                continue\n",
    "            else:\n",
    "                for prefix_parent_act in parent_activity:\n",
    "            # Ajouter un nouvel exchange dans l'activité parent\n",
    "                    new_exc = prefix_parent_act.new_exchange(\n",
    "                        input=child_activity.key,  # Ajoute l'activité fils\n",
    "                        amount=amount,  # Quantité tirée de l'Excel\n",
    "                        type='technosphere',#child_activity['type'],  # Ou 'biosphere', selon le type d'échange\n",
    "                        unit=child_activity['unit']\n",
    "                    )\n",
    "                    new_exc.save()  # Sauvegarde l'exchange\n",
    "\n",
    "                #print(f\"Added exchange from '{child_activity['name']}' du type {child_activity['type']} to '{parent_name}' with amount {amount}{child_activity['unit']}.\")\n"
   ]
  },
  {
   "cell_type": "code",
   "execution_count": 201,
   "id": "f920e181-8355-4f15-b61b-ec98aabca804",
   "metadata": {},
   "outputs": [],
   "source": [
    "# Trier les activités à inclure dans chaque phase et ajouter les exchanges correspondants dans les systèmes modélisés\n",
    "\n",
    "# Dictionnaire contenant les critères spécifiques pour chaque phase\n",
    "phase_criteria = {\n",
    "    'prod': {\n",
    "        'include': [],  # Critères à inclure\n",
    "        'exclude': ['diesel, burned in building machine', 'excavation', 'market for electricity', 'market group for electricity']  # Critères à exclure\n",
    "    },\n",
    "    'dist': {\n",
    "        'include': ['diesel, burned in building machine', 'excavation', 'market for electricity', 'market group for electricity'],  # Aucun critère à inclure\n",
    "        'exclude': []  # Critère à exclure\n",
    "    },\n",
    "    'use': {\n",
    "        'include': [],  # Critère à inclure\n",
    "        'exclude': ['market for photovoltaic facade installation, 3kWp, multi-Si, panel, mounted, at building', \n",
    "                    'market for diesel-electric generating set, 10MW', 'market for ammonia, anhydrous, liquid',\n",
    "                    'market for heavy fuel oil','market for limestone, crushed, washed',\n",
    "                    'market for oil power plant, 500MW','market for chimney',\n",
    "                    'market for oil boiler, 100kW','market for oil storage, 3000l', \n",
    "                    'market for furnace, pellets, with silo, 300kW']  # Aucun critère à exclure\n",
    "    },\n",
    "    'eol': {\n",
    "        'include': ['municipal solid waste','waste plastic, mixture', 'waste polystyrene', 'waste polyvinylchloride', 'waste polyethylene'],  # Aucun critère à inclure\n",
    "        'exclude': []  # Aucun critère à exclure\n",
    "    }\n",
    "}\n",
    "\n",
    "scenario_activities = [act for act in case_studies if 'phase' in act['name']]\n",
    "\n",
    "# Étape 1: Itérer sur les activités scénario-localisation-phase\n",
    "for activity in scenario_activities:\n",
    "    # Déterminer la phase pour chaque activité\n",
    "    if 'production phase' in activity['name']:\n",
    "        phase = 'prod'\n",
    "    elif 'distribution phase' in activity['name']:\n",
    "        phase = 'dist'\n",
    "    elif 'use phase' in activity['name']:\n",
    "        phase = 'use'\n",
    "    elif 'end of life phase' in activity['name']:\n",
    "        phase = 'eol'\n",
    "    else:\n",
    "        continue\n",
    "\n",
    "    # Étape 2: Itérer sur les exchanges de chaque activité\n",
    "    for exchange in activity.exchanges():\n",
    "        sub_activity = exchange.input\n",
    "        \n",
    "        # Créer un nouveau nom avec un suffixe dépendant de la phase\n",
    "        new_activity_name = sub_activity['name'] + f\"_{phase}\"\n",
    "        new_activity = case_studies.new_activity(\n",
    "            code=generate_unique_id('ph'), \n",
    "            name=new_activity_name,\n",
    "            unit=sub_activity['unit'],  # Unité en termes d'items\n",
    "            type=sub_activity['type']  # Type d'activité\n",
    "            )\n",
    "        new_activity.save()\n",
    "\n",
    "        # Étape 3: Ajouter des exchanges aux nouvelles activités selon les critères spécifiques à la phase\n",
    "        for sub_exc in sub_activity.exchanges():\n",
    "            # Vérifier les critères positifs (include) et négatifs (exclude)\n",
    "            include_check = not phase_criteria[phase]['include'] or any(criterion in sub_exc.input['name'] for criterion in phase_criteria[phase]['include'])\n",
    "            exclude_check = not phase_criteria[phase]['exclude'] or not any(criterion in sub_exc.input['name'] for criterion in phase_criteria[phase]['exclude'])\n",
    "\n",
    "            # Condition pour n'ajouter les valeurs négatives que dans la phase eol et use\n",
    "            if sub_exc['amount'] < 0 and (phase == 'prod' or phase == 'dist'):\n",
    "                continue  # Ignorer les exchanges négatifs dans les autres phases\n",
    "        \n",
    "            if include_check and exclude_check:\n",
    "                sub_exc_type = sub_exc['type']\n",
    "                if sub_exc_type != 'biosphere' and sub_exc_type != 'technosphere':\n",
    "                    sub_exc_type = 'technosphere'\n",
    "                new_exchange = new_activity.new_exchange(\n",
    "                    amount=sub_exc['amount'],\n",
    "                    input=sub_exc.input,\n",
    "                    type=sub_exc_type,#sub_exc['type'],\n",
    "                    unit=sub_exc['unit']\n",
    "                )\n",
    "                new_exchange.save()\n",
    "\n",
    "        # Étape 4: Remplacer la sous-activité par la nouvelle activité dans l'exchange parent\n",
    "        exchange.input = new_activity\n",
    "        exchange.save()\n"
   ]
  },
  {
   "cell_type": "code",
   "execution_count": 202,
   "id": "e0241c7f-6a89-4ee6-b2da-cfe64ef1ef6f",
   "metadata": {},
   "outputs": [],
   "source": [
    "# Créer les activités multirégionales & de end of life\n",
    "\n",
    "multi_act_names = {'diesel, burned in building machine',\n",
    "                   'excavation, hydraulic digger',\n",
    "                   'excavation, skid-steer loader',\n",
    "                   'market for municipal solid waste',\n",
    "                   'market for waste plastic, mixture',\n",
    "                   'market for waste polyethylene',\n",
    "                   'market for waste polystyrene',\n",
    "                   'market for waste polyvinylchloride',\n",
    "                   'transport, freight, lorry >32 metric ton, EURO3',\n",
    "                   'maintenance, lorry 40 metric ton',\n",
    "                   'road construction',\n",
    "                   'road maintenance'\n",
    "                  }\n",
    "\n",
    "for multi_name in multi_act_names:\n",
    "    # Trouver l'activité fils correspondante dans la base de données\n",
    "    multi_activity_candidates = [act for act in eidb if multi_name in act['name'] and (act['location'] == 'RoW' or act['location'] == 'GLO')]\n",
    "    \n",
    "    if not multi_activity_candidates:\n",
    "        print(f\"Activity '{multi_name}' not found in the database.\")\n",
    "        continue\n",
    "    else:\n",
    "        # Compter le nombre de mots dans le nom de l'activité recherchée\n",
    "        multi_name_word_count = len(multi_name.split())\n",
    "\n",
    "        # Trouver l'activité avec le nombre de mots le plus proche\n",
    "        closest_activity = min(multi_activity_candidates, key=lambda act: abs(len(act['name'].split()) - multi_name_word_count))\n",
    "\n",
    "        # Assigner cette activité\n",
    "        multi_activity = closest_activity\n",
    "\n",
    "        #print(f\"Selected activity: '{multi_activity['name']}' with {(len(multi_activity['name'].split()))} words.\")\n",
    "\n",
    "                # Créer un nouveau nom avec un suffixe dépendant de la phase\n",
    "        new_activity_name = multi_activity['name'] + f\"_cs\"\n",
    "        new_activity = case_studies.new_activity(\n",
    "            code=generate_unique_id('ws'), \n",
    "            name=new_activity_name,\n",
    "            unit=multi_activity['unit'],  # Unité en termes d'items\n",
    "            type=multi_activity['type']  # Type d'activité\n",
    "        )\n",
    "        new_activity.save()\n",
    "        nb_exc = 0\n",
    "        # Étape 3: Ajouter des exchanges aux nouvelles activités selon les critères spécifiques à la phase\n",
    "        for exc in multi_activity.exchanges():\n",
    "            new_exchange = new_activity.new_exchange(\n",
    "                amount=exc['amount'],\n",
    "                input=exc.input,\n",
    "                type=exc['type'],\n",
    "                unit=exc['unit']\n",
    "            )\n",
    "            new_exchange.save()\n",
    "            nb_exc += 1\n",
    "        #print(f\"Saved activity: '{multi_activity['name']}' with {nb_exc} exchanges.\")"
   ]
  },
  {
   "cell_type": "code",
   "execution_count": 203,
   "id": "09f5944f-9540-42b1-aeeb-fc8924c6bc82",
   "metadata": {},
   "outputs": [],
   "source": [
    "# Additionner les échanges avec le même nom dans le RoW ou le GLO\n",
    "\n",
    "# Parcourir chaque activité dans la base de données\n",
    "for activity in case_studies:\n",
    "    # Dictionnaire pour stocker les échanges par nom\n",
    "    exchanges_by_name = {}\n",
    "\n",
    "    # Itérer à travers les échanges de l'activité\n",
    "    for exc in activity.exchanges():\n",
    "        name = exc.input.get('name')  # Utiliser .get() pour éviter KeyError\n",
    "        \n",
    "        if name is None:\n",
    "            continue  # Passer à l'échange suivant si le nom est absent\n",
    "        \n",
    "        # Ajouter l'échange à la liste correspondante à ce nom\n",
    "        if name not in exchanges_by_name:\n",
    "            exchanges_by_name[name] = []\n",
    "        exchanges_by_name[name].append(exc)\n",
    "\n",
    "    # Parcourir chaque groupe d'échanges par nom\n",
    "    for name, exchanges in exchanges_by_name.items():\n",
    "        if len(exchanges) > 1:  # Si plusieurs échanges avec le même nom\n",
    "            row_exchange = None\n",
    "            total_amount = 0\n",
    "            world_loc_exists = False\n",
    "\n",
    "            for exc in exchanges:\n",
    "                total_amount += exc.get('amount', 0)  # Utiliser .get() pour éviter KeyError\n",
    "\n",
    "                if exc.input.get('location') == 'RoW' or exc.input.get('location') == 'GLO':\n",
    "                    row_exchange = exc  # Garder l'échange avec location 'RoW'\n",
    "                    world_loc_exists = True\n",
    "                    \n",
    "            if not world_loc_exists:\n",
    "                    row_exchange = exchanges[0]\n",
    "                \n",
    "            if row_exchange:\n",
    "                row_exchange['amount'] = total_amount  # Mettre à jour le montant\n",
    "                row_exchange.save()\n",
    "                #print(f\"Activity '{activity['name']}' - Summing exchanges '{name}' to location '{row_exchange.input.get('location')}'. New amount: {total_amount}\")\n",
    "\n",
    "            # Supprimer les autres échanges avec ce nom\n",
    "            for exc in exchanges:\n",
    "                if exc != row_exchange:\n",
    "                    exc.delete()\n",
    "\n",
    "    activity.save()"
   ]
  },
  {
   "cell_type": "code",
   "execution_count": 204,
   "id": "706dd5cc-4ecd-44fa-846b-25a5e80efacd",
   "metadata": {},
   "outputs": [],
   "source": [
    "# Remplacer les activités d'eidb par mes activités multirégionales, et gestion cas spécifiques\n",
    "\n",
    "multi_acts = [act for act in case_studies if '_cs' in act['name'] and not 'waste' in act['name']]\n",
    "snp_acts = [act for act in case_studies if not '_prod' in act['name'] and not 'phase' in act['name']]\n",
    "\n",
    "fallback_act = [act for act in case_studies if 'municipal solid waste' in act['name']][0]\n",
    "lorry_act = [act for act in case_studies if 'lorry' in act['name'] and not 'maintenance' in act['name']][0]\n",
    "road_act = [act for act in case_studies if 'road' in act['name'] and 'construction' in act['name']][0]\n",
    "\n",
    "keyword_to_process = {\n",
    "    'municipal solid waste': 'market for municipal solid waste_cs',\n",
    "    'plastic, mixture': 'market for waste plastic, mixture_cs',\n",
    "    'polystyrene': 'market for waste polystyrene_cs',\n",
    "    'polyvinylchloride': 'market for waste polyvinylchloride_cs',\n",
    "    'polyethylene': 'market for waste polyethylene_cs'\n",
    "}\n",
    "\n",
    "# Étape 1: Parcourir les activités avec le suffixe '_cs'\n",
    "for multi_act in multi_acts:\n",
    "    # Obtenir la liste des mots sans le suffixe '_cs'\n",
    "    #base_words = multi_act['name'].replace('_cs', '').strip().split()\n",
    "    # Obtenir la liste des mots sans le suffixe '_cs' et retirer les ','\n",
    "    base_words = [word.replace(',', '').strip() for word in multi_act['name'].replace('_cs', '').split()]\n",
    "\n",
    "    #print(f\"Multi : {base_words}\")\n",
    "    \n",
    "    # Étape 2: Parcourir les autres activités et vérifier les exchanges\n",
    "    for snp_act in snp_acts:\n",
    "        for exchange in snp_act.exchanges():\n",
    "            # Découper le nom de l'exchange en mots\n",
    "            exchange_words = exchange.input['name'].split()\n",
    "            old_name = exchange.input['name']\n",
    "            \n",
    "            # Vérifier si tous les mots de l'activité sans suffixe sont présents dans l'exchange\n",
    "            if all(word in exchange.input['name'] for word in base_words):\n",
    "                # Étape 3: Remplacer l'exchange par l'activité avec le suffixe '_cs'\n",
    "                exchange.input = multi_act\n",
    "                exchange.save()\n",
    "                #print(f\"Replaced {old_name} with {multi_act['name']} in '{snp_act['name']}'\")\n",
    "            elif 'transport, freight, lorry' in exchange.input['name']:\n",
    "                exchange.input = lorry_act\n",
    "                exchange.save()\n",
    "                #print(f\"Replaced {old_name} with {lorry_act['name']} in '{snp_act['name']}'\")\n",
    "            elif 'road' in exchange.input['name'] and not 'maintenance' in exchange.input['name']:\n",
    "                exchange.input = road_act\n",
    "                exchange.save()\n",
    "                #print(f\"Replaced {old_name} with {road_act['name']} in '{snp_act['name']}'\")\n",
    "            # Vérifier seulement les échanges avec un montant négatif\n",
    "            elif exchange.get('amount',0) < 0 and not 'treatment of' in exchange.input['name']:\n",
    "                found_keyword = False  # Pour savoir si un mot-clé a été trouvé\n",
    "                for keyword, new_process in keyword_to_process.items():\n",
    "                    if keyword in exchange.input['name']:\n",
    "                        # Remplacer l'échange par le nouveau processus\n",
    "                        new_input_activity = [act for act in case_studies if new_process in act['name']][0]  # Trouver le nouveau processus\n",
    "                        exchange['input'] = new_input_activity.key  # Mettre à jour la référence de l'échange\n",
    "                        exchange.save()  # Enregistrer l'échange mis à jour\n",
    "                        #print(f\"Replaced {old_name} with {new_input_activity['name']} in '{snp_act['name']}'\")\n",
    "                        found_keyword = True  # Un mot-clé a été trouvé et traité\n",
    "                        break\n",
    "\n",
    "                # Si aucun mot-clé n'a été trouvé, utiliser fallback_act\n",
    "                if not found_keyword and 'municipal solid waste' not in exchange.input['name']:\n",
    "                    exchange['input'] = fallback_act.key\n",
    "                    exchange.save()  # Enregistrer l'échange mis à jour\n",
    "                    #print(f\"Replaced {old_name} with {fallback_act['name']} in '{snp_act['name']}'\")\n"
   ]
  },
  {
   "cell_type": "code",
   "execution_count": 205,
   "id": "39206fc8-c50c-48c5-996e-13af0b134237",
   "metadata": {},
   "outputs": [],
   "source": [
    "# Garder seulement les open dump, wet infiltration class, enlever les freight train et mettre la bonne distance en camion\n",
    "\n",
    "waste_activities = [act for act in case_studies if '_cs' in act['name'] and 'waste' in act['name']]\n",
    "\n",
    "for activity in waste_activities:\n",
    "    # Skip the activity if it's in the excluded activities list\n",
    "    od500mm_exchange = None\n",
    "    total_amount = 0\n",
    "    for exc in activity.exchanges():\n",
    "        if exc['amount']<0:\n",
    "            if exc['type'] != 'production':\n",
    "                total_amount += exc.get('amount', 0)  # Utiliser .get() pour éviter KeyErro\n",
    "            if 'open dump' in exc.input['name'] and '500mm' in exc.input['name']:\n",
    "                od500mm_exchange = exc\n",
    "            if od500mm_exchange:\n",
    "                od500mm_exchange['amount'] = total_amount  # Mettre à jour le montant\n",
    "                od500mm_exchange.save()\n",
    "                #print(f\"Activity '{activity['name']}' - Summing exchanges to open dump 500mm. New amount: {total_amount}\")\n",
    "            if exc != od500mm_exchange:\n",
    "                exc.delete()\n",
    "        if 'freight train' in exc.input['name']:\n",
    "            exc.delete()\n",
    "        if 'freight, lorry' in exc.input['name']:\n",
    "            exc['amount'] = 0.003\n",
    "            exc.save()\n",
    "    activity.save()"
   ]
  },
  {
   "cell_type": "code",
   "execution_count": 206,
   "id": "0ed4bba4-2121-4097-b427-6452637b0e45",
   "metadata": {},
   "outputs": [],
   "source": [
    "# Ajouter les distances en bateau aux consommables\n",
    "\n",
    "snp_acts = [act for act in case_studies if not '_prod' in act['name'] and not 'phase' in act['name']]\n",
    "\n",
    "# Echanges à ajouter\n",
    "petroleum_ship = [\n",
    "    activity for activity in eidb\n",
    "    if 'market for transport, freight, sea, tanker for petroleum' in activity['name']\n",
    "][0]\n",
    "container_ship = [\n",
    "    activity for activity in eidb\n",
    "    if 'market for transport, freight, sea, container ship' in activity['name']\n",
    "    and not 'with' in activity['name']\n",
    "][0]\n",
    "\n",
    "keywords_all = {'market', 'for'}\n",
    "keywords_oil = {'diesel', 'light fuel oil'}\n",
    "keywords_other = {'wood pellet', 'lubricating oil'}\n",
    "\n",
    "for act in snp_acts:\n",
    "    for exc in act.exchanges():\n",
    "        # Vérifier si tous les mots-clés de keywords_all sont dans le nom de l'exchange\n",
    "        if all(keyword in exc.input['name'] for keyword in keywords_all):\n",
    "            if exc['unit'] in ['kilogram', 'cubic meter']:\n",
    "                # Vérifier si l'un des mots-clés de keywords_oil est présent dans le nom\n",
    "                if any(keyword in exc.input['name'] for keyword in keywords_oil):\n",
    "                    act.new_exchange(\n",
    "                        input=petroleum_ship,\n",
    "                        amount=(exc['amount'] * 3),\n",
    "                        type=exc['type'],\n",
    "                        unit=petroleum_ship['unit']\n",
    "                    ).save()\n",
    "                    #print(f\"Added {petroleum_ship['name']}, {exc['amount'] * 3} {exc.unit} to {exc.input['name']} in {act['name']}\")\n",
    "                # Vérifier si l'un des mots-clés de keywords_other est présent dans le nom\n",
    "                elif any(keyword in exc.input['name'] for keyword in keywords_other):\n",
    "                    act.new_exchange(\n",
    "                        input=container_ship,  # Correction ici, on ajoute container_ship\n",
    "                        amount=(exc['amount'] * 3),\n",
    "                        type=exc['type'],\n",
    "                        unit=container_ship['unit']\n",
    "                    ).save()\n",
    "                    #print(f\"Added {container_ship['name']}, {exc['amount'] * 3} {exc.unit}  to {exc.input['name']} in {act['name']}\")\n",
    "        "
   ]
  },
  {
   "cell_type": "code",
   "execution_count": 207,
   "id": "df337e71-28ef-471d-9165-a2b6a4199402",
   "metadata": {},
   "outputs": [],
   "source": [
    "# Créer les activités onsite_ et offsite_\n",
    "\n",
    "snp_acts = [act for act in case_studies if not '_prod' in act['name'] and not 'phase' in act['name']] #\n",
    "multi_acts = [act for act in case_studies if '_cs' in act['name']]\n",
    "\n",
    "# Créer deux activités fils pour chaque activité parent dans snp_acts\n",
    "for parent_act in snp_acts:\n",
    "    if not 'onsite_' in parent_act['name'] and not 'offsite_' in parent_act['name']:\n",
    "        # Créer les activités fils onsite_ et offsite_\n",
    "        onsite_act = case_studies.new_activity(\n",
    "            code=generate_unique_id('onsite'),\n",
    "            name=f\"onsite_{parent_act['name']}\",\n",
    "            unit=parent_act['unit'],  # Unité xxxxxxx modifié\n",
    "            type=parent_act['type']  # Type d'activité\n",
    "        )\n",
    "        offsite_act = case_studies.new_activity(\n",
    "            code=generate_unique_id('offsite'),\n",
    "            name=f\"offsite_{parent_act['name']}\",\n",
    "            unit=parent_act['unit'],  # Unité xxxxxxx modifié\n",
    "            type=parent_act['type']  # Type d'activité\n",
    "        )\n",
    "        \n",
    "        onsite_act.save()\n",
    "        offsite_act.save()\n",
    "        #print(f\"Création d'activités pour {parent_act['name']}\")\n",
    "        n_bio = 0\n",
    "        n_multi = 0\n",
    "        n_off = 0\n",
    "    \n",
    "        # Copier les échanges de l'activité parent vers les activités fils\n",
    "        for exc in parent_act.exchanges():\n",
    "            # Si l'exchange est vers la biosphère (par exemple, type 'biosphere')\n",
    "    \n",
    "            if exc['type'] == 'biosphere':\n",
    "                onsite_act.new_exchange(\n",
    "                    input=exc.input,\n",
    "                    amount=exc['amount'],\n",
    "                    type=exc['type'], # modifié\n",
    "                    unit=exc['unit']\n",
    "                ).save()\n",
    "                n_bio += 1\n",
    "\n",
    "            elif exc['type'] == 'technosphere':\n",
    "                # Si l'exchange est vers une activité de multi_acts\n",
    "                if exc.input in multi_acts:\n",
    "                    # Ajouter l'exchange dans les deux activités fils\n",
    "                    onsite_act.new_exchange(\n",
    "                        input=exc.input,\n",
    "                        amount=exc['amount'],\n",
    "                        type=exc['type'], # modifié\n",
    "                        unit=exc['unit']\n",
    "                    ).save()\n",
    "                    offsite_act.new_exchange(\n",
    "                        input=exc.input,\n",
    "                        amount=exc['amount'],\n",
    "                        type=exc['type'], # modifié\n",
    "                        unit=exc['unit']\n",
    "                    ).save()\n",
    "                    n_multi += 1\n",
    "    \n",
    "                # Electricité\n",
    "                elif exc['unit'] == 'kilowatt hour':\n",
    "                    # Ajouter l'exchange dans les deux activités fils\n",
    "                    onsite_act.new_exchange(\n",
    "                        input=exc.input,\n",
    "                        amount=exc['amount'],\n",
    "                        type=exc['type'], # modifié\n",
    "                        unit=exc['unit']\n",
    "                    ).save()\n",
    "                    offsite_act.new_exchange(\n",
    "                        input=exc.input,\n",
    "                        amount=exc['amount'],\n",
    "                        type=exc['type'], # modifié\n",
    "                        unit=exc['unit']\n",
    "                    ).save()\n",
    "                    n_multi += 1\n",
    "\n",
    "                elif 'treatment of' in exc.input['name'] and 'waste' in exc.input['name']:\n",
    "                    # Ajouter l'exchange dans les deux activités fils\n",
    "                    onsite_act.new_exchange(\n",
    "                        input=exc.input,\n",
    "                        amount=exc['amount'],\n",
    "                        type=exc['type'], # modifié\n",
    "                        unit=exc['unit']\n",
    "                    ).save()\n",
    "                    \n",
    "                # Tous les autres échanges\n",
    "                else:\n",
    "                    offsite_act.new_exchange(\n",
    "                        input=exc.input,\n",
    "                        amount=exc['amount'],\n",
    "                        type=exc['type'], # modifié\n",
    "                        unit=exc['unit']\n",
    "                    ).save()\n",
    "                    n_off += 1\n",
    "\n",
    "    #print(f\"Copied {n_bio} biosphere, {n_multi} multiregional and {n_off} offsite exchanges to {parent_act['name']}\")\n",
    "\n"
   ]
  },
  {
   "cell_type": "code",
   "execution_count": 208,
   "id": "6c0bf38e-4f00-46da-966b-d2493b46d044",
   "metadata": {},
   "outputs": [],
   "source": [
    "# Mettre les exchanges onsite_ et offsite_ dans les activités\n",
    "\n",
    "onsite_acts = [act for act in case_studies if 'onsite_' in act['name']]\n",
    "offsite_acts = [act for act in case_studies if 'offsite_' in act['name']]\n",
    "\n",
    "snp_acts = [act for act in case_studies if not '_prod' in act['name'] and not 'phase' in act['name']]\n",
    "\n",
    "# Étape 1: Parcourir les activités avec le suffixe '_cs'\n",
    "for onsite_act in onsite_acts:\n",
    "    onsite_act_name = onsite_act['name']\n",
    "    original_act_name = onsite_act_name.replace(\"onsite_\", \"\", 1)\n",
    "    try:\n",
    "        original_act = [act for act in case_studies if act['name'] == original_act_name].pop()\n",
    "    except:\n",
    "        continue\n",
    "    # Étape 2: Parcourir les autres activités et vérifier les exchanges\n",
    "    for snp_act in snp_acts:\n",
    "        if snp_act in onsite_acts:\n",
    "            for exchange in snp_act.technosphere():          \n",
    "                # Vérifier si tous les mots de l'activité sans suffixe sont présents dans l'exchange\n",
    "                if exchange.input['name'] == original_act['name']:\n",
    "                    # Étape 3: Remplacer l'exchange par l'activité avec le suffixe '_cs'\n",
    "                    exchange.input = onsite_act\n",
    "                    exchange.save()\n",
    "\n",
    "for offsite_act in offsite_acts:\n",
    "    offsite_act_name = offsite_act['name']\n",
    "    original_act_name = offsite_act_name.replace(\"offsite_\", \"\", 1)\n",
    "    try:\n",
    "        original_act = [act for act in case_studies if act['name'] == original_act_name].pop()\n",
    "    except:\n",
    "        continue\n",
    "    # Étape 2: Parcourir les autres activités et vérifier les exchanges\n",
    "    for snp_act in snp_acts:\n",
    "        if snp_act in offsite_acts:\n",
    "            for exchange in snp_act.technosphere():          \n",
    "                # Vérifier si tous les mots de l'activité sans suffixe sont présents dans l'exchange\n",
    "                if exchange.input['name'] == original_act['name']:\n",
    "                    # Étape 3: Remplacer l'exchange par l'activité avec le suffixe '_cs'\n",
    "                    exchange.input = offsite_act\n",
    "                    exchange.save()"
   ]
  },
  {
   "cell_type": "code",
   "execution_count": 209,
   "id": "820fbd23-3434-462a-b6c1-fe0a8df76da8",
   "metadata": {},
   "outputs": [
    {
     "name": "stdout",
     "output_type": "stream",
     "text": [
      "Created activity: offsite_distribution electricity, baseline_0\n",
      "Created activity: offsite_distribution electricity, baseline_1\n",
      "Created activity: offsite_distribution electricity, baseline_2\n",
      "Created activity: offsite_distribution electricity, alternative_0\n",
      "Created activity: offsite_distribution electricity, alternative_1\n",
      "Created activity: offsite_distribution heat, baseline_0\n",
      "Created activity: offsite_distribution heat, alternative_0\n",
      "Added exchange to activity: offsite_distribution electricity, baseline_0 with value: 989472\n",
      "Added exchange to activity: offsite_distribution electricity, baseline_1 with value: 58550.613\n",
      "Added exchange to activity: offsite_distribution electricity, baseline_2 with value: 128145\n",
      "Added exchange to activity: offsite_distribution electricity, alternative_0 with value: 2100\n",
      "Added exchange to activity: offsite_distribution electricity, alternative_1 with value: 16590\n",
      "Added exchange to activity: offsite_distribution heat, baseline_0 with value: 2280\n",
      "Added exchange to activity: offsite_distribution heat, alternative_0 with value: 23718\n"
     ]
    }
   ],
   "source": [
    "# Création du process de distribution\n",
    "\n",
    "scenarios_values = {\n",
    "    'electricity, baseline': [989472, 58550.613, 128145],\n",
    "    'electricity, alternative': [2100, 16590],\n",
    "    'heat, baseline': [2280],\n",
    "    'heat, alternative': [23718]\n",
    "}\n",
    "\n",
    "container_ship = [\n",
    "    activity for activity in eidb\n",
    "    if 'market for transport, freight, sea, container ship' in activity['name']\n",
    "    and not 'with' in activity['name']\n",
    "][0]\n",
    "\n",
    "# Création des activités sans échanges\n",
    "for scenario, values in scenarios_values.items():\n",
    "    for idx, value in enumerate(values):\n",
    "        # Créer un nom unique pour l'activité\n",
    "        activity_name = f\"offsite_distribution {scenario}_{idx}\"\n",
    "        \n",
    "        # Créer une nouvelle activité\n",
    "        new_activity = case_studies.new_activity(\n",
    "            code=generate_unique_id('act'),\n",
    "            name=activity_name,\n",
    "            unit='item',  # Spécifie l'unité\n",
    "            type='process'  # Spécifie le type\n",
    "        )\n",
    "        \n",
    "        # Sauvegarder l'activité sans échanges\n",
    "        new_activity.save()\n",
    "\n",
    "        # Stocker la nouvelle activité pour l'utiliser dans le second bloc\n",
    "        print(f\"Created activity: {new_activity['name']}\")\n",
    "\n",
    "# Ajout des échanges aux activités créées\n",
    "for scenario, values in scenarios_values.items():\n",
    "    for idx, value in enumerate(values):\n",
    "        # Récupérer l'activité par son nom\n",
    "        activity_name = f\"offsite_distribution {scenario}_{idx}\"\n",
    "        new_activity = [\n",
    "            act for act in case_studies if act['name'] == activity_name\n",
    "        ][0]\n",
    "\n",
    "        # Ajouter un échange à l'activité\n",
    "        new_activity.new_exchange(\n",
    "            amount=value,  # Valeur associée à l'activité\n",
    "            input=container_ship,  # Spécifie l'input\n",
    "            type='technosphere',  # Spécifie le type d'échange\n",
    "            unit='ton kilometer'  # Spécifie l'unité\n",
    "        ).save()\n",
    "\n",
    "        # Sauvegarder l'activité après avoir ajouté les échanges\n",
    "        new_activity.save()\n",
    "\n",
    "        print(f\"Added exchange to activity: {new_activity['name']} with value: {value}\")"
   ]
  },
  {
   "cell_type": "code",
   "execution_count": 210,
   "id": "463bf369-8a26-4bbd-b05e-3dc2b3afa57b",
   "metadata": {},
   "outputs": [],
   "source": [
    "# Ajouter les activités de distribution aux systèmes modélisés\n",
    "\n",
    "scenarios = ['electricity, baseline', 'electricity, alternative', 'heat, baseline', 'heat, alternative']\n",
    "\n",
    "for scenario in scenarios:\n",
    "    dist_phase = [\n",
    "        activity for activity in case_studies\n",
    "        if scenario in activity['name']\n",
    "        and 'distribution phase' in activity['name']\n",
    "        and 'offsite' in activity['name']\n",
    "    ][0]\n",
    "    dist_acts = [\n",
    "        activity for activity in case_studies\n",
    "        if scenario in activity['name']\n",
    "        and 'offsite_distribution' in activity['name']\n",
    "    ]\n",
    "    for act in dist_acts:\n",
    "        dist_phase.new_exchange(\n",
    "            amount=1,  # Valeur associée à l'activité\n",
    "            input=act,  # Spécifie l'input, ici l'activité container_ship par exemple\n",
    "            type='technosphere',  # Spécifie le type d'échange, ici technosphère par exemple\n",
    "            unit=act['unit']#'item'  # Unité de l'échange, ici par exemple tonne.kilometer\n",
    "        ).save()"
   ]
  },
  {
   "cell_type": "code",
   "execution_count": 211,
   "id": "c3c18fc0-dc51-4dd0-9025-2077f79b7819",
   "metadata": {},
   "outputs": [],
   "source": [
    "# Remplacer les process d'électricité\n",
    "onsite_elec_act = [activity for activity in case_studies\n",
    "    if 'electricity, baseline' in activity['name']   \n",
    "    and not 'phase' in activity['name']\n",
    "    and not 'distribution' in activity['name']  \n",
    "    and 'onsite' in activity['name']\n",
    "][0]\n",
    "\n",
    "offsite_elec_act = [activity for activity in case_studies\n",
    "    if 'electricity, baseline' in activity['name']   \n",
    "    and not 'phase' in activity['name']\n",
    "    and not 'distribution' in activity['name']  \n",
    "    and 'offsite' in activity['name']\n",
    "][0]\n",
    "\n",
    "for activity in case_studies:\n",
    "    for exchange in activity.exchanges():\n",
    "        if exchange['type'] != 'biosphere' and exchange['type'] != 'production':\n",
    "            if 'market' in exchange.input['name'] and 'electricity' in exchange.input['name']:\n",
    "                if exchange['unit'] == 'kilowatt hour':\n",
    "                    if not '_prod' in activity['name']:\n",
    "                        old_exc_name = exchange.input['name']\n",
    "                        if 'onsite' in activity['name']:\n",
    "                            exchange.input = onsite_elec_act\n",
    "                            exchange.save()\n",
    "                            #print(f'Changed electricity in {activity['name']}')\n",
    "                        elif 'offsite' in activity['name']:\n",
    "                            exchange.input = offsite_elec_act\n",
    "                            exchange.save()\n",
    "                            #print(f'Changed electricity in {activity['name']}')\n"
   ]
  },
  {
   "cell_type": "code",
   "execution_count": 212,
   "id": "921b8eff-ec56-4727-a900-33d6de4cc2b0",
   "metadata": {},
   "outputs": [
    {
     "name": "stdout",
     "output_type": "stream",
     "text": [
      "Added onsite_electricity, baseline, use phase to onsite_electricity, alternative, use phase\n",
      "Added onsite_electricity, baseline, end of life phase to onsite_electricity, alternative, end of life phase\n",
      "Added offsite_electricity, baseline, end of life phase to offsite_electricity, alternative, end of life phase\n",
      "Added offsite_electricity, baseline, use phase to offsite_electricity, alternative, use phase\n"
     ]
    }
   ],
   "source": [
    "# Ajouter elec, baseline use & eol à elec alternative\n",
    "\n",
    "alt_elec_phases = [act for act in case_studies if 'electricity, alternative' in act['name'] and ('use' in act['name'] or 'end of life' in act['name'])]\n",
    "for activity in alt_elec_phases:\n",
    "    phase = activity['name'].split(',')[2]\n",
    "    location = activity['name'].split('_')[0]\n",
    "    matching_act = [act for act in case_studies if 'electricity, baseline' in act['name'] and phase in act['name'] and location in act['name']][0]\n",
    "    activity.new_exchange(\n",
    "        amount=0.382,  # Valeur associée à l'activité\n",
    "        input=matching_act,  # Spécifie l'input, ici l'activité container_ship par exemple\n",
    "        type='technosphere',  # Spécifie le type d'échange, ici technosphère par exemple\n",
    "        unit='item'  # Unité de l'échange, ici par exemple tonne.kilometer\n",
    "    ).save()\n",
    "    print(f'Added {matching_act['name']} to {activity['name']}')\n"
   ]
  },
  {
   "cell_type": "code",
   "execution_count": 213,
   "id": "a36077b6-6594-4205-98a7-79b66b55211b",
   "metadata": {},
   "outputs": [],
   "source": [
    "# Populer les activités de plus haut niveau\n",
    "top_process_names = ['electricity, baseline',\n",
    "                     'electricity, alternative',\n",
    "                     'heat, baseline',\n",
    "                     'heat, alternative']\n",
    "phases = ['production', 'distribution', 'use', 'end of life']\n",
    "\n",
    "for name in top_process_names:\n",
    "    top_level_act = [act for act in case_studies if name in act['name'] and not any(phase in act['name'] for phase in phases)]\n",
    "    phase_level_act = [act for act in case_studies if name in act['name'] and 'phase' in act['name']]\n",
    "    for act_t in top_level_act:\n",
    "        location_t = act_t['name'].split('_')[0]\n",
    "        for act_p in phase_level_act:\n",
    "            location_p = act_p['name'].split('_')[0]\n",
    "            if location_p == location_t:\n",
    "                act_t.new_exchange(\n",
    "                    amount=1,\n",
    "                    input=act_p,\n",
    "                    type='technosphere',\n",
    "                    unit='item'\n",
    "                ).save()\n",
    "                # print(f'Added {act_p['name']} to {act_t['name']}')\n",
    "    "
   ]
  },
  {
   "cell_type": "code",
   "execution_count": null,
   "id": "93fa89a2-73ce-4f63-8024-0a768151b986",
   "metadata": {},
   "outputs": [],
   "source": [
    "# Inverser les amounts négatifs vers les top process de waste\n",
    "\n",
    "on_off_act = [act for act in case_studies if 'site' in act['name']]\n",
    "\n",
    "for activity in on_off_act:\n",
    "    for exc in activity.exchanges():\n",
    "        if exc['type'] != 'production':\n",
    "            if 'market for' in exc.input['name'] and 'waste' in exc.input['name']:\n",
    "                if exc['amount'] < 0:\n",
    "                    new_amount = -exc['amount']\n",
    "                    exc['amount']= new_amount\n",
    "                    exc.save()\n",
    "                #print(activity['name'],'- New amount',exc['amount'])"
   ]
  },
  {
   "cell_type": "code",
   "execution_count": 215,
   "id": "2c790d08-8779-4be8-a086-516c6859cf78",
   "metadata": {},
   "outputs": [
    {
     "name": "stdout",
     "output_type": "stream",
     "text": [
      "7 0 222\n"
     ]
    }
   ],
   "source": [
    "# Créer les échanges de type production\n",
    "prod_counter = 0\n",
    "bad_prod_counter = 0\n",
    "new_prod_counter = 0\n",
    "\n",
    "for activity in case_studies:\n",
    "    exc_names = []\n",
    "    prod_exists = False\n",
    "    bad_prod_deleted = False\n",
    "    for exc in activity.exchanges():\n",
    "        if exc['type'] == \"production\":\n",
    "            if exc.input['name']!= activity['name']:\n",
    "                exc.delete()\n",
    "                bad_prod_deleted = True\n",
    "                continue\n",
    "            else:\n",
    "                prod_exists = True\n",
    "        exc_names.append((exc.input['name'], exc['type']))\n",
    "    \n",
    "    if prod_exists:\n",
    "        prod_counter += 1\n",
    "#        print(f\"Production exchange exists in {activity['name']}\")\n",
    "    elif bad_prod_deleted:\n",
    "        bad_prod_counter += 1\n",
    "#        print(f\"Bad production exchange exists in {activity['name']}\")\n",
    "    else:\n",
    "        # Ajouter un nouvel échange de production\n",
    "        activity.new_exchange(\n",
    "            amount=1,\n",
    "            input=activity,\n",
    "            type='production',\n",
    "            unit=activity['unit']\n",
    "        ).save()\n",
    "        new_prod_counter += 1\n",
    "#        print(f\"Added production exchange to {activity['name']}\")\n",
    "print(prod_counter, bad_prod_counter, new_prod_counter)"
   ]
  },
  {
   "cell_type": "code",
   "execution_count": null,
   "id": "2088efae-12a3-487d-859f-23dc6c6ead9d",
   "metadata": {},
   "outputs": [],
   "source": [
    "# Générer l'arborescence de chaque scénario dans un csv\n",
    "# Définir les phases dans l'ordre\n",
    "phases = ['production phase', 'distribution phase', 'use phase', 'end of life phase']\n",
    "scenarios = ['electricity, baseline', 'electricity, alternative', 'heat, baseline', 'heat, alternative']\n",
    "locations = ['offsite', 'onsite']\n",
    "\n",
    "def process_exchanges_dynamic(exchanges, data, level=1, max_level=15, explored=None):\n",
    "    \"\"\"\n",
    "    Traite les échanges et ajoute dynamiquement des colonnes au DataFrame pour chaque niveau.\n",
    "    \n",
    "    :param exchanges: Liste d'échanges à traiter.\n",
    "    :param data: DataFrame dans lequel ajouter les lignes.\n",
    "    :param level: Niveau d'échange en cours de traitement (commence à 1).\n",
    "    :param max_level: Niveau maximum à explorer pour éviter la récursion excessive.\n",
    "    :param explored: Ensemble pour suivre les échanges déjà traités.\n",
    "    :return: DataFrame mis à jour avec les nouveaux échanges et colonnes.\n",
    "    \"\"\"\n",
    "    if explored is None:\n",
    "        explored = set()  # Initialiser l'ensemble pour les échanges explorés\n",
    "\n",
    "    # Vérifier si le niveau maximum est atteint\n",
    "    if level > max_level:\n",
    "        return data\n",
    "    \n",
    "    # Définir les colonnes pour ce niveau\n",
    "    col_name = f'Exchange {level} (Name)'\n",
    "    col_amount = f'Exchange {level} (Amount)'\n",
    "    col_unit = f'Exchange {level} (Unit)'\n",
    "\n",
    "    # Si ces colonnes n'existent pas dans le DataFrame, les ajouter\n",
    "    if col_name not in data.columns:\n",
    "        data[col_name] = ''\n",
    "        data[col_amount] = ''\n",
    "        data[col_unit] = ''\n",
    "    for exc in [e for e in exchanges if e['type'] != 'production' and e['type'] != 'biosphere'] :\n",
    "        # Vérifier si l'échange provient de la base de données case_studies\n",
    "        \n",
    "\n",
    "        \n",
    "\n",
    "        # Créer une nouvelle ligne vide\n",
    "        row = [''] * len(data.columns)\n",
    "        row[data.columns.get_loc(col_name)] = exc.input['name']\n",
    "        row[data.columns.get_loc(col_amount)] = exc['amount']\n",
    "        row[data.columns.get_loc(col_unit)] = exc['unit']\n",
    "        \n",
    "        # Ajouter la nouvelle ligne au DataFrame\n",
    "        data = pd.concat([data, pd.DataFrame([row], columns=data.columns)], ignore_index=True)\n",
    "        if exc.input['database'] != 'case_study_data':\n",
    "            continue  # Passer cet échange si ce n'est pas le bon type\n",
    "        # Vérifier si cet échange a déjà été exploré\n",
    "        exc_id = (exc.input['name'], exc['amount'], exc['unit'])  # Identifier l'échange de manière unique\n",
    "        if exc_id in explored:\n",
    "            continue  # Passer cet échange s'il a déjà été exploré\n",
    "\n",
    "        # Ajouter l'échange à l'ensemble des explorés\n",
    "        explored.add(exc_id)\n",
    "        \n",
    "        # Passer au niveau suivant : récupérer les échanges de l'input de cet échange\n",
    "        level_input = exc.input\n",
    "        exchanges_next_level = level_input.exchanges()\n",
    "        \n",
    "        # Appeler récursivement la fonction pour traiter les échanges du niveau suivant\n",
    "        data = process_exchanges_dynamic(exchanges_next_level, data, level + 1, max_level, explored)  # Passer explored ici\n",
    "    \n",
    "    return data\n",
    "\n",
    "\n",
    "# Initialiser l'ensemble des procédés déjà explorés pour tous les scénarios\n",
    "explored_processes = set()  # <- MODIFICATION\n",
    "\n",
    "# Créer un DataFrame vide pour chaque scénario\n",
    "for scenario in scenarios:\n",
    "    data = pd.DataFrame(columns=['Scenario Process'])  # La première colonne pour les noms des process\n",
    "\n",
    "    # Filtrer les procédés par scénario et phases\n",
    "    scenario_processes = []\n",
    "\n",
    "    for location in locations:\n",
    "        for phase in phases:\n",
    "            scenario_processes.append([p for p in case_studies if scenario in p['name'] and phase in p['name'] and location in p['name']][0])\n",
    "\n",
    "    for process in scenario_processes:\n",
    "        process_name = process['name']  # Récupérer le nom du process\n",
    "        \n",
    "        # Vérifier si le process a déjà été exploré pour éviter les doublons\n",
    "        if process_name not in explored_processes:  # <- MODIFICATION\n",
    "            # Ajouter une ligne pour le nom du process\n",
    "            data = pd.concat([data, pd.DataFrame([[process_name] + [''] * (len(data.columns) - 1)], columns=data.columns)], ignore_index=True)  # <- MODIFICATION\n",
    "            explored_processes.add(process_name)  # Marquer le process comme exploré\n",
    "        # Traiter les échanges pour chaque procédé\n",
    "        data = process_exchanges_dynamic(process.exchanges(), data)  # Notez que 'explored' n'est pas ici\n",
    "\n",
    "    # Écrire le DataFrame dans un fichier CSV\n",
    "    data.to_csv(f\"recursive_{scenario}_arborescence_procedes.csv\", index=False, encoding='utf-8')\n",
    "\n",
    "# Vider l'ensemble explored après l'écriture des fichiers\n",
    "explored_processes.clear()  # <- MODIFICATION\n",
    "\n",
    "print(\"Fichiers CSV générés avec succès avec le nom des process apparaissant une seule fois.\")\n"
   ]
  },
  {
   "cell_type": "markdown",
   "id": "86218bfb-a299-4c40-8027-40d419b8a0dd",
   "metadata": {
    "jp-MarkdownHeadingCollapsed": true
   },
   "source": [
    "### Test des activités de l'inventaire"
   ]
  },
  {
   "cell_type": "code",
   "execution_count": 26,
   "id": "4bb83f25-907f-41ca-8745-08934c83a29d",
   "metadata": {
    "collapsed": true,
    "jupyter": {
     "outputs_hidden": true,
     "source_hidden": true
    }
   },
   "outputs": [
    {
     "name": "stdout",
     "output_type": "stream",
     "text": [
      "We have 11 IMPACT World+ World methods we will evaluate.\n"
     ]
    }
   ],
   "source": [
    "iww_methods = list(filter(lambda x: \"IMPACT World+ World\" in x[0], list(bd.methods)))\n",
    "print(\"We have\", len(iww_methods), \"IMPACT World+ World methods we will evaluate.\")"
   ]
  },
  {
   "cell_type": "code",
   "execution_count": 26,
   "id": "27a5b26e-7fea-40a7-bd24-319b13402caa",
   "metadata": {
    "collapsed": true,
    "jupyter": {
     "outputs_hidden": true,
     "source_hidden": true
    }
   },
   "outputs": [
    {
     "name": "stdout",
     "output_type": "stream",
     "text": [
      "We have 11 IMPACT World+ World methods we will evaluate.\n"
     ]
    }
   ],
   "source": [
    "iwc_methods = list(filter(lambda x: \"IMPACT World+ Canada\" in x[0], list(bd.methods)))\n",
    "print(\"We have\", len(iww_methods), \"IMPACT World+ Canada methods we will evaluate.\")"
   ]
  },
  {
   "cell_type": "code",
   "execution_count": 26,
   "id": "3dd60847-1a0f-4393-abd5-e5d11b746c66",
   "metadata": {
    "collapsed": true,
    "jupyter": {
     "outputs_hidden": true,
     "source_hidden": true
    }
   },
   "outputs": [
    {
     "name": "stdout",
     "output_type": "stream",
     "text": [
      "We have 11 IMPACT World+ World methods we will evaluate.\n"
     ]
    }
   ],
   "source": [
    "iwn_methods = list(filter(lambda x: \"IMPACT World+ Nunavik\" in x[0], list(bd.methods)))\n",
    "print(\"We have\", len(iww_methods), \"IMPACT World+ Nunavik methods we will evaluate.\")"
   ]
  },
  {
   "cell_type": "code",
   "execution_count": 27,
   "id": "7d2ebba8-fbd1-4e3c-a1c9-1fc9a4fafb2c",
   "metadata": {},
   "outputs": [],
   "source": [
    "list_scores = []\n",
    "for activity in case_studies:\n",
    "    functional_units_1 = {\n",
    "        \"activity\": {activity.id: 1},\n",
    "    }\n",
    "    config_1 = {\n",
    "        \"impact_categories\": iww_methods\n",
    "    }\n",
    "    data_objs_1 = bd.get_multilca_data_objs(functional_units=functional_units_1, method_config=config_1)\n",
    "    mlca_1 = bc.MultiLCA(demands=functional_units_1, method_config=config_1, data_objs=data_objs_1)\n",
    "    mlca_1.lci()\n",
    "    mlca_1.lcia()\n",
    "    list_scores.append(activity['name'])\n",
    "    list_scores.append({arr.sum() for key, arr in mlca_1.characterized_inventories.items()})\n",
    "    #    mlca_1.scores"
   ]
  },
  {
   "cell_type": "code",
   "execution_count": null,
   "id": "8250ee79-501a-41ac-be1c-36714fb604fe",
   "metadata": {},
   "outputs": [],
   "source": [
    "list_scores"
   ]
  },
  {
   "cell_type": "markdown",
   "id": "c02b2de4-f39d-4f5f-98b8-1d2392969913",
   "metadata": {},
   "source": [
    "### ACV"
   ]
  },
  {
   "cell_type": "code",
   "execution_count": 220,
   "id": "f7b734bc-a52d-4bb2-87f8-6390c5ac225f",
   "metadata": {
    "collapsed": true,
    "jupyter": {
     "outputs_hidden": true
    }
   },
   "outputs": [
    {
     "name": "stdout",
     "output_type": "stream",
     "text": [
      "('IMPACT World+ World', 'Midpoint', 'Freshwater ecotoxicity')\n",
      "('IMPACT World+ World', 'Midpoint', 'Human toxicity cancer')\n",
      "('IMPACT World+ World', 'Midpoint', 'Human toxicity non-cancer')\n",
      "('IMPACT World+ World', 'Midpoint', 'Particulate matter formation')\n",
      "('IMPACT World+ World', 'Midpoint', 'Marine eutrophication')\n",
      "('IMPACT World+ World', 'Midpoint', 'Freshwater eutrophication')\n",
      "('IMPACT World+ World', 'Midpoint', 'Terrestrial acidification')\n",
      "('IMPACT World+ World', 'Midpoint', 'Freshwater acidification')\n",
      "('IMPACT World+ World', 'Midpoint', 'Water scarcity')\n",
      "('IMPACT World+ World', 'Midpoint', 'Land occupation, biodiversity')\n",
      "('IMPACT World+ World', 'Midpoint', 'Land transformation, biodiversity')\n",
      "('IMPACT World+ Nunavik', 'Midpoint', 'Freshwater ecotoxicity')\n",
      "('IMPACT World+ Nunavik', 'Midpoint', 'Human toxicity cancer')\n",
      "('IMPACT World+ Nunavik', 'Midpoint', 'Human toxicity non-cancer')\n",
      "('IMPACT World+ Nunavik', 'Midpoint', 'Particulate matter formation')\n",
      "('IMPACT World+ Nunavik', 'Midpoint', 'Marine eutrophication')\n",
      "('IMPACT World+ Nunavik', 'Midpoint', 'Freshwater eutrophication')\n",
      "('IMPACT World+ Nunavik', 'Midpoint', 'Terrestrial acidification')\n",
      "('IMPACT World+ Nunavik', 'Midpoint', 'Freshwater acidification')\n",
      "('IMPACT World+ Nunavik', 'Midpoint', 'Water scarcity')\n",
      "('IMPACT World+ Nunavik', 'Midpoint', 'Land occupation, biodiversity')\n",
      "('IMPACT World+ Nunavik', 'Midpoint', 'Land transformation, biodiversity')\n",
      "('IMPACT World+ Canada', 'Midpoint', 'Freshwater ecotoxicity')\n",
      "('IMPACT World+ Canada', 'Midpoint', 'Human toxicity cancer')\n",
      "('IMPACT World+ Canada', 'Midpoint', 'Human toxicity non-cancer')\n",
      "('IMPACT World+ Canada', 'Midpoint', 'Particulate matter formation')\n",
      "('IMPACT World+ Canada', 'Midpoint', 'Marine eutrophication')\n",
      "('IMPACT World+ Canada', 'Midpoint', 'Freshwater eutrophication')\n",
      "('IMPACT World+ Canada', 'Midpoint', 'Terrestrial acidification')\n",
      "('IMPACT World+ Canada', 'Midpoint', 'Freshwater acidification')\n",
      "('IMPACT World+ Canada', 'Midpoint', 'Water scarcity')\n",
      "('IMPACT World+ Canada', 'Midpoint', 'Land occupation, biodiversity')\n",
      "('IMPACT World+ Canada', 'Midpoint', 'Land transformation, biodiversity')\n"
     ]
    }
   ],
   "source": [
    "for method in bd.methods:\n",
    "    if 'IMPACT World+' in method[0]:\n",
    "        print(method)"
   ]
  },
  {
   "cell_type": "code",
   "execution_count": 300,
   "id": "c71c85fb-2bfc-4829-92df-7d7b0acc9c22",
   "metadata": {},
   "outputs": [
    {
     "name": "stdout",
     "output_type": "stream",
     "text": [
      "We have 11 IMPACT World+ World methods we will evaluate.\n",
      "We have 11 IMPACT World+ Canada methods we will evaluate.\n",
      "We have 11 IMPACT World+ Nunavik methods we will evaluate.\n",
      "We have 11 IMPACT World+ Methods methods we will evaluate.\n"
     ]
    }
   ],
   "source": [
    "# LCIA methods\n",
    "\n",
    "iww_methods = list(filter(lambda x: \"IMPACT World+ World\" in x[0], list(bd.methods)))\n",
    "print(\"We have\", len(iww_methods), \"IMPACT World+ World methods we will evaluate.\")\n",
    "\n",
    "iwc_methods = list(filter(lambda x: \"IMPACT World+ Canada\" in x[0], list(bd.methods)))\n",
    "print(\"We have\", len(iww_methods), \"IMPACT World+ Canada methods we will evaluate.\")\n",
    "\n",
    "iwn_methods = list(filter(lambda x: \"IMPACT World+ Nunavik\" in x[0], list(bd.methods)))\n",
    "print(\"We have\", len(iww_methods), \"IMPACT World+ Nunavik methods we will evaluate.\")\n",
    "\n",
    "iw2_methods = list(filter(lambda x: \"IMPACT World+ 20\" in x[0], list(bd.methods)))\n",
    "print(\"We have\", len(iw2_methods), \"IMPACT World+ Methods methods we will evaluate.\")"
   ]
  },
  {
   "cell_type": "code",
   "execution_count": 301,
   "id": "2832b183-3371-4fc3-a5ff-d4fe8c602584",
   "metadata": {},
   "outputs": [
    {
     "name": "stdout",
     "output_type": "stream",
     "text": [
      "['onsite_heat, alternative' (item, GLO, None), 'onsite_electricity, baseline' (item, GLO, None), 'onsite_electricity, alternative' (item, GLO, None), 'onsite_heat, baseline' (item, GLO, None)]\n",
      "['offsite_electricity, alternative' (item, GLO, None), 'offsite_heat, baseline' (item, GLO, None), 'offsite_electricity, baseline' (item, GLO, None), 'offsite_heat, alternative' (item, GLO, None)]\n"
     ]
    }
   ],
   "source": [
    "# Top level activities\n",
    "\n",
    "top_process_names = ['electricity, baseline',\n",
    "                     'electricity, alternative',\n",
    "                     'heat, baseline',\n",
    "                     'heat, alternative']\n",
    "\n",
    "phases = ['production', 'distribution', 'use', 'end of life']\n",
    "\n",
    "top_level_onsite_acts = [act for act in case_studies if any(name in act['name'] for name in top_process_names) and not any(phase in act['name'] for phase in phases) and 'onsite' in act['name']]\n",
    "print(top_level_onsite_acts)\n",
    "top_level_offsite_acts = [act for act in case_studies if any(name in act['name'] for name in top_process_names) and not any(phase in act['name'] for phase in phases) and 'offsite' in act['name']]\n",
    "print(top_level_offsite_acts)"
   ]
  },
  {
   "cell_type": "code",
   "execution_count": 302,
   "id": "974f1a3c-d1e3-4be9-8c20-b04a7ad8f06d",
   "metadata": {},
   "outputs": [],
   "source": [
    "list_scores_on_w = []\n",
    "for activity in top_level_onsite_acts:\n",
    "    functional_units_1 = {\n",
    "        activity['name']: {activity.id: 1},\n",
    "    }\n",
    "    config_1 = {\n",
    "        \"impact_categories\": iww_methods\n",
    "    }\n",
    "    data_objs_1 = bd.get_multilca_data_objs(functional_units=functional_units_1, method_config=config_1)\n",
    "    mlca_1 = bc.MultiLCA(demands=functional_units_1, method_config=config_1, data_objs=data_objs_1)\n",
    "    mlca_1.lci()\n",
    "    mlca_1.lcia()\n",
    "    list_scores_on_w.append({(key, arr.sum()) for key, arr in mlca_1.characterized_inventories.items()})"
   ]
  },
  {
   "cell_type": "code",
   "execution_count": 303,
   "id": "a50b371f-5f1f-4120-a172-0efed10e5bcb",
   "metadata": {},
   "outputs": [],
   "source": [
    "list_scores_on_c = []\n",
    "for activity in top_level_onsite_acts:\n",
    "    functional_units_1 = {\n",
    "        activity['name']: {activity.id: 1},\n",
    "    }\n",
    "    config_1 = {\n",
    "        \"impact_categories\": iwc_methods\n",
    "    }\n",
    "    data_objs_1 = bd.get_multilca_data_objs(functional_units=functional_units_1, method_config=config_1)\n",
    "    mlca_1 = bc.MultiLCA(demands=functional_units_1, method_config=config_1, data_objs=data_objs_1)\n",
    "    mlca_1.lci()\n",
    "    mlca_1.lcia()\n",
    "    list_scores_on_c.append({(key, arr.sum()) for key, arr in mlca_1.characterized_inventories.items()})"
   ]
  },
  {
   "cell_type": "code",
   "execution_count": 304,
   "id": "8994c526-5e4e-49e8-90a2-5c41f375df4b",
   "metadata": {},
   "outputs": [],
   "source": [
    "list_scores_on_n = []\n",
    "for activity in top_level_onsite_acts:\n",
    "    functional_units_1 = {\n",
    "        activity['name']: {activity.id: 1},\n",
    "    }\n",
    "    config_1 = {\n",
    "        \"impact_categories\": iwn_methods\n",
    "    }\n",
    "    data_objs_1 = bd.get_multilca_data_objs(functional_units=functional_units_1, method_config=config_1)\n",
    "    mlca_1 = bc.MultiLCA(demands=functional_units_1, method_config=config_1, data_objs=data_objs_1)\n",
    "    mlca_1.lci()\n",
    "    mlca_1.lcia()\n",
    "    list_scores_on_n.append({(key, arr.sum()) for key, arr in mlca_1.characterized_inventories.items()})"
   ]
  },
  {
   "cell_type": "code",
   "execution_count": 305,
   "id": "3391bac6-9041-4152-bed6-40d3f938cc0f",
   "metadata": {},
   "outputs": [],
   "source": [
    "list_scores_off = []\n",
    "for activity in top_level_offsite_acts:\n",
    "    functional_units_1 = {\n",
    "        activity['name']: {activity.id: 1},\n",
    "    }\n",
    "    config_1 = {\n",
    "        \"impact_categories\": iw2_methods\n",
    "    }\n",
    "    data_objs_1 = bd.get_multilca_data_objs(functional_units=functional_units_1, method_config=config_1)\n",
    "    mlca_1 = bc.MultiLCA(demands=functional_units_1, method_config=config_1, data_objs=data_objs_1)\n",
    "    mlca_1.lci()\n",
    "    mlca_1.lcia()\n",
    "    list_scores_off.append({(key, arr.sum()) for key, arr in mlca_1.characterized_inventories.items()})"
   ]
  },
  {
   "cell_type": "code",
   "execution_count": 311,
   "id": "231258e0-e692-4dff-a330-977b2c9eee44",
   "metadata": {},
   "outputs": [],
   "source": [
    "data = []\n",
    "data.append(list_scores_on_w)\n",
    "data.append(list_scores_on_c)\n",
    "data.append(list_scores_on_n)\n",
    "data.append(list_scores_off)"
   ]
  },
  {
   "cell_type": "code",
   "execution_count": 313,
   "id": "cd636bf5-bad3-430c-b2de-b4574ddb9852",
   "metadata": {},
   "outputs": [
    {
     "name": "stdout",
     "output_type": "stream",
     "text": [
      "Les données ont été exportées dans le fichier 'results/onsite_w.csv'\n",
      "Les données ont été exportées dans le fichier 'results/onsite_c.csv'\n",
      "Les données ont été exportées dans le fichier 'results/onsite_n.csv'\n",
      "Les données ont été exportées dans le fichier 'results/offsite.csv'\n"
     ]
    }
   ],
   "source": [
    "# Parcourir chaque ensemble de données\n",
    "file_names = ['onsite_w',\n",
    "              'onsite_c',\n",
    "              'onsite_n',\n",
    "              'offsite']\n",
    "counter = 0\n",
    "for data_list in data:\n",
    "    formatted_data = []\n",
    "    for data_set in data_list:\n",
    "        for entry in data_set:\n",
    "            # Extraire les informations\n",
    "            (method_details, scenario), score = entry\n",
    "            method = f\"{method_details[0]} {method_details[1]}\"\n",
    "            category = method_details[2]\n",
    "            \n",
    "            # Ajouter à la liste formatée\n",
    "            formatted_data.append({\n",
    "                \"method\": method,\n",
    "                \"category\": category,\n",
    "                \"scenario\": scenario,\n",
    "                \"score\": score\n",
    "            })\n",
    "    \n",
    "    # Convertir en DataFrame pandas\n",
    "    df = pd.DataFrame(formatted_data)\n",
    "    \n",
    "    # Exporter dans un fichier CSV\n",
    "    output_csv = f\"results/{file_names[counter]}.csv\"\n",
    "    df.to_csv(output_csv, index=False)\n",
    "    counter += 1\n",
    "    print(f\"Les données ont été exportées dans le fichier '{output_csv}'\")\n"
   ]
  },
  {
   "cell_type": "markdown",
   "id": "2aa0021e-c823-45d3-8587-bdb004864c51",
   "metadata": {},
   "source": [
    "## Autre utilitaires et tests"
   ]
  },
  {
   "cell_type": "markdown",
   "id": "05effd04-00a6-4e36-8ed8-6ca4a39a68ee",
   "metadata": {
    "jp-MarkdownHeadingCollapsed": true
   },
   "source": [
    "### Tests land transformation"
   ]
  },
  {
   "cell_type": "code",
   "execution_count": 266,
   "id": "b6bcf95d-b2e1-4777-9253-a9eb5b9fe002",
   "metadata": {},
   "outputs": [
    {
     "name": "stdout",
     "output_type": "stream",
     "text": [
      "['onsite_heat, alternative' (item, GLO, None), 'onsite_electricity, alternative' (item, GLO, None), 'onsite_heat, baseline' (item, GLO, None), 'onsite_electricity, baseline' (item, GLO, None)]\n",
      "['offsite_electricity, baseline' (item, GLO, None), 'offsite_heat, alternative' (item, GLO, None), 'offsite_electricity, alternative' (item, GLO, None), 'offsite_heat, baseline' (item, GLO, None)]\n"
     ]
    }
   ],
   "source": [
    "# Top level activities\n",
    "\n",
    "top_process_names = ['electricity, baseline',\n",
    "                     'electricity, alternative',\n",
    "                     'heat, baseline',\n",
    "                     'heat, alternative']\n",
    "\n",
    "phases = ['production', 'distribution', 'use', 'end of life']\n",
    "\n",
    "top_level_onsite_acts = [act for act in case_studies if any(name in act['name'] for name in top_process_names) and not any(phase in act['name'] for phase in phases) and 'onsite' in act['name']]\n",
    "print(top_level_onsite_acts)\n",
    "top_level_offsite_acts = [act for act in case_studies if any(name in act['name'] for name in top_process_names) and not any(phase in act['name'] for phase in phases) and 'offsite' in act['name']]\n",
    "print(top_level_offsite_acts)"
   ]
  },
  {
   "cell_type": "code",
   "execution_count": 298,
   "id": "31e7d5a7-62e7-453d-954f-4e86b09a3fa9",
   "metadata": {},
   "outputs": [
    {
     "name": "stdout",
     "output_type": "stream",
     "text": [
      "('IMPACT World+ World', 'Midpoint', 'Land transformation, biodiversity')\n"
     ]
    }
   ],
   "source": [
    "ltrans_method = [method for method in bd.methods \n",
    "                 if 'IMPACT World+ World' in method[0]\n",
    "                 and 'transformation' in method[2]].pop()\n",
    "print(ltrans_method)"
   ]
  },
  {
   "cell_type": "code",
   "execution_count": 299,
   "id": "8a3a8343-b2d3-469e-aef7-15ca50c83d61",
   "metadata": {},
   "outputs": [
    {
     "name": "stdout",
     "output_type": "stream",
     "text": [
      "2.5734692989247595e-05\n"
     ]
    }
   ],
   "source": [
    "lca = bc.LCA({top_level_onsite_acts[0]:1}, ltrans_method)\n",
    "lca.lci()\n",
    "lca.lcia()\n",
    "\n",
    "print(lca.score)"
   ]
  },
  {
   "cell_type": "code",
   "execution_count": 287,
   "id": "638d1d67-61c2-4fb1-9c79-a3ee43550861",
   "metadata": {},
   "outputs": [],
   "source": [
    "road = [act for act in eidb if 'road construction' == act['name'] and act['location'] == 'RoW'].pop()"
   ]
  },
  {
   "cell_type": "code",
   "execution_count": 288,
   "id": "e66edbf0-85eb-42da-b475-b64595e9957c",
   "metadata": {},
   "outputs": [
    {
     "data": {
      "text/plain": [
       "'road construction' (meter-year, RoW, None)"
      ]
     },
     "execution_count": 288,
     "metadata": {},
     "output_type": "execute_result"
    }
   ],
   "source": [
    "road"
   ]
  },
  {
   "cell_type": "code",
   "execution_count": 290,
   "id": "d283c138-a13d-4137-84b3-5b55444e0e6c",
   "metadata": {},
   "outputs": [
    {
     "name": "stdout",
     "output_type": "stream",
     "text": [
      "Occupation, traffic area, rail/road embankment\n",
      "Particulates, > 2.5 um, and < 10um\n",
      "Transformation, to traffic area, rail/road embankment\n",
      "Particulates, > 10 um\n",
      "NMVOC, non-methane volatile organic compounds, unspecified origin\n",
      "Occupation, traffic area, road network\n",
      "Transformation, to traffic area, road network\n",
      "Transformation, from unspecified\n"
     ]
    }
   ],
   "source": [
    "for exc in road.biosphere():\n",
    "    print(exc.input['name'])"
   ]
  },
  {
   "cell_type": "code",
   "execution_count": 293,
   "id": "57899c15-2a03-4880-894d-6959829b246e",
   "metadata": {},
   "outputs": [
    {
     "name": "stdout",
     "output_type": "stream",
     "text": [
      "{'categories': ('natural resource', 'land'), 'code': '29630a65-f38c-48a5-9744-c0121f586640', 'CAS number': None, 'synonyms': [], 'name': 'Transformation, from unspecified', 'database': 'ecoinvent-3.8-biosphere', 'unit': 'square meter', 'type': 'natural resource', 'id': 863}\n",
      "oil power plant construction, 500MW_prod\n",
      "Transformation, from unspecified 125000.0 square meter biosphere\n",
      "\n",
      "{'categories': ('natural resource', 'land'), 'code': '4624deff-2016-41d4-b2bf-3db8dab88779', 'CAS number': None, 'synonyms': [], 'name': 'Transformation, to industrial area', 'database': 'ecoinvent-3.8-biosphere', 'unit': 'square meter', 'type': 'natural resource', 'id': 897}\n",
      "oil power plant construction, 500MW_prod\n",
      "Transformation, to industrial area 125000.0 square meter biosphere\n",
      "\n",
      "{'categories': ('natural resource', 'land'), 'code': '29630a65-f38c-48a5-9744-c0121f586640', 'CAS number': None, 'synonyms': [], 'name': 'Transformation, from unspecified', 'database': 'ecoinvent-3.8-biosphere', 'unit': 'square meter', 'type': 'natural resource', 'id': 863}\n",
      "oil power plant construction, 500MW_prod\n",
      "Transformation, from unspecified 125000.0 square meter biosphere\n",
      "\n",
      "{'categories': ('natural resource', 'land'), 'code': '4624deff-2016-41d4-b2bf-3db8dab88779', 'CAS number': None, 'synonyms': [], 'name': 'Transformation, to industrial area', 'database': 'ecoinvent-3.8-biosphere', 'unit': 'square meter', 'type': 'natural resource', 'id': 897}\n",
      "oil power plant construction, 500MW_prod\n",
      "Transformation, to industrial area 125000.0 square meter biosphere\n",
      "\n",
      "{'categories': ('natural resource', 'land'), 'code': '4624deff-2016-41d4-b2bf-3db8dab88779', 'CAS number': None, 'synonyms': [], 'name': 'Transformation, to industrial area', 'database': 'ecoinvent-3.8-biosphere', 'unit': 'square meter', 'type': 'natural resource', 'id': 897}\n",
      "furnace production, pellets, with silo, 300kW_prod\n",
      "Transformation, to industrial area 75.0 square meter biosphere\n",
      "\n",
      "{'categories': ('natural resource', 'land'), 'code': '29630a65-f38c-48a5-9744-c0121f586640', 'CAS number': None, 'synonyms': [], 'name': 'Transformation, from unspecified', 'database': 'ecoinvent-3.8-biosphere', 'unit': 'square meter', 'type': 'natural resource', 'id': 863}\n",
      "furnace production, pellets, with silo, 300kW_prod\n",
      "Transformation, from unspecified 75.0 square meter biosphere\n",
      "\n",
      "{'categories': ('natural resource', 'land'), 'code': '0930b6b8-d9c6-4462-966f-ac7495b63bed', 'CAS number': None, 'synonyms': [], 'name': 'Transformation, from forest, unspecified', 'database': 'ecoinvent-3.8-biosphere', 'unit': 'square meter', 'type': 'natural resource', 'id': 833}\n",
      "distribution network construction, electricity, low voltage_prod\n",
      "Transformation, from forest, unspecified 0.659 square meter biosphere\n",
      "\n",
      "{'categories': ('natural resource', 'land'), 'code': 'f05cca02-ec18-4acc-9939-59658ff9a554', 'CAS number': None, 'synonyms': [], 'name': 'Transformation, from annual crop', 'database': 'ecoinvent-3.8-biosphere', 'unit': 'square meter', 'type': 'natural resource', 'id': 811}\n",
      "distribution network construction, electricity, low voltage_prod\n",
      "Transformation, from annual crop 0.826 square meter biosphere\n",
      "\n",
      "{'categories': ('natural resource', 'land'), 'code': '4624deff-2016-41d4-b2bf-3db8dab88779', 'CAS number': None, 'synonyms': [], 'name': 'Transformation, to industrial area', 'database': 'ecoinvent-3.8-biosphere', 'unit': 'square meter', 'type': 'natural resource', 'id': 897}\n",
      "distribution network construction, electricity, low voltage_prod\n",
      "Transformation, to industrial area 1.49 square meter biosphere\n",
      "\n",
      "{'categories': ('natural resource', 'land'), 'code': '0930b6b8-d9c6-4462-966f-ac7495b63bed', 'CAS number': None, 'synonyms': [], 'name': 'Transformation, from forest, unspecified', 'database': 'ecoinvent-3.8-biosphere', 'unit': 'square meter', 'type': 'natural resource', 'id': 833}\n",
      "distribution network construction, electricity, low voltage_prod\n",
      "Transformation, from forest, unspecified 0.659 square meter biosphere\n",
      "\n",
      "{'categories': ('natural resource', 'land'), 'code': 'f05cca02-ec18-4acc-9939-59658ff9a554', 'CAS number': None, 'synonyms': [], 'name': 'Transformation, from annual crop', 'database': 'ecoinvent-3.8-biosphere', 'unit': 'square meter', 'type': 'natural resource', 'id': 811}\n",
      "distribution network construction, electricity, low voltage_prod\n",
      "Transformation, from annual crop 0.826 square meter biosphere\n",
      "\n",
      "{'categories': ('natural resource', 'land'), 'code': '4624deff-2016-41d4-b2bf-3db8dab88779', 'CAS number': None, 'synonyms': [], 'name': 'Transformation, to industrial area', 'database': 'ecoinvent-3.8-biosphere', 'unit': 'square meter', 'type': 'natural resource', 'id': 897}\n",
      "distribution network construction, electricity, low voltage_prod\n",
      "Transformation, to industrial area 1.49 square meter biosphere\n",
      "\n",
      "{'categories': ('natural resource', 'land'), 'code': '0930b6b8-d9c6-4462-966f-ac7495b63bed', 'CAS number': None, 'synonyms': [], 'name': 'Transformation, from forest, unspecified', 'database': 'ecoinvent-3.8-biosphere', 'unit': 'square meter', 'type': 'natural resource', 'id': 833}\n",
      "distribution network construction, electricity, low voltage_prod\n",
      "Transformation, from forest, unspecified 0.659 square meter biosphere\n",
      "\n",
      "{'categories': ('natural resource', 'land'), 'code': 'f05cca02-ec18-4acc-9939-59658ff9a554', 'CAS number': None, 'synonyms': [], 'name': 'Transformation, from annual crop', 'database': 'ecoinvent-3.8-biosphere', 'unit': 'square meter', 'type': 'natural resource', 'id': 811}\n",
      "distribution network construction, electricity, low voltage_prod\n",
      "Transformation, from annual crop 0.826 square meter biosphere\n",
      "\n",
      "{'categories': ('natural resource', 'land'), 'code': '4624deff-2016-41d4-b2bf-3db8dab88779', 'CAS number': None, 'synonyms': [], 'name': 'Transformation, to industrial area', 'database': 'ecoinvent-3.8-biosphere', 'unit': 'square meter', 'type': 'natural resource', 'id': 897}\n",
      "distribution network construction, electricity, low voltage_prod\n",
      "Transformation, to industrial area 1.49 square meter biosphere\n",
      "\n",
      "{'categories': ('natural resource', 'land'), 'code': '4624deff-2016-41d4-b2bf-3db8dab88779', 'CAS number': None, 'synonyms': [], 'name': 'Transformation, to industrial area', 'database': 'ecoinvent-3.8-biosphere', 'unit': 'square meter', 'type': 'natural resource', 'id': 897}\n",
      "furnace production, pellets, with silo, 300kW_prod\n",
      "Transformation, to industrial area 75.0 square meter biosphere\n",
      "\n",
      "{'categories': ('natural resource', 'land'), 'code': '29630a65-f38c-48a5-9744-c0121f586640', 'CAS number': None, 'synonyms': [], 'name': 'Transformation, from unspecified', 'database': 'ecoinvent-3.8-biosphere', 'unit': 'square meter', 'type': 'natural resource', 'id': 863}\n",
      "furnace production, pellets, with silo, 300kW_prod\n",
      "Transformation, from unspecified 75.0 square meter biosphere\n",
      "\n",
      "{'categories': ('natural resource', 'land'), 'code': '29630a65-f38c-48a5-9744-c0121f586640', 'CAS number': None, 'synonyms': [], 'name': 'Transformation, from unspecified', 'database': 'ecoinvent-3.8-biosphere', 'unit': 'square meter', 'type': 'natural resource', 'id': 863}\n",
      "oil power plant construction, 500MW_prod\n",
      "Transformation, from unspecified 125000.0 square meter biosphere\n",
      "\n",
      "{'categories': ('natural resource', 'land'), 'code': '4624deff-2016-41d4-b2bf-3db8dab88779', 'CAS number': None, 'synonyms': [], 'name': 'Transformation, to industrial area', 'database': 'ecoinvent-3.8-biosphere', 'unit': 'square meter', 'type': 'natural resource', 'id': 897}\n",
      "oil power plant construction, 500MW_prod\n",
      "Transformation, to industrial area 125000.0 square meter biosphere\n",
      "\n",
      "{'categories': ('natural resource', 'land'), 'code': '0930b6b8-d9c6-4462-966f-ac7495b63bed', 'CAS number': None, 'synonyms': [], 'name': 'Transformation, from forest, unspecified', 'database': 'ecoinvent-3.8-biosphere', 'unit': 'square meter', 'type': 'natural resource', 'id': 833}\n",
      "distribution network construction, electricity, low voltage_prod\n",
      "Transformation, from forest, unspecified 0.659 square meter biosphere\n",
      "\n",
      "{'categories': ('natural resource', 'land'), 'code': 'f05cca02-ec18-4acc-9939-59658ff9a554', 'CAS number': None, 'synonyms': [], 'name': 'Transformation, from annual crop', 'database': 'ecoinvent-3.8-biosphere', 'unit': 'square meter', 'type': 'natural resource', 'id': 811}\n",
      "distribution network construction, electricity, low voltage_prod\n",
      "Transformation, from annual crop 0.826 square meter biosphere\n",
      "\n",
      "{'categories': ('natural resource', 'land'), 'code': '4624deff-2016-41d4-b2bf-3db8dab88779', 'CAS number': None, 'synonyms': [], 'name': 'Transformation, to industrial area', 'database': 'ecoinvent-3.8-biosphere', 'unit': 'square meter', 'type': 'natural resource', 'id': 897}\n",
      "distribution network construction, electricity, low voltage_prod\n",
      "Transformation, to industrial area 1.49 square meter biosphere\n",
      "\n",
      "{'categories': ('natural resource', 'land'), 'code': '29630a65-f38c-48a5-9744-c0121f586640', 'CAS number': None, 'synonyms': [], 'name': 'Transformation, from unspecified', 'database': 'ecoinvent-3.8-biosphere', 'unit': 'square meter', 'type': 'natural resource', 'id': 863}\n",
      "oil power plant construction, 500MW_prod\n",
      "Transformation, from unspecified 125000.0 square meter biosphere\n",
      "\n",
      "{'categories': ('natural resource', 'land'), 'code': '4624deff-2016-41d4-b2bf-3db8dab88779', 'CAS number': None, 'synonyms': [], 'name': 'Transformation, to industrial area', 'database': 'ecoinvent-3.8-biosphere', 'unit': 'square meter', 'type': 'natural resource', 'id': 897}\n",
      "oil power plant construction, 500MW_prod\n",
      "Transformation, to industrial area 125000.0 square meter biosphere\n",
      "\n",
      "{'categories': ('natural resource', 'land'), 'code': '29630a65-f38c-48a5-9744-c0121f586640', 'CAS number': None, 'synonyms': [], 'name': 'Transformation, from unspecified', 'database': 'ecoinvent-3.8-biosphere', 'unit': 'square meter', 'type': 'natural resource', 'id': 863}\n",
      "onsite_road construction_cs\n",
      "Transformation, from unspecified 0.011 square meter biosphere\n",
      "\n",
      "{'categories': ('natural resource', 'land'), 'code': '29630a65-f38c-48a5-9744-c0121f586640', 'CAS number': None, 'synonyms': [], 'name': 'Transformation, from unspecified', 'database': 'ecoinvent-3.8-biosphere', 'unit': 'square meter', 'type': 'natural resource', 'id': 863}\n",
      "road construction_cs\n",
      "Transformation, from unspecified 0.011 square meter biosphere\n",
      "\n"
     ]
    }
   ],
   "source": [
    "eol_activities = [act for act in case_studies if '_eol' in act['name']]\n",
    "\n",
    "for activity in case_studies:\n",
    "    for exc in activity.biosphere():\n",
    "        if 'Transformation' in exc.input['name']:\n",
    "            print(exc.input.as_dict())\n",
    "            print(activity['name'])\n",
    "            print(exc.input['name'], exc['amount'], exc['unit'], exc['type'])\n",
    "            print()"
   ]
  },
  {
   "cell_type": "markdown",
   "id": "f9dfb38b-0178-4112-a4d7-43a5d9a83166",
   "metadata": {
    "jp-MarkdownHeadingCollapsed": true
   },
   "source": [
    "### Tests end of life"
   ]
  },
  {
   "cell_type": "code",
   "execution_count": 178,
   "id": "d860a6c3-66dc-4493-a500-cd5934ac8a58",
   "metadata": {
    "collapsed": true,
    "jupyter": {
     "outputs_hidden": true,
     "source_hidden": true
    }
   },
   "outputs": [
    {
     "name": "stdout",
     "output_type": "stream",
     "text": [
      "offsite_road construction_cs -1.45614035087719e-05 kilogram technosphere\n",
      "\n",
      "treatment of waste plastic, mixture, open dump, wet infiltration class (500mm) -1.0 kilogram technosphere\n",
      "\n",
      "treatment of waste polyethylene, open dump, wet infiltration class (500mm) -1.0 kilogram technosphere\n",
      "\n",
      "onsite_road construction_cs -1.45614035087719e-05 kilogram technosphere\n",
      "\n",
      "treatment of waste polystyrene, open dump, wet infiltration class (500mm) -0.9999999999999997 kilogram technosphere\n",
      "\n",
      "treatment of waste polyvinylchloride, open dump, wet infiltration class (500mm) -0.9999999999999998 kilogram technosphere\n",
      "\n",
      "treatment of municipal solid waste, open dump, wet infiltration class (500mm) -1.0000000000000004 kilogram technosphere\n",
      "\n"
     ]
    }
   ],
   "source": [
    "on_off_act = [act for act in case_studies if 'site' in act['name']]\n",
    "\n",
    "for activity in on_off_act:\n",
    "#    print(activity.as_dict())\n",
    "    for exc in activity.exchanges():\n",
    "        if exc['type'] != 'biosphere':\n",
    "            if exc['amount'] < 0:\n",
    "                print(exc.input['name'], exc['amount'], exc['unit'], exc['type'])\n",
    "                print()"
   ]
  },
  {
   "cell_type": "code",
   "execution_count": 163,
   "id": "5e529f54-e188-4b3c-8983-f8dee8089896",
   "metadata": {
    "collapsed": true,
    "jupyter": {
     "outputs_hidden": true,
     "source_hidden": true
    }
   },
   "outputs": [
    {
     "name": "stdout",
     "output_type": "stream",
     "text": [
      "{'database': 'case_study_data', 'code': 'onsite9caaa327', 'location': 'GLO', 'name': 'onsite_chimney production_eol', 'unit': 'meter', 'type': 'process', 'id': 24353}\n",
      "\n",
      "{'database': 'case_study_data', 'code': 'phd42793dc', 'location': 'GLO', 'name': 'chimney production_eol', 'unit': 'meter', 'type': 'process', 'id': 24308}\n",
      "\n",
      "{'database': 'case_study_data', 'code': 'offsitee404ad92', 'location': 'GLO', 'name': 'offsite_oil storage production, 3000l_eol', 'unit': 'unit', 'type': 'process', 'id': 24368}\n",
      "\n",
      "{'database': 'case_study_data', 'code': 'offsite9f8cebae', 'location': 'GLO', 'name': 'offsite_oil boiler production, 100kW_eol', 'unit': 'unit', 'type': 'process', 'id': 24424}\n",
      "\n",
      "{'database': 'case_study_data', 'code': 'onsite7c056642', 'location': 'GLO', 'name': 'onsite_oil boiler production, 100kW_eol', 'unit': 'unit', 'type': 'process', 'id': 24331}\n",
      "\n",
      "{'database': 'case_study_data', 'code': 'phcacd51c1', 'location': 'GLO', 'name': 'hot water tank production, 600l_eol', 'unit': 'unit', 'type': 'process', 'id': 24282}\n",
      "\n",
      "{'database': 'case_study_data', 'code': 'offsite87af8bdd', 'location': 'GLO', 'name': 'offsite_distribution network construction, electricity, low voltage_eol', 'unit': 'kilometer', 'type': 'process', 'id': 24340}\n",
      "\n",
      "{'database': 'case_study_data', 'code': 'ph16bbaaab', 'location': 'GLO', 'name': 'oil storage production, 3000l_eol', 'unit': 'unit', 'type': 'process', 'id': 24277}\n",
      "\n",
      "{'database': 'case_study_data', 'code': 'onsite6e97dd47', 'location': 'GLO', 'name': 'onsite_furnace production, pellets, with silo, 300kW_eol', 'unit': 'unit', 'type': 'process', 'id': 24381}\n",
      "\n",
      "{'database': 'case_study_data', 'code': 'onsiteb5b90258', 'location': 'GLO', 'name': 'onsite_photovoltaic panel production, multi-Si wafer_eol', 'unit': 'square meter', 'type': 'process', 'id': 24363}\n",
      "\n",
      "{'database': 'case_study_data', 'code': 'ph8143cd42', 'location': 'GLO', 'name': 'chimney production_eol', 'unit': 'meter', 'type': 'process', 'id': 24275}\n",
      "\n",
      "{'database': 'case_study_data', 'code': 'ph5d1ca11b', 'location': 'GLO', 'name': 'oil storage production, 3000l_eol', 'unit': 'unit', 'type': 'process', 'id': 24310}\n",
      "\n",
      "{'database': 'case_study_data', 'code': 'offsitee652c49d', 'location': 'GLO', 'name': 'offsite_photovoltaic mounting system production, for facade installation_eol', 'unit': 'square meter', 'type': 'process', 'id': 24376}\n",
      "\n",
      "{'database': 'case_study_data', 'code': 'ph96a70137', 'location': 'GLO', 'name': 'photovoltaic panel production, multi-Si wafer_eol', 'unit': 'square meter', 'type': 'process', 'id': 24264}\n",
      "\n",
      "{'database': 'case_study_data', 'code': 'ph014fad11', 'location': 'GLO', 'name': 'oil boiler production, 100kW_eol', 'unit': 'unit', 'type': 'process', 'id': 24309}\n",
      "\n",
      "{'database': 'case_study_data', 'code': 'offsite12bea9bd', 'location': 'GLO', 'name': 'offsite_inverter production, 2.5kW_eol', 'unit': 'unit', 'type': 'process', 'id': 24360}\n",
      "\n",
      "{'database': 'case_study_data', 'code': 'ph746a737d', 'location': 'GLO', 'name': 'distribution network construction, electricity, low voltage_eol', 'unit': 'kilometer', 'type': 'process', 'id': 24304}\n",
      "\n",
      "{'database': 'case_study_data', 'code': 'ph16a9ed93', 'location': 'GLO', 'name': 'furnace production, pellets, with silo, 300kW_eol', 'unit': 'unit', 'type': 'process', 'id': 24281}\n",
      "\n",
      "{'database': 'case_study_data', 'code': 'onsitecc7bd50b', 'location': 'GLO', 'name': 'onsite_photovoltaic panel production, multi-Si wafer_eol', 'unit': 'square meter', 'type': 'process', 'id': 24413}\n",
      "\n",
      "{'database': 'case_study_data', 'code': 'ph1960dc67', 'location': 'GLO', 'name': 'photovoltaic mounting system production, for facade installation_eol', 'unit': 'square meter', 'type': 'process', 'id': 24272}\n",
      "\n",
      "{'database': 'case_study_data', 'code': 'onsite1423e657', 'location': 'GLO', 'name': 'onsite_photovoltaic mounting system production, for facade installation_eol', 'unit': 'square meter', 'type': 'process', 'id': 24375}\n",
      "\n",
      "{'database': 'case_study_data', 'code': 'offsite64c10fe8', 'location': 'GLO', 'name': 'offsite_oil storage production, 3000l_eol', 'unit': 'unit', 'type': 'process', 'id': 24388}\n",
      "\n",
      "{'database': 'case_study_data', 'code': 'onsiteb00ca695', 'location': 'GLO', 'name': 'onsite_furnace production, pellets, with silo, 300kW_eol', 'unit': 'unit', 'type': 'process', 'id': 24399}\n",
      "\n",
      "{'database': 'case_study_data', 'code': 'offsited6f1b983', 'location': 'GLO', 'name': 'offsite_hot water tank production, 600l_eol', 'unit': 'unit', 'type': 'process', 'id': 24334}\n",
      "\n",
      "{'database': 'case_study_data', 'code': 'onsite8a73b5cf', 'location': 'GLO', 'name': 'onsite_inverter production, 2.5kW_eol', 'unit': 'unit', 'type': 'process', 'id': 24359}\n",
      "\n",
      "{'database': 'case_study_data', 'code': 'onsite18eb9f84', 'location': 'GLO', 'name': 'onsite_photovoltaics, electric installation for 3kWp module, at building_eol', 'unit': 'unit', 'type': 'process', 'id': 24411}\n",
      "\n",
      "{'database': 'case_study_data', 'code': 'onsite0b9f417b', 'location': 'GLO', 'name': 'onsite_inverter production, 2.5kW_eol', 'unit': 'unit', 'type': 'process', 'id': 24341}\n",
      "\n",
      "{'database': 'case_study_data', 'code': 'offsite52acc674', 'location': 'GLO', 'name': 'offsite_oil boiler production, 100kW_eol', 'unit': 'unit', 'type': 'process', 'id': 24332}\n",
      "\n",
      "{'database': 'case_study_data', 'code': 'onsite52092c29', 'location': 'GLO', 'name': 'onsite_photovoltaics, electric installation for 3kWp module, at building_eol', 'unit': 'unit', 'type': 'process', 'id': 24415}\n",
      "\n",
      "{'database': 'case_study_data', 'code': 'ph1f67f0d2', 'location': 'GLO', 'name': 'furnace production, pellets, with silo, 300kW_eol', 'unit': 'unit', 'type': 'process', 'id': 24294}\n",
      "\n",
      "{'database': 'case_study_data', 'code': 'offsitecb775d1d', 'location': 'GLO', 'name': 'offsite_hot water tank production, 600l_eol', 'unit': 'unit', 'type': 'process', 'id': 24330}\n",
      "\n",
      "{'database': 'case_study_data', 'code': 'offsiteafb6ce03', 'location': 'GLO', 'name': 'offsite_photovoltaic mounting system production, for facade installation_eol', 'unit': 'square meter', 'type': 'process', 'id': 24326}\n",
      "\n",
      "{'database': 'case_study_data', 'code': 'onsited2058973', 'location': 'GLO', 'name': 'onsite_distribution network construction, electricity, low voltage_eol', 'unit': 'kilometer', 'type': 'process', 'id': 24339}\n",
      "\n",
      "{'database': 'case_study_data', 'code': 'phd6d20831', 'location': 'GLO', 'name': 'photovoltaic mounting system production, for facade installation_eol', 'unit': 'square meter', 'type': 'process', 'id': 24263}\n",
      "\n",
      "{'database': 'case_study_data', 'code': 'phacf10d6e', 'location': 'GLO', 'name': 'photovoltaics, electric installation for 3kWp module, at building_eol', 'unit': 'unit', 'type': 'process', 'id': 24265}\n",
      "\n",
      "{'database': 'case_study_data', 'code': 'offsiteff4ad8ce', 'location': 'GLO', 'name': 'offsite_photovoltaic panel production, multi-Si wafer_eol', 'unit': 'square meter', 'type': 'process', 'id': 24414}\n",
      "\n",
      "{'database': 'case_study_data', 'code': 'offsite17270a76', 'location': 'GLO', 'name': 'offsite_oil power plant construction, 500MW_eol', 'unit': 'unit', 'type': 'process', 'id': 24384}\n",
      "\n",
      "{'database': 'case_study_data', 'code': 'phf183e52e', 'location': 'GLO', 'name': 'inverter production, 2.5kW_eol', 'unit': 'unit', 'type': 'process', 'id': 24271}\n",
      "\n",
      "{'database': 'case_study_data', 'code': 'onsitea6d8763d', 'location': 'GLO', 'name': 'onsite_chimney production_eol', 'unit': 'meter', 'type': 'process', 'id': 24373}\n",
      "\n",
      "{'database': 'case_study_data', 'code': 'onsite3de7fa4b', 'location': 'GLO', 'name': 'onsite_hot water tank production, 600l_eol', 'unit': 'unit', 'type': 'process', 'id': 24329}\n",
      "\n",
      "{'database': 'case_study_data', 'code': 'onsite55c068c7', 'location': 'GLO', 'name': 'onsite_distribution network construction, electricity, low voltage_eol', 'unit': 'kilometer', 'type': 'process', 'id': 24371}\n",
      "\n",
      "{'database': 'case_study_data', 'code': 'offsitea5a69b51', 'location': 'GLO', 'name': 'offsite_oil power plant construction, 500MW_eol', 'unit': 'unit', 'type': 'process', 'id': 24346}\n",
      "\n",
      "{'database': 'case_study_data', 'code': 'onsite2ca8443e', 'location': 'GLO', 'name': 'onsite_oil boiler production, 100kW_eol', 'unit': 'unit', 'type': 'process', 'id': 24423}\n",
      "\n",
      "{'database': 'case_study_data', 'code': 'offsiteeab54068', 'location': 'GLO', 'name': 'offsite_chimney production_eol', 'unit': 'meter', 'type': 'process', 'id': 24374}\n",
      "\n",
      "{'database': 'case_study_data', 'code': 'ph683d7db0', 'location': 'GLO', 'name': 'oil power plant construction, 500MW_eol', 'unit': 'unit', 'type': 'process', 'id': 24305}\n",
      "\n",
      "{'database': 'case_study_data', 'code': 'onsitefe259288', 'location': 'GLO', 'name': 'onsite_oil storage production, 3000l_eol', 'unit': 'unit', 'type': 'process', 'id': 24367}\n",
      "\n",
      "{'database': 'case_study_data', 'code': 'onsitefd258d6c', 'location': 'GLO', 'name': 'onsite_oil power plant construction, 500MW_eol', 'unit': 'unit', 'type': 'process', 'id': 24383}\n",
      "\n",
      "{'database': 'case_study_data', 'code': 'ph41758d14', 'location': 'GLO', 'name': 'distribution network construction, electricity, low voltage_eol', 'unit': 'kilometer', 'type': 'process', 'id': 24278}\n",
      "\n",
      "{'database': 'case_study_data', 'code': 'offsited599e426', 'location': 'GLO', 'name': 'offsite_distribution network construction, electricity, low voltage_eol', 'unit': 'kilometer', 'type': 'process', 'id': 24372}\n",
      "\n",
      "{'database': 'case_study_data', 'code': 'ph400b1190', 'location': 'GLO', 'name': 'inverter production, 2.5kW_eol', 'unit': 'unit', 'type': 'process', 'id': 24262}\n",
      "\n",
      "{'database': 'case_study_data', 'code': 'ph6bee5fe3', 'location': 'GLO', 'name': 'oil boiler production, 100kW_eol', 'unit': 'unit', 'type': 'process', 'id': 24276}\n",
      "\n",
      "{'database': 'case_study_data', 'code': 'ph77a61e18', 'location': 'GLO', 'name': 'photovoltaics, electric installation for 3kWp module, at building_eol', 'unit': 'unit', 'type': 'process', 'id': 24274}\n",
      "\n",
      "{'database': 'case_study_data', 'code': 'offsiteae26f738', 'location': 'GLO', 'name': 'offsite_photovoltaic panel production, multi-Si wafer_eol', 'unit': 'square meter', 'type': 'process', 'id': 24364}\n",
      "\n",
      "{'database': 'case_study_data', 'code': 'ph9b71a05e', 'location': 'GLO', 'name': 'hot water tank production, 600l_eol', 'unit': 'unit', 'type': 'process', 'id': 24295}\n",
      "\n",
      "{'database': 'case_study_data', 'code': 'onsitefe2c66ab', 'location': 'GLO', 'name': 'onsite_oil power plant construction, 500MW_eol', 'unit': 'unit', 'type': 'process', 'id': 24345}\n",
      "\n",
      "{'database': 'case_study_data', 'code': 'offsite17d0150c', 'location': 'GLO', 'name': 'offsite_photovoltaics, electric installation for 3kWp module, at building_eol', 'unit': 'unit', 'type': 'process', 'id': 24416}\n",
      "\n",
      "{'database': 'case_study_data', 'code': 'onsite5be67227', 'location': 'GLO', 'name': 'onsite_photovoltaic mounting system production, for facade installation_eol', 'unit': 'square meter', 'type': 'process', 'id': 24325}\n",
      "\n",
      "{'database': 'case_study_data', 'code': 'offsite45511b83', 'location': 'GLO', 'name': 'offsite_photovoltaics, electric installation for 3kWp module, at building_eol', 'unit': 'unit', 'type': 'process', 'id': 24412}\n",
      "\n",
      "{'database': 'case_study_data', 'code': 'onsitee1c1ee0b', 'location': 'GLO', 'name': 'onsite_oil storage production, 3000l_eol', 'unit': 'unit', 'type': 'process', 'id': 24387}\n",
      "\n",
      "{'database': 'case_study_data', 'code': 'offsite50ac5e0d', 'location': 'GLO', 'name': 'offsite_inverter production, 2.5kW_eol', 'unit': 'unit', 'type': 'process', 'id': 24342}\n",
      "\n",
      "{'database': 'case_study_data', 'code': 'phd6259de2', 'location': 'GLO', 'name': 'oil power plant construction, 500MW_eol', 'unit': 'unit', 'type': 'process', 'id': 24279}\n",
      "\n",
      "{'database': 'case_study_data', 'code': 'offsite2cf4d154', 'location': 'GLO', 'name': 'offsite_furnace production, pellets, with silo, 300kW_eol', 'unit': 'unit', 'type': 'process', 'id': 24382}\n",
      "\n",
      "{'database': 'case_study_data', 'code': 'offsite2cff40e4', 'location': 'GLO', 'name': 'offsite_chimney production_eol', 'unit': 'meter', 'type': 'process', 'id': 24354}\n",
      "\n",
      "{'database': 'case_study_data', 'code': 'onsiteec73be37', 'location': 'GLO', 'name': 'onsite_hot water tank production, 600l_eol', 'unit': 'unit', 'type': 'process', 'id': 24333}\n",
      "\n",
      "{'database': 'case_study_data', 'code': 'phf9b21a7b', 'location': 'GLO', 'name': 'photovoltaic panel production, multi-Si wafer_eol', 'unit': 'square meter', 'type': 'process', 'id': 24273}\n",
      "\n",
      "{'database': 'case_study_data', 'code': 'offsited229cf25', 'location': 'GLO', 'name': 'offsite_furnace production, pellets, with silo, 300kW_eol', 'unit': 'unit', 'type': 'process', 'id': 24400}\n",
      "\n"
     ]
    }
   ],
   "source": [
    "eol_activities = [act for act in case_studies if '_eol' in act['name']]\n",
    "\n",
    "for activity in eol_activities:\n",
    "    print(activity.as_dict())\n",
    "    for exc in activity.exchanges():\n",
    "        if exc['type'] != 'biosphere':\n",
    "            if exc['amount'] < 0:\n",
    "                print(exc.input['name'], exc['amount'], exc['unit'], exc['type'])\n",
    "    print()"
   ]
  },
  {
   "cell_type": "code",
   "execution_count": 197,
   "id": "d00e5746-19ef-4e7e-a176-cae0a4596a71",
   "metadata": {
    "collapsed": true,
    "jupyter": {
     "outputs_hidden": true,
     "source_hidden": true
    }
   },
   "outputs": [
    {
     "name": "stdout",
     "output_type": "stream",
     "text": [
      "{'database': 'case_study_data', 'code': 'offsitef8c23f43', 'location': 'GLO', 'name': 'offsite_market for municipal solid waste_cs', 'unit': 'kilogram', 'type': 'process', 'id': 24378}\n",
      "offsite_transport, freight, lorry >32 metric ton, EURO3_cs 0.01932 ton kilometer technosphere\n",
      "offsite_market for municipal solid waste_cs 1 kilogram production\n",
      "\n",
      "{'database': 'case_study_data', 'code': 'onsite9e9edc3a', 'location': 'GLO', 'name': 'onsite_market for waste polyvinylchloride_cs', 'unit': 'kilogram', 'type': 'process', 'id': 24381}\n",
      "onsite_transport, freight, lorry >32 metric ton, EURO3_cs 0.01932 ton kilometer technosphere\n",
      "treatment of waste polyvinylchloride, open dump, wet infiltration class (500mm) -0.9999999999999998 kilogram technosphere\n",
      "onsite_market for waste polyvinylchloride_cs 1 kilogram production\n",
      "\n",
      "{'database': 'case_study_data', 'code': 'onsitecb7c094f', 'location': 'GLO', 'name': 'onsite_market for waste polystyrene_cs', 'unit': 'kilogram', 'type': 'process', 'id': 24325}\n",
      "onsite_transport, freight, lorry >32 metric ton, EURO3_cs 0.01932 ton kilometer technosphere\n",
      "treatment of waste polystyrene, open dump, wet infiltration class (500mm) -0.9999999999999997 kilogram technosphere\n",
      "onsite_market for waste polystyrene_cs 1 kilogram production\n",
      "\n",
      "{'database': 'case_study_data', 'code': 'onsite1a3c3c30', 'location': 'GLO', 'name': 'onsite_market for waste plastic, mixture_cs', 'unit': 'kilogram', 'type': 'process', 'id': 24355}\n",
      "onsite_transport, freight, lorry >32 metric ton, EURO3_cs 0.01932 ton kilometer technosphere\n",
      "treatment of waste plastic, mixture, open dump, wet infiltration class (500mm) -1.0 kilogram technosphere\n",
      "onsite_market for waste plastic, mixture_cs 1 kilogram production\n",
      "\n",
      "{'database': 'case_study_data', 'code': 'offsite46ec625f', 'location': 'GLO', 'name': 'offsite_market for waste polyvinylchloride_cs', 'unit': 'kilogram', 'type': 'process', 'id': 24382}\n",
      "offsite_transport, freight, lorry >32 metric ton, EURO3_cs 0.01932 ton kilometer technosphere\n",
      "offsite_market for waste polyvinylchloride_cs 1 kilogram production\n",
      "\n",
      "{'database': 'case_study_data', 'code': 'onsitedc29407f', 'location': 'GLO', 'name': 'onsite_market for municipal solid waste_cs', 'unit': 'kilogram', 'type': 'process', 'id': 24377}\n",
      "onsite_transport, freight, lorry >32 metric ton, EURO3_cs 0.01932 ton kilometer technosphere\n",
      "treatment of municipal solid waste, open dump, wet infiltration class (500mm) -1.0000000000000004 kilogram technosphere\n",
      "onsite_market for municipal solid waste_cs 1 kilogram production\n",
      "\n",
      "{'database': 'case_study_data', 'code': 'offsite981788d9', 'location': 'GLO', 'name': 'offsite_market for waste polyethylene_cs', 'unit': 'kilogram', 'type': 'process', 'id': 24346}\n",
      "offsite_transport, freight, lorry >32 metric ton, EURO3_cs 0.01932 ton kilometer technosphere\n",
      "offsite_market for waste polyethylene_cs 1 kilogram production\n",
      "\n",
      "{'database': 'case_study_data', 'code': 'offsited738e45f', 'location': 'GLO', 'name': 'offsite_market for waste plastic, mixture_cs', 'unit': 'kilogram', 'type': 'process', 'id': 24356}\n",
      "offsite_transport, freight, lorry >32 metric ton, EURO3_cs 0.01932 ton kilometer technosphere\n",
      "offsite_market for waste plastic, mixture_cs 1 kilogram production\n",
      "\n",
      "{'database': 'case_study_data', 'code': 'onsited6756cec', 'location': 'GLO', 'name': 'onsite_market for waste polyethylene_cs', 'unit': 'kilogram', 'type': 'process', 'id': 24345}\n",
      "onsite_transport, freight, lorry >32 metric ton, EURO3_cs 0.01932 ton kilometer technosphere\n",
      "treatment of waste polyethylene, open dump, wet infiltration class (500mm) -1.0 kilogram technosphere\n",
      "onsite_market for waste polyethylene_cs 1 kilogram production\n",
      "\n",
      "{'database': 'case_study_data', 'code': 'offsite6f3dcf7f', 'location': 'GLO', 'name': 'offsite_market for waste polystyrene_cs', 'unit': 'kilogram', 'type': 'process', 'id': 24326}\n",
      "offsite_transport, freight, lorry >32 metric ton, EURO3_cs 0.01932 ton kilometer technosphere\n",
      "offsite_market for waste polystyrene_cs 1 kilogram production\n",
      "\n"
     ]
    }
   ],
   "source": [
    "waste_activities = [act for act in case_studies if '_cs' in act['name'] and 'waste' in act['name'] and 'site' in act['name']]#and 'site' in act['name']\n",
    "\n",
    "for activity in waste_activities:\n",
    "    print(activity.as_dict())\n",
    "    for exc in activity.exchanges():\n",
    "        if exc['type'] != 'biosphere':\n",
    "            print(exc.input['name'], exc['amount'], exc['unit'], exc['type'])\n",
    "    print()"
   ]
  },
  {
   "cell_type": "code",
   "execution_count": 114,
   "id": "992f6651-6a3b-4857-9221-5fafbbeee41e",
   "metadata": {
    "collapsed": true,
    "jupyter": {
     "outputs_hidden": true,
     "source_hidden": true
    }
   },
   "outputs": [
    {
     "name": "stdout",
     "output_type": "stream",
     "text": [
      "{'comment': 'Estimated based on UN statistics, data on plastic production from Plastics Europe, and information from Riber, 2008.\\nThis market dataset models the disposal mix for 1 kg of municipal solid waste in Cyprus using country-specific data. The mix is composed by the following technologies: 1% of open burning, 99% of unsanitary landfill. Values are rounded without decimals. If a technology is listed, it participates in the technology mix. The transport from the production site of the waste to the different treatment facilities where the waste is treated is accounted here. Collection of the waste is included in the transport estimate, reflecting transport distances from eurostat. There are no losses considered in the dataset. Reference: eurostat, 2018, Summary of annual road freight transport by type of operation and type of transport (1 000 t, Mio Tkm, Mio Veh-km), Retrieved online at: http://ec.europa.eu/eurostat/web/transport/data/database on 05 of June 2018\\nThis is a market activity, representing a treatment mix. In the case of products needing treatment, market mixes are supplied by the activities treating the product in the geography defined by the market, and they supply the activities needing to treat the product, as they have generated it as a by-product in the Undefined processes (present as a negative input in system models). Transport to the treating facility or losses are also accounted in this type of markets, when relevant.\\nIncluded activities start:  The activity starts with the input from the treatment processes.\\nIncluded activities end:  A market for a material for treatment (wastes or recyclables) ends with the provision of treatment, i.e. a mix of treatment providers, to activities that generate the reference product as a waste/by-product.\\nGeography:  The disposal mix is country-specific for Cyprus.\\nTechnology:  The dataset supplies a disposal mix (technology mix) of municipal solid waste  to the respective waste producing activities.', 'classifications': [('ISIC rev.4 ecoinvent', '3821:Treatment and disposal of non-hazardous waste'), ('CPC', '39910: Municipal waste')], 'activity type': 'market activity', 'activity': '6de2636b-bfb3-4ccc-927b-cdacc720b480', 'database': 'ecoinvent-3.8-cutoff', 'filename': '6de2636b-bfb3-4ccc-927b-cdacc720b480_27da8130-82ba-485c-a800-b89efdcb0491.spold', 'location': 'CY', 'name': 'market for municipal solid waste', 'synonyms': [], 'parameters': [], 'authors': {'data entry': {'name': 'Avraam Symeonidis', 'email': 'Symeonidis@ecoinvent.org'}, 'data generator': {'name': 'Avraam Symeonidis', 'email': 'Symeonidis@ecoinvent.org'}}, 'type': 'process', 'reference product': 'municipal solid waste', 'flow': '27da8130-82ba-485c-a800-b89efdcb0491', 'unit': 'kilogram', 'production amount': -1.0, 'code': '5c7c48942a854335523cdbb08fa0e1b2', 'id': 8161}\n",
      "market for transport, freight, lorry, unspecified 0.02125 ton kilometer technosphere\n",
      "market for municipal solid waste -1.0 kilogram production\n",
      "treatment of municipal solid waste, open burning -0.0135771 kilogram technosphere\n",
      "treatment of municipal solid waste, unsanitary landfill, wet infiltration class (500mm) -0.986423 kilogram technosphere\n"
     ]
    }
   ],
   "source": [
    "# Sélectionner une activité dans une bdd\n",
    "activity_2 = [\n",
    "    activity for activity in eidb\n",
    "    if 'market for municipal solid waste' in activity['name']\n",
    "#    and activity['location'] == 'GLO'\n",
    "][0]\n",
    "\n",
    "print(activity_2.as_dict())\n",
    "\n",
    "for exc in activity_2.exchanges():\n",
    "    if exc['type'] != 'biosphere':\n",
    "        print(exc.input['name'], exc['amount'], exc['unit'], exc['type'])"
   ]
  },
  {
   "cell_type": "code",
   "execution_count": 264,
   "id": "ca6764d0-7041-4698-a856-bd8093abb957",
   "metadata": {
    "collapsed": true,
    "jupyter": {
     "outputs_hidden": true,
     "source_hidden": true
    }
   },
   "outputs": [
    {
     "name": "stdout",
     "output_type": "stream",
     "text": [
      "{'comment': \"This dataset represents the activity of waste disposal of municipal solid waste in an open dump. Recommended use of this dataset: For municipal solid waste, which goes to disposal as part of unmanaged communal waste mixture.Inventoried waste contains 21% paper; 8% Mixed cardboard; 15% plastics; 3% laminated materials; 2% laminated packaging, e.g. tetra bricks; 3% combined goods e.g.  diapers; 3% glass; 2% textiles; 8% minerals; 9% natural products; 22% compostable material; 2.65% inert metals; 1% volatile metals; 0.0065% batteries; 0.34% electronic goods; .   //  Waste composition (wet, in ppm): upper heating value 13.27 MJ/kg; lower heating value 11.74 MJ/kg; H2O 228830; O 257060; H 48250; C 334230; S 1119; N 3123.8; P 893.79; B 7.1933; Cl 6866.2; Br 13.552; F 56.358; I 0.0121; Ag 0.714; As 0.62521; Ba 149.04; Cd 11.748; Co 1.3453; Cr 315.21; Cu 1212.8; Hg 1.4424; Mn 259.36; Mo 1.9551; Ni 107.38; Pb 502.43; Sb 22.564; Se 0.31969; Sn 73.44; V 9.2147; Zn 1311.2; Be n.a.; Sc n.a.; Sr n.a.; Ti n.a.; Tl n.a.; W n.a.; Si 48510; Fe 29996; Ca 14062; Al 12420; K 2059.7; Mg 3377.7; Na 5143.9; .   //  Share of carbon in waste that is biogenic 60.4%. Share of metals in waste not oxidised and bulk-recyclable (exclude very small or thin parts) Iron: 60.03%; Alu: 17.81%; Copper: 72.83%. Overall degradability of waste during 100 years: 18.73%. Degradability of composing waste fractions: paper: 27%; Mixed cardboard: 32.4%; plastics: 1%; laminated materials: 18%; laminated packaging, e.g. tetra bricks: 18%; combined goods e.g.  diapers: 18%; glass: 0%; textiles: 12%; minerals: 0%; natural products: 27%; compostable material: 27%; inert metals: 10%; volatile metals: 0%; batteries: 0%; electronic goods: 0%; .. \\nIncluded activities start:   from final waste deposition (without transports to the site)\\nIncluded activities end:   Waste-specific short-term emissions to air via landfill gas and landfill leachate. Waste-specific long-term emissions from landfill.\\nGeography:  Given name of landfill location is 'infiltration class 4 wet (2018)'. Landfill site with mean annual temperature (MAT) of 8 degC, mean annual precipitation (MAP) of 1100 mm/year, and net infiltration of 500 mm/year. \\nClimate adjustments result in an alpha t (temperature) for permafrost areas of 0.999. Total climate adjustments with alpha pt of 0.999. \\nTechnology:  This is an inventory for an open, uncontrolled waste dump for municipal solid waste. Ultimate average landfill height is 7 meters. Operation phase duration is 15 years.Percentage of landfill gas directly emitted is 100w%. A Methane Correction Factor (MCF) for landfill air emissions of 0.7057 is employed. \\nLeachate of the landfill is not treated. Based on average waste composition and climate data the end of carbonate phase is estimated to be reached 1632 years after waste deposition. \", 'classifications': [('ISIC rev.4 ecoinvent', '3821:Treatment and disposal of non-hazardous waste'), ('CPC', '39910: Municipal waste')], 'activity type': 'ordinary transforming activity', 'activity': '69aec830-969a-47b4-a8c0-fd1067b38716', 'database': 'ecoinvent-3.8-cutoff', 'filename': '69aec830-969a-47b4-a8c0-fd1067b38716_27da8130-82ba-485c-a800-b89efdcb0491.spold', 'location': 'GLO', 'name': 'treatment of municipal solid waste, open dump, wet infiltration class (500mm)', 'synonyms': ['municipal waste landfill'], 'parameters': [], 'authors': {'data entry': {'name': '[System]', 'email': 'support@ecoinvent.org'}, 'data generator': {'name': 'Avraam Symeonidis', 'email': 'Symeonidis@ecoinvent.org'}}, 'type': 'process', 'reference product': 'municipal solid waste', 'flow': '27da8130-82ba-485c-a800-b89efdcb0491', 'unit': 'kilogram', 'production amount': -1.0, 'code': 'f596275f98af8ab02b361519dc55eb8d', 'id': 17425}\n",
      "Copper, ion 2.9077e-07 kilogram biosphere\n",
      "Cobalt 1.2292e-06 kilogram biosphere\n",
      "Nickel 9.5851e-11 kilogram biosphere\n",
      "Cadmium, ion 1.3935e-07 kilogram biosphere\n",
      "Cadmium, ion 1.1607e-05 kilogram biosphere\n",
      "Chromium 8.4167e-11 kilogram biosphere\n",
      "Mercury 2.991e-09 kilogram biosphere\n",
      "Fluoride 4.9761e-05 kilogram biosphere\n",
      "Copper 8.3078e-11 kilogram biosphere\n",
      "Chromium VI 3.3667e-07 kilogram biosphere\n",
      "Bromine 1.1843e-05 kilogram biosphere\n",
      "Mercury 1.1964e-09 kilogram biosphere\n",
      "Cobalt 1.1603e-07 kilogram biosphere\n",
      "Arsenic, ion 5.9479e-07 kilogram biosphere\n",
      "Barium 2.7404e-09 kilogram biosphere\n",
      "Iodide 8.2173e-09 kilogram biosphere\n",
      "Iodide 3.7675e-09 kilogram biosphere\n",
      "Cadmium 9.29e-10 kilogram biosphere\n",
      "Arsenic, ion 3.0002e-08 kilogram biosphere\n",
      "Silver, ion 7.14e-07 kilogram biosphere\n",
      "Cobalt 2.9007e-11 kilogram biosphere\n",
      "Barium 1.0962e-05 kilogram biosphere\n",
      "Chloride 0.0056074 kilogram biosphere\n",
      "Hydrogen chloride 1.7894e-05 kilogram biosphere\n",
      "Bromine 1.6854e-06 kilogram biosphere\n",
      "Phosphate 0.00018139 kilogram biosphere\n",
      "Arsenic 4.2058e-10 kilogram biosphere\n",
      "Fluoride 1.0719e-06 kilogram biosphere\n",
      "Boron 7.1933e-15 kilogram biosphere\n",
      "Bromine 2.3627e-08 kilogram biosphere\n",
      "Chloride 0.0012414 kilogram biosphere\n",
      "Nitrate 6.6454e-05 kilogram biosphere\n",
      "Hydrogen fluoride 5.8159e-06 kilogram biosphere\n",
      "Boron 7.1933e-06 kilogram biosphere\n",
      "Nitrite 3.4392e-05 kilogram biosphere\n",
      "Iodine 1.152e-10 kilogram biosphere\n",
      "Phosphate 4.1488e-05 kilogram biosphere\n",
      "Nitrogen, organic bound 0.0010328 kilogram biosphere\n",
      "Methane, fossil 0.0012548 kilogram biosphere\n",
      "Nitrite 3.2684e-05 kilogram biosphere\n",
      "DOC, Dissolved Organic Carbon 0.27805 kilogram biosphere\n",
      "Sulfur dioxide 2.7408e-05 kilogram biosphere\n",
      "Nitrogen, organic bound 0.00098149 kilogram biosphere\n",
      "Sulfate 0.0028701 kilogram biosphere\n",
      "Nitrogen oxides 8.6438e-07 kilogram biosphere\n",
      "Nitrate 6.3153e-05 kilogram biosphere\n",
      "TOC, Total Organic Carbon 0.27805 kilogram biosphere\n",
      "Occupation, dump site 0.0035714 square meter-year biosphere\n",
      "Hydrogen sulfide 5.697e-06 kilogram biosphere\n",
      "Ammonium, ion 0.00063189 kilogram biosphere\n",
      "Carbon dioxide, non-fossil 0.11573 kilogram biosphere\n",
      "Sulfate 0.00021855 kilogram biosphere\n",
      "COD, Chemical Oxygen Demand 0.30412 kilogram biosphere\n",
      "Methane, non-fossil 0.027457 kilogram biosphere\n",
      "DOC, Dissolved Organic Carbon 0.0016362 kilogram biosphere\n",
      "Hydrogen sulfide 7.4816e-05 kilogram biosphere\n",
      "Carbon dioxide, fossil 0.0052893 kilogram biosphere\n",
      "Ammonium, ion 0.00060051 kilogram biosphere\n",
      "BOD5, Biological Oxygen Demand 0.071996 kilogram biosphere\n",
      "Magnesium 0.0029693 kilogram biosphere\n",
      "BOD5, Biological Oxygen Demand 0.00042366 kilogram biosphere\n",
      "Aluminium 0.012324 kilogram biosphere\n",
      "Heat, waste 1.732 megajoule biosphere\n",
      "Potassium, ion 0.0016325 kilogram biosphere\n",
      "Heat, waste 11.086 megajoule biosphere\n",
      "Sodium, ion 0.0040925 kilogram biosphere\n",
      "TOC, Total Organic Carbon 0.0016362 kilogram biosphere\n",
      "Magnesium 0.00040826 kilogram biosphere\n",
      "Iron, ion 0.029965 kilogram biosphere\n",
      "COD, Chemical Oxygen Demand 0.0017896 kilogram biosphere\n",
      "Sodium, ion 0.0010511 kilogram biosphere\n",
      "Zinc, ion 0.001309 kilogram biosphere\n",
      "Potassium 1.0678e-07 kilogram biosphere\n",
      "Calcium, ion 0.00031309 kilogram biosphere\n",
      "Silicon 0.00041824 kilogram biosphere\n",
      "Magnesium 1.0206e-07 kilogram biosphere\n",
      "Aluminium 9.5733e-05 kilogram biosphere\n",
      "Calcium, ion 0.013749 kilogram biosphere\n",
      "Sodium 2.6279e-07 kilogram biosphere\n",
      "Potassium, ion 0.00042712 kilogram biosphere\n",
      "Tin, ion 7.3426e-05 kilogram biosphere\n",
      "Calcium 7.8273e-08 kilogram biosphere\n",
      "Tin, ion 1.3628e-08 kilogram biosphere\n",
      "Vanadium, ion 1.1827e-06 kilogram biosphere\n",
      "Aluminium 2.3933e-08 kilogram biosphere\n",
      "Vanadium, ion 1.8241e-07 kilogram biosphere\n",
      "Selenium 3.9612e-08 kilogram biosphere\n",
      "Silicon 5.1841e-08 kilogram biosphere\n",
      "Silicon 0.00020736 kilogram biosphere\n",
      "Antimony 9.4617e-07 kilogram biosphere\n",
      "Zinc 5.0861e-10 kilogram biosphere\n",
      "Zinc, ion 2.2887e-06 kilogram biosphere\n",
      "Lead 0.00050226 kilogram biosphere\n",
      "Iron 7.7601e-09 kilogram biosphere\n",
      "Iron, ion 3.1041e-05 kilogram biosphere\n",
      "Molybdenum 3.5192e-07 kilogram biosphere\n",
      "Tin 3.4071e-12 kilogram biosphere\n",
      "Selenium 6.0913e-09 kilogram biosphere\n",
      "Manganese 0.00025342 kilogram biosphere\n",
      "Vanadium 4.5603e-11 kilogram biosphere\n",
      "Lead 1.6844e-07 kilogram biosphere\n",
      "Nickel, ion 0.000107 kilogram biosphere\n",
      "Selenium 1.5228e-12 kilogram biosphere\n",
      "Antimony 1.2904e-07 kilogram biosphere\n",
      "Chromium VI 5.8227e-07 kilogram biosphere\n",
      "Molybdenum 1.4066e-11 kilogram biosphere\n",
      "Manganese 5.9359e-06 kilogram biosphere\n",
      "Copper, ion 0.0012125 kilogram biosphere\n",
      "Manganese 1.484e-09 kilogram biosphere\n",
      "Molybdenum 5.6264e-08 kilogram biosphere\n",
      "Mercury 1.4382e-06 kilogram biosphere\n",
      "Lead 5.6147e-11 kilogram biosphere\n",
      "Nickel, ion 3.834e-07 kilogram biosphere\n",
      "Barium 0.00013807 kilogram biosphere\n",
      "Antimony 3.226e-11 kilogram biosphere\n"
     ]
    }
   ],
   "source": [
    "# Sélectionner une activité dans une bdd\n",
    "activity_2 = [\n",
    "    activity for activity in eidb\n",
    "    if 'treatment of municipal solid waste, open dump, wet infiltration class (500mm)' in activity['name']\n",
    "    and activity['location'] == 'GLO'\n",
    "][0]\n",
    "\n",
    "print(activity_2.as_dict())\n",
    "\n",
    "for exc in activity_2.exchanges():\n",
    "    if exc['type'] == 'biosphere':\n",
    "        print(exc.input['name'], exc['amount'], exc['unit'], exc['type'])"
   ]
  },
  {
   "cell_type": "code",
   "execution_count": 172,
   "id": "060c0b6b-4285-4ea5-9844-0480cc62e81d",
   "metadata": {
    "collapsed": true,
    "jupyter": {
     "outputs_hidden": true,
     "source_hidden": true
    }
   },
   "outputs": [
    {
     "name": "stdout",
     "output_type": "stream",
     "text": [
      "{'database': 'case_study_data', 'code': 'offsite2f99c298', 'location': 'GLO', 'name': 'offsite_market for municipal solid waste_cs', 'unit': 'kilogram', 'type': 'process', 'id': 24422}\n",
      "offsite_transport, freight, lorry >32 metric ton, EURO3_cs 0.01932 ton kilometer technosphere\n",
      "market group for transport, freight train 0.000639362449339934 ton kilometer technosphere\n",
      "market for transport, freight train 0.01056063755066007 ton kilometer technosphere\n",
      "offsite_market for municipal solid waste_cs 1 kilogram production\n"
     ]
    }
   ],
   "source": [
    "# Sélectionner une activité dans une bdd\n",
    "activity_eol = [\n",
    "    activity for activity in case_studies\n",
    "    if 'municipal solid waste' in activity['name']\n",
    "    and 'offsite' in activity['name']\n",
    "][0]\n",
    "\n",
    "print(activity_eol.as_dict())\n",
    "\n",
    "for exc in activity_eol.exchanges():\n",
    "#    if exc['type'] != 'biosphere':\n",
    "        print(exc.input['name'], exc['amount'], exc['unit'], exc['type'])"
   ]
  },
  {
   "cell_type": "code",
   "execution_count": 175,
   "id": "e8558b57-d07b-426b-8883-3b3166611c9c",
   "metadata": {
    "jupyter": {
     "source_hidden": true
    }
   },
   "outputs": [],
   "source": [
    "functional_units_1 = {\n",
    "    \"activity\": {activity_eol.id: 1},\n",
    "}\n",
    "config_1 = {\n",
    "    \"impact_categories\": iww_methods\n",
    "}\n",
    "data_objs_1 = bd.get_multilca_data_objs(functional_units=functional_units_1, method_config=config_1)"
   ]
  },
  {
   "cell_type": "code",
   "execution_count": 176,
   "id": "779e73ad-5368-4271-9f8b-60a90b1ab145",
   "metadata": {
    "collapsed": true,
    "jupyter": {
     "outputs_hidden": true,
     "source_hidden": true
    },
    "scrolled": true
   },
   "outputs": [
    {
     "data": {
      "text/plain": [
       "{(('IMPACT World+ World', 'Midpoint', 'Freshwater ecotoxicity'),\n",
       "  'activity'): 30.562744521577805,\n",
       " (('IMPACT World+ World', 'Midpoint', 'Human toxicity cancer'),\n",
       "  'activity'): 1.7183530715100163e-08,\n",
       " (('IMPACT World+ World', 'Midpoint', 'Human toxicity non-cancer'),\n",
       "  'activity'): 3.813867549739238e-08,\n",
       " (('IMPACT World+ World', 'Midpoint', 'Particulate matter formation'),\n",
       "  'activity'): 0.001283846993349803,\n",
       " (('IMPACT World+ World', 'Midpoint', 'Marine eutrophication'),\n",
       "  'activity'): 0.0007888068494102015,\n",
       " (('IMPACT World+ World', 'Midpoint', 'Freshwater eutrophication'),\n",
       "  'activity'): 0.00012873391813497014,\n",
       " (('IMPACT World+ World', 'Midpoint', 'Terrestrial acidification'),\n",
       "  'activity'): 0.026222363422031953,\n",
       " (('IMPACT World+ World', 'Midpoint', 'Freshwater acidification'),\n",
       "  'activity'): 0.026222363422031953,\n",
       " (('IMPACT World+ World', 'Midpoint', 'Water scarcity'),\n",
       "  'activity'): 0.044277998029318866,\n",
       " (('IMPACT World+ World', 'Midpoint', 'Land occupation, biodiversity'),\n",
       "  'activity'): 0.0021685932811954813,\n",
       " (('IMPACT World+ World', 'Midpoint', 'Land transformation, biodiversity'),\n",
       "  'activity'): -5.300824558094338e-05}"
      ]
     },
     "execution_count": 176,
     "metadata": {},
     "output_type": "execute_result"
    }
   ],
   "source": [
    "mlca_1 = bc.MultiLCA(demands=functional_units_1, method_config=config_1, data_objs=data_objs_1)\n",
    "mlca_1.lci()\n",
    "mlca_1.lcia()\n",
    "mlca_1.scores"
   ]
  },
  {
   "cell_type": "markdown",
   "id": "437117aa-cfad-4b67-a7f4-71752876cff0",
   "metadata": {
    "jp-MarkdownHeadingCollapsed": true
   },
   "source": [
    "### Autre"
   ]
  },
  {
   "cell_type": "code",
   "execution_count": 113,
   "id": "051a0d7f-c1be-418e-b497-e75a65279df8",
   "metadata": {},
   "outputs": [
    {
     "data": {
      "text/plain": [
       "'photovoltaic facade installation, 3kWp, multi-Si, panel, mounted, at building_dist' (unit, GLO, None)"
      ]
     },
     "execution_count": 113,
     "metadata": {},
     "output_type": "execute_result"
    }
   ],
   "source": [
    "random_activity = case_studies.random()\n",
    "random_activity"
   ]
  },
  {
   "cell_type": "code",
   "execution_count": 114,
   "id": "c2c55eb0-6bf7-4576-a557-e52203dc92e4",
   "metadata": {},
   "outputs": [
    {
     "name": "stdout",
     "output_type": "stream",
     "text": [
      "market for electricity, low voltage\n",
      "market group for electricity, low voltage\n",
      "photovoltaic facade installation, 3kWp, multi-Si, panel, mounted, at building_dist\n"
     ]
    }
   ],
   "source": [
    "for exc in random_activity.exchanges():\n",
    "    print(exc.input['name'])"
   ]
  },
  {
   "cell_type": "code",
   "execution_count": 115,
   "id": "64712208-40f0-4dcf-b30d-d8ede31e77fc",
   "metadata": {},
   "outputs": [],
   "source": [
    "functional_units_1 = {\n",
    "    \"activity\": {random_activity.id: 1},\n",
    "}\n",
    "config_1 = {\n",
    "    \"impact_categories\": iww_methods\n",
    "}\n",
    "data_objs_1 = bd.get_multilca_data_objs(functional_units=functional_units_1, method_config=config_1)"
   ]
  },
  {
   "cell_type": "code",
   "execution_count": 118,
   "id": "2991968d-0906-4d0a-866b-35ecbdf5aaa5",
   "metadata": {},
   "outputs": [
    {
     "name": "stdout",
     "output_type": "stream",
     "text": [
      "{(('IMPACT World+ World', 'Midpoint', 'Freshwater ecotoxicity'), 'activity'): 0.9211945622471966, (('IMPACT World+ World', 'Midpoint', 'Human toxicity cancer'), 'activity'): 2.0422119831512404e-10, (('IMPACT World+ World', 'Midpoint', 'Human toxicity non-cancer'), 'activity'): 1.6921821463046048e-09, (('IMPACT World+ World', 'Midpoint', 'Particulate matter formation'), 'activity'): 4.943567026466063e-06, (('IMPACT World+ World', 'Midpoint', 'Marine eutrophication'), 'activity'): 1.2231345378230712e-06, (('IMPACT World+ World', 'Midpoint', 'Freshwater eutrophication'), 'activity'): 1.334677505398253e-07, (('IMPACT World+ World', 'Midpoint', 'Terrestrial acidification'), 'activity'): 6.613328411891581e-05, (('IMPACT World+ World', 'Midpoint', 'Freshwater acidification'), 'activity'): 6.613328411891581e-05, (('IMPACT World+ World', 'Midpoint', 'Water scarcity'), 'activity'): 0.011826149701892774, (('IMPACT World+ World', 'Midpoint', 'Land occupation, biodiversity'), 'activity'): 0.00015337635793662404, (('IMPACT World+ World', 'Midpoint', 'Land transformation, biodiversity'), 'activity'): -1.1801809964029169e-06}\n"
     ]
    }
   ],
   "source": [
    "mlca_1 = bc.MultiLCA(demands=functional_units_1, method_config=config_1, data_objs=data_objs_1)\n",
    "mlca_1.lci()\n",
    "mlca_1.lcia()\n",
    "print({key : arr.sum() for key, arr in mlca_1.characterized_inventories.items()})"
   ]
  },
  {
   "cell_type": "code",
   "execution_count": null,
   "id": "8b5483ec-8021-41b7-a2a6-0ecd9cef075f",
   "metadata": {},
   "outputs": [],
   "source": [
    "mlca_1 = bc.MultiLCA(demands=functional_units_1, method_config=config_1, data_objs=data_objs_1)\n",
    "mlca_1.lci()\n",
    "mlca_1.lcia()\n",
    "mlca_1.scores"
   ]
  },
  {
   "cell_type": "code",
   "execution_count": null,
   "id": "e8bd7264-fbfa-4069-ac71-843804d91831",
   "metadata": {},
   "outputs": [],
   "source": [
    "# Vérification top level activities\n",
    "top_level_acts = [act for act in case_studies if any(name in act['name'] for name in top_process_names) and not any(phase in act['name'] for phase in phases)]\n",
    "for act in top_level_acts:\n",
    "    print(act['name'])\n",
    "    for exc in act.exchanges():\n",
    "        print(exc.input['name'])"
   ]
  },
  {
   "cell_type": "code",
   "execution_count": 56,
   "id": "87c91de2-bc58-4e03-a24b-383e49f302e8",
   "metadata": {},
   "outputs": [
    {
     "name": "stdout",
     "output_type": "stream",
     "text": [
      "offsite_heat, baseline, use phase process item\n",
      "offsite_heat production, light fuel oil, at boiler 100kW, non-modulating_use technosphere 1.0 megajoule\n",
      "offsite_heat, baseline, use phase production 1 item\n"
     ]
    }
   ],
   "source": [
    "# Sélectionner une activité dans une bdd\n",
    "activity_1 = [\n",
    "    activity for activity in case_studies\n",
    "    if 'offsite' in activity['name']\n",
    "    if 'phase' in activity['name']   \n",
    "#    if 'offsite_distribution electricity, baseline_0' in activity['name']\n",
    "#    and 'onsite' in activity['name']\n",
    "#    and 'distribution' in activity['name']  \n",
    "\n",
    "#    and '300' in activity['name']   \n",
    "#    and activity['location'] == 'RoW'\n",
    "][0]\n",
    "print(activity_1['name'], activity_1['type'], activity_1['unit'])\n",
    "for exc in activity_1.exchanges():\n",
    " #   sub_act = [act for act in eidb if exc.input['name'] in act['name']][0]\n",
    "  #  for exchange in sub_act.exchanges():\n",
    "        print(exc.input['name'], exc['type'], exc['amount'], exc['unit'])"
   ]
  },
  {
   "cell_type": "code",
   "execution_count": 41,
   "id": "1d4cc202-7a2b-4308-b89d-d54c9dc9074b",
   "metadata": {},
   "outputs": [],
   "source": [
    "Nu_methods = [method for method in bd.methods if 'IMPACT World+ Nunavik' in method[0]]\n",
    "Ca_methods = [method for method in bd.methods if 'IMPACT World+ Canada' in method[0]]\n",
    "Wo_methods = [method for method in bd.methods if 'IMPACT World+ World' in method[0]]"
   ]
  },
  {
   "cell_type": "code",
   "execution_count": 61,
   "id": "9608a8db-fa84-40a1-898c-6d1be27c8f08",
   "metadata": {},
   "outputs": [
    {
     "name": "stdout",
     "output_type": "stream",
     "text": [
      "nan\n"
     ]
    }
   ],
   "source": [
    "lca = bc.LCA({activity_1:1}, Nu_methods[0])\n",
    "lca.lci()\n",
    "lca.lcia()\n",
    "\n",
    "print(lca.score)"
   ]
  },
  {
   "cell_type": "code",
   "execution_count": null,
   "id": "96ddb8de-4fa3-4ea3-a351-2bea903deb59",
   "metadata": {
    "jupyter": {
     "source_hidden": true
    },
    "scrolled": true
   },
   "outputs": [],
   "source": [
    "# Afficher les scénarios triés et les exchanges associés\n",
    "\n",
    "phase_activities = [act for act in case_studies if 'phase' in act['name'] and 'dist' in act['name']]\n",
    "phase_order = ['production phase', 'distribution phase', 'use phase', 'end of life phase']\n",
    "\n",
    "def get_scenario_phase_location(activity):\n",
    "\n",
    "    parts_undr = activity['name'].split('_')\n",
    "    location = parts_undr[0]\n",
    "    parts_coma = parts_undr[1].split(', ')\n",
    "    scenario = parts_coma[0] + parts_coma[1]\n",
    "    phase = parts_coma[2]\n",
    "    return scenario, location, phase\n",
    "\n",
    "# Trier la liste des activités\n",
    "sorted_activities = sorted(\n",
    "    phase_activities,\n",
    "    key=lambda act: (\n",
    "        get_scenario_phase_location(act)[0],  # Trier par scénario\n",
    "        get_scenario_phase_location(act)[1],  # Trier par localisation\n",
    "        phase_order.index(get_scenario_phase_location(act)[2])  # Trier par phase selon l'ordre défini\n",
    "    )\n",
    ")\n",
    "\n",
    "# Afficher les activités triées\n",
    "for activity in sorted_activities:\n",
    "    print(f\"Activity: {activity['name']}, {activity['unit']}\")\n",
    "    for exc in activity.exchanges():\n",
    "        print(f\"  - {exc.input['name']}, {exc['amount']}{exc['unit']}\")\n",
    "        sub_exc_act = [act for act in case_studies if exc.input['name'] in act['name']][0]# and exc.input['location'] == 'RoW'][0]\n",
    "        for sub_exc in sub_exc_act.exchanges():\n",
    "            print(f\"    - {sub_exc.input['name']}, {sub_exc['amount']}{sub_exc['unit']}\")\n",
    "    print(' ')"
   ]
  },
  {
   "cell_type": "code",
   "execution_count": null,
   "id": "e5a011aa-e86e-4f8e-b903-4ce314d053cc",
   "metadata": {
    "jupyter": {
     "source_hidden": true
    }
   },
   "outputs": [],
   "source": [
    "# Récupérer les masses transportées par bateau suivant la phase de distribution\n",
    "\n",
    "container_ship = [\n",
    "    activity for activity in eidb\n",
    "    if 'market for transport, freight, sea, container ship' in activity['name']\n",
    "    and not 'with' in activity['name']\n",
    "][0]\n",
    "\n",
    "offsite_acts = [\n",
    "    activity for activity in case_studies\n",
    "    if 'offsite_' in activity['name']\n",
    "#    and not 'with' in activity['name']\n",
    "]\n",
    "\n",
    "scenarios = ['electricity, baseline', 'electricity, alternative', 'heat, baseline', 'heat, alternative']\n",
    "\n",
    "# Initialiser le dictionnaire des activités\n",
    "scenario_dict = {}\n",
    "\n",
    "# Parcourir les scénarios\n",
    "for scenario in scenarios:\n",
    "    # Initialiser la liste des activités pour chaque scénario\n",
    "    scenario_acts = [\n",
    "        activity for activity in case_studies\n",
    "        if 'production' in activity['name'] \n",
    "        and scenario in activity['name']\n",
    "        and 'offsite' in activity['name']\n",
    "    ]\n",
    "    sc_dist_act = [\n",
    "        activity for activity in case_studies\n",
    "        if 'distribution' in activity['name'] \n",
    "        and scenario in activity['name']\n",
    "        and 'offsite' in activity['name']\n",
    "    ][0]\n",
    "    # Parcourir chaque activité de la liste scenario_acts\n",
    "    for scenario_act in scenario_acts:\n",
    "        # Ajouter l'activité courante dans le dictionnaire\n",
    "        scenario_dict[scenario_act['name']] = {}\n",
    "        # Parcourir les échanges de la technosphère de l'activité\n",
    "        for exc in scenario_act.exchanges():\n",
    "            # Chercher l'activité pointée par l'échange\n",
    "            sub_act = [act for act in case_studies if exc.input['name'] in act['name']][0]\n",
    "            dist_act_name = sub_act['name'].replace(\"_prod\", \"_dist\")\n",
    "            multiplier = exc['amount']\n",
    "            print(sub_act['name'])\n",
    "            # Calculer la somme des masses positives des échanges de l'activité pointée\n",
    "            total_mass = 0\n",
    "            for sub_exc in sub_act.exchanges():\n",
    "                print(f\"    - {sub_exc.input['name']}, {sub_exc['amount']} {sub_exc['unit']}\")\n",
    "                if sub_exc['unit'] == 'kilogram' and sub_exc['amount'] > 0 and sub_exc['type'] != 'biosphere' :\n",
    "                    total_mass += sub_exc.get('amount', 0)\n",
    "            \n",
    "            # Ajouter la somme des masses dans le dictionnaire pour l'activité pointée\n",
    "            scenario_dict[scenario_act['name']][sub_act['name']] = (total_mass) #* multiplier)                   \n",
    "\n",
    "# Affichage du dictionnaire final\n",
    "print(scenario_dict)\n"
   ]
  },
  {
   "cell_type": "code",
   "execution_count": null,
   "id": "529a55f1-82a5-4d83-ad10-842f4fb904e8",
   "metadata": {},
   "outputs": [],
   "source": [
    "# Afficher les activités multirégionales et les exchanges associés\n",
    "\n",
    "multi_activities = [act for act in case_studies if 'phase' in act['name']]\n",
    "\n",
    "# Afficher les activités triées\n",
    "for activity in multi_activities:\n",
    "    print(f\"Activity: {activity['name']}\")\n",
    "    for exc in activity.technosphere():\n",
    "        print(f\"  - {exc.input['name']}\")\n",
    "#        sub_exc_act = [act for act in case_studies if exc.input['name'] in act['name']][0]# and exc.input['location'] == 'RoW'][0]\n",
    "#        for sub_exc in sub_exc_act.technosphere():\n",
    "#            print(f\"    - {sub_exc.input['name']}\")\n",
    "    print(' ')"
   ]
  },
  {
   "cell_type": "code",
   "execution_count": null,
   "id": "7a6efb2a-85f2-406f-b345-30aa107ddf2f",
   "metadata": {
    "jupyter": {
     "source_hidden": true
    }
   },
   "outputs": [],
   "source": [
    "# Effacer un exchange en particulier\n",
    "\n",
    "# Trouver l'activité spécifique\n",
    "activities = [act for act in case_studies if 'electricity production, oil' in act['name']]\n",
    "\n",
    "# Identifier l'échange à supprimer\n",
    "for activity in activities:\n",
    "    for exc in activity.exchanges():\n",
    "        if 'waste mineral oil' in exc.input['name']:  # Critère pour identifier l'échange\n",
    "            exc.delete()\n",
    "            print(f\"L'échange '{exc.input['name']}' a été supprimé de l'activité '{activity['name']}'.\")\n",
    "            activity.save()"
   ]
  },
  {
   "cell_type": "code",
   "execution_count": null,
   "id": "27d7971d-b337-45d4-8ccb-1c2be853bbce",
   "metadata": {
    "jupyter": {
     "source_hidden": true
    }
   },
   "outputs": [],
   "source": [
    "# Trouver l'activité spécifique\n",
    "activities = [act for act in case_studies if 'phase' in act['name']]\n",
    "activities"
   ]
  },
  {
   "cell_type": "code",
   "execution_count": null,
   "id": "774bd705-1033-4839-bdef-c6844a6fb838",
   "metadata": {
    "jupyter": {
     "source_hidden": true
    }
   },
   "outputs": [],
   "source": [
    "### Récupérer les noms des activités dans un excel en supprimant les préfixes et en évitant les doublons\n",
    "prefixes = ['offsite_', 'onsite_', 'waste_']\n",
    "activity_names = [activity['name'] for activity in elec_bl]\n",
    "\n",
    "# Supprimer les préfixes\n",
    "cleaned_activity_names = []\n",
    "for name in activity_names:\n",
    "    for prefix in prefixes:\n",
    "        if name.startswith(prefix):\n",
    "            name = name[len(prefix):]\n",
    "    cleaned_activity_names.append(name)\n",
    "\n",
    "# Enlever les doublons\n",
    "unique_activity_names = list(set(cleaned_activity_names))\n",
    "\n",
    "# Créer un DataFrame avec les noms sans doublons\n",
    "df = pd.DataFrame(unique_activity_names, columns=['Activity Name'])\n",
    "\n",
    "# Écrire le DataFrame dans un fichier Excel\n",
    "#df.to_excel(\"activities_names.xlsx\", index=False)\n"
   ]
  },
  {
   "cell_type": "code",
   "execution_count": null,
   "id": "bb3028aa-0aa6-4925-82c3-405459dbe05b",
   "metadata": {
    "jupyter": {
     "source_hidden": true
    }
   },
   "outputs": [],
   "source": [
    "# Trouver une liste d'activités et lister les échanges de chaque activité\n",
    "\n",
    "# Step 1: Find all activities with 'phase' in their name\n",
    "phase_activities = [act for act in elec_bl if 'phase' in act['name']]\n",
    "\n",
    "for activity in phase_activities:\n",
    "    print(f\"Activity: {activity['name']}\")\n",
    "    for exc in activity.exchanges():\n",
    "        print(f\"  - {exc.input['name']}\")           \n"
   ]
  },
  {
   "cell_type": "code",
   "execution_count": null,
   "id": "d4f89c3a-e9ec-4ee9-be3f-566c4a3aa58e",
   "metadata": {
    "jupyter": {
     "source_hidden": true
    }
   },
   "outputs": [],
   "source": [
    "test = [\n",
    "    activity for activity in eidb\n",
    "    if 'market for municipal solid waste' in activity['name']    \n",
    "    and 'RoW' in activity['location']  \n",
    "][0]\n",
    "test"
   ]
  },
  {
   "cell_type": "code",
   "execution_count": null,
   "id": "0dde64e5-c9d3-4694-abe1-4813289fe541",
   "metadata": {
    "jupyter": {
     "source_hidden": true
    }
   },
   "outputs": [],
   "source": [
    "# Checker les échanges dans une activité\n",
    "for exc in test.technosphere():\n",
    "    print(exc.input, exc.amount, exc.output)"
   ]
  },
  {
   "cell_type": "code",
   "execution_count": null,
   "id": "8b46f8e6-0268-408e-b95a-3ecccc198854",
   "metadata": {
    "jupyter": {
     "source_hidden": true
    }
   },
   "outputs": [],
   "source": [
    "# Supprimer toutes les activités répondant à un critère de la base de données\n",
    "for activity in elec_bl:\n",
    "    if ', onsite' in activity['name'] or ', offsite' in activity['name']:\n",
    "#        activity.delete()\n",
    "    else:\n",
    "        pass"
   ]
  },
  {
   "cell_type": "code",
   "execution_count": null,
   "id": "a7fc66c7-5995-444f-aa1f-f170e07bb123",
   "metadata": {
    "jupyter": {
     "source_hidden": true
    }
   },
   "outputs": [],
   "source": [
    "# Trouver une liste d'activités et lister les échanges de chaque activité\n",
    "\n",
    "# Step 1: Find all activities with 'waste_' in their name\n",
    "waste_activities = [act for act in elec_bl if 'waste_' in act['name']]\n",
    "\n",
    "# Step 2: Create a dictionary to map exchanges to the activities where they are found\n",
    "exchange_to_activities = {}\n",
    "\n",
    "for activity in waste_activities:\n",
    "    for exc in activity.exchanges():\n",
    "        exchange_name = exc.input['name']\n",
    "        if exchange_name not in exchange_to_activities:\n",
    "            # Initialize a list for the exchange if it's not already in the dictionary\n",
    "            exchange_to_activities[exchange_name] = []\n",
    "        # Add the activity name to the list for this exchange\n",
    "        exchange_to_activities[exchange_name].append(activity['name'])\n",
    "\n",
    "# Display the exchanges along with the list of activities in which they are found\n",
    "for exchange_name, activities in exchange_to_activities.items():\n",
    "    print(f\"Exchange: {exchange_name}, Found in activities: {', '.join(activities)}\")"
   ]
  },
  {
   "cell_type": "code",
   "execution_count": null,
   "id": "ed464027-26ca-4ff4-aac2-b3e73d9cd9c1",
   "metadata": {},
   "outputs": [],
   "source": [
    "# Sélectionner une activité dans une bdd\n",
    "activity_1 = [\n",
    "    activity for activity in case_studies\n",
    "    #if 'offsite' in activity['name']\n",
    "#    if 'electricity, baseline' in activity['name']   \n",
    "    if 'heat production, wood pellet, at furnace 300kW' in activity['name']\n",
    "    and not 'onsite' in activity['name']\n",
    "    and not 'offsite' in activity['name']  \n",
    "\n",
    "#    and '300' in activity['name']   \n",
    "#    and activity['location'] == 'RoW'\n",
    "][0]\n",
    "activity_1"
   ]
  },
  {
   "cell_type": "code",
   "execution_count": null,
   "id": "099b8f23-d8fb-4687-804f-f2168e0d39ee",
   "metadata": {},
   "outputs": [],
   "source": [
    "for exc in activity_1.exchanges():\n",
    "    if exc['type']!= \"biosphere\":\n",
    "        print(f'{exc.input['name']}, {exc['amount']}, {exc['unit']}, {exc['type']}, {exc.input['location']}')"
   ]
  },
  {
   "cell_type": "code",
   "execution_count": null,
   "id": "b830a59d-5225-4f4e-ab88-f284ca2bc0d7",
   "metadata": {},
   "outputs": [],
   "source": [
    "# Sélectionner une activité dans une bdd\n",
    "activity_2 = [\n",
    "    activity for activity in eidb\n",
    "    if 'heat production, wood pellet, at furnace 300kW' in activity['name']\n",
    "#    and 'treatment' in activity['name']   \n",
    "    and not 'market' in activity['name']   \n",
    "    and activity['location'] == 'RoW'\n",
    "][0]\n",
    "activity_2"
   ]
  },
  {
   "cell_type": "code",
   "execution_count": null,
   "id": "294aabf8-c415-45ba-b414-8c73f800a5e4",
   "metadata": {},
   "outputs": [],
   "source": [
    "for exc in activity_2.exchanges():\n",
    "    if exc['type']!= \"biosphere\":\n",
    "        print(f'{exc.input['name']}, {exc['amount']}, {exc['unit']}, {exc['type']}, {exc.input['location']}')"
   ]
  },
  {
   "cell_type": "code",
   "execution_count": null,
   "id": "6e03aa2e-ce6a-4bf8-adfe-70f9d4de79a1",
   "metadata": {},
   "outputs": [],
   "source": [
    "total_amount_test = 0\n",
    "for exc in activity_6.technosphere():\n",
    "    if exc['amount']<0:\n",
    "        print(total_amount_test)\n",
    "        total_amount_test += exc['amount']\n",
    "total_amount_test"
   ]
  }
 ],
 "metadata": {
  "kernelspec": {
   "display_name": "Python 3 (ipykernel)",
   "language": "python",
   "name": "python3"
  },
  "language_info": {
   "codemirror_mode": {
    "name": "ipython",
    "version": 3
   },
   "file_extension": ".py",
   "mimetype": "text/x-python",
   "name": "python",
   "nbconvert_exporter": "python",
   "pygments_lexer": "ipython3",
   "version": "3.12.3"
  }
 },
 "nbformat": 4,
 "nbformat_minor": 5
}
